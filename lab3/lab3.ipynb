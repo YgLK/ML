{
 "cells": [
  {
   "cell_type": "code",
   "execution_count": 1,
   "id": "24462d05-6ade-4bec-a782-eb435bf6b4f0",
   "metadata": {},
   "outputs": [],
   "source": [
    "import numpy as np\n",
    "import pandas as pd\n",
    "import matplotlib.pyplot as plt\n",
    "\n",
    "import pickle"
   ]
  },
  {
   "cell_type": "code",
   "execution_count": 2,
   "id": "a78211dc-d350-4c96-9ba9-ff482c85fa7c",
   "metadata": {},
   "outputs": [
    {
     "data": {
      "image/png": "[encoded data removed]",
      "text/plain": [
       "<Figure size 432x288 with 1 Axes>"
      ]
     },
     "metadata": {
      "needs_background": "light"
     },
     "output_type": "display_data"
    }
   ],
   "source": [
    "size = 300\n",
    "X = np.random.rand(size)*5-2.5\n",
    "w4, w3, w2, w1, w0 = 1, 2, 1, -4, 2\n",
    "y = w4*(X**4) + w3*(X**3) + w2*(X**2) + w1*X + w0 + np.random.randn(size)*8-4 \n",
    "df = pd.DataFrame({'x': X, 'y': y}) \n",
    "df.to_csv('dane_do_regresji.csv',index=None)\n",
    "df.plot.scatter(x='x',y='y')\n",
    "\n",
    "# reshape in order to get it accepted by the models\n",
    "X = X.reshape(-1, 1)"
   ]
  },
  {
   "cell_type": "code",
   "execution_count": 3,
   "id": "48e6522e-0810-43b1-bc95-98d9ae674834",
   "metadata": {},
   "outputs": [],
   "source": [
    "from sklearn.model_selection import train_test_split\n",
    "X_train, X_test, y_train, y_test= train_test_split(X, y, test_size=0.2)\n",
    "X_train = X_train.reshape(-1,1)\n",
    "X_test = X_test.reshape(-1,1)"
   ]
  },
  {
   "cell_type": "code",
   "execution_count": 4,
   "id": "cb21d98c-fc0f-4ba3-a3df-07641238ef14",
   "metadata": {},
   "outputs": [
    {
     "data": {
      "text/html": [
       "<div>\n",
       "<style scoped>\n",
       "    .dataframe tbody tr th:only-of-type {\n",
       "        vertical-align: middle;\n",
       "    }\n",
       "\n",
       "    .dataframe tbody tr th {\n",
       "        vertical-align: top;\n",
       "    }\n",
       "\n",
       "    .dataframe thead th {\n",
       "        text-align: right;\n",
       "    }\n",
       "</style>\n",
       "<table border=\"1\" class=\"dataframe\">\n",
       "  <thead>\n",
       "    <tr style=\"text-align: right;\">\n",
       "      <th></th>\n",
       "      <th>x</th>\n",
       "      <th>y</th>\n",
       "    </tr>\n",
       "  </thead>\n",
       "  <tbody>\n",
       "    <tr>\n",
       "      <th>0</th>\n",
       "      <td>-0.074050</td>\n",
       "      <td>-10.782174</td>\n",
       "    </tr>\n",
       "    <tr>\n",
       "      <th>1</th>\n",
       "      <td>-0.860768</td>\n",
       "      <td>-6.316946</td>\n",
       "    </tr>\n",
       "    <tr>\n",
       "      <th>2</th>\n",
       "      <td>-0.669472</td>\n",
       "      <td>8.550536</td>\n",
       "    </tr>\n",
       "    <tr>\n",
       "      <th>3</th>\n",
       "      <td>0.956095</td>\n",
       "      <td>7.882251</td>\n",
       "    </tr>\n",
       "    <tr>\n",
       "      <th>4</th>\n",
       "      <td>-1.137642</td>\n",
       "      <td>5.228115</td>\n",
       "    </tr>\n",
       "  </tbody>\n",
       "</table>\n",
       "</div>"
      ],
      "text/plain": [
       "          x          y\n",
       "0 -0.074050 -10.782174\n",
       "1 -0.860768  -6.316946\n",
       "2 -0.669472   8.550536\n",
       "3  0.956095   7.882251\n",
       "4 -1.137642   5.228115"
      ]
     },
     "execution_count": 4,
     "metadata": {},
     "output_type": "execute_result"
    }
   ],
   "source": [
    "df.head()"
   ]
  },
  {
   "cell_type": "markdown",
   "id": "b1c42b2c-eb2a-4fbe-8839-66ed5ea803d4",
   "metadata": {},
   "source": [
    "# LinearRegression"
   ]
  },
  {
   "cell_type": "code",
   "execution_count": 5,
   "id": "e9931974-1fd4-4901-9608-c20c018fbd7d",
   "metadata": {},
   "outputs": [
    {
     "name": "stdout",
     "output_type": "stream",
     "text": [
      "8.224494386312395 [3.23344955] \n",
      "\n"
     ]
    }
   ],
   "source": [
    "from sklearn.linear_model import LinearRegression\n",
    "\n",
    "lin_reg = LinearRegression()\n",
    "lin_reg.fit(X_train,y_train)\n",
    "print(lin_reg.intercept_, lin_reg.coef_, \"\\n\")"
   ]
  },
  {
   "cell_type": "code",
   "execution_count": 6,
   "id": "817e98e8-3709-4c66-b723-4824ff0922f9",
   "metadata": {},
   "outputs": [],
   "source": [
    "lin_test_y = lin_reg.predict(X_test)\n",
    "lin_train_y = lin_reg.predict(X_train)"
   ]
  },
  {
   "cell_type": "code",
   "execution_count": 7,
   "id": "5939bd46-9454-41ce-90a7-197d613fbaf1",
   "metadata": {},
   "outputs": [
    {
     "data": {
      "text/plain": [
       "[<matplotlib.lines.Line2D at 0x2404a017b80>]"
      ]
     },
     "execution_count": 7,
     "metadata": {},
     "output_type": "execute_result"
    },
    {
     "data": {
      "image/png": "[encoded data removed]",
      "text/plain": [
       "<Figure size 432x288 with 1 Axes>"
      ]
     },
     "metadata": {
      "needs_background": "light"
     },
     "output_type": "display_data"
    }
   ],
   "source": [
    "# clear plot if any occurs\n",
    "plt.clf()\n",
    "# plot initial points\n",
    "plt.plot(X_test, y_test,'.')\n",
    "# plot linear regression result\n",
    "plt.plot(X_test, lin_test_y)"
   ]
  },
  {
   "cell_type": "code",
   "execution_count": 8,
   "id": "ce0f1075-bd23-4a43-8b98-78af185117f0",
   "metadata": {},
   "outputs": [
    {
     "data": {
      "text/plain": [
       "[<matplotlib.lines.Line2D at 0x2404a095250>]"
      ]
     },
     "execution_count": 8,
     "metadata": {},
     "output_type": "execute_result"
    },
    {
     "data": {
      "image/png": "[encoded data removed]",
      "text/plain": [
       "<Figure size 432x288 with 1 Axes>"
      ]
     },
     "metadata": {
      "needs_background": "light"
     },
     "output_type": "display_data"
    }
   ],
   "source": [
    "# clear plot if any occurs\n",
    "plt.clf()\n",
    "# plot initial points\n",
    "plt.plot(X_train, y_train,'.')\n",
    "# plot linear regression result\n",
    "plt.plot(X_train, lin_train_y)"
   ]
  },
  {
   "cell_type": "markdown",
   "id": "0eeaeed1-15e8-475e-98e2-aa35fb1f43ce",
   "metadata": {},
   "source": [
    "# KNN"
   ]
  },
  {
   "cell_type": "code",
   "execution_count": 9,
   "id": "8955fe4c-a09e-4153-8777-55650e278b32",
   "metadata": {},
   "outputs": [
    {
     "data": {
      "text/plain": [
       "KNeighborsRegressor(n_neighbors=3)"
      ]
     },
     "execution_count": 9,
     "metadata": {},
     "output_type": "execute_result"
    }
   ],
   "source": [
    "from sklearn.neighbors import KNeighborsRegressor\n",
    "\n",
    "# k = 3 \n",
    "knn_3_reg = KNeighborsRegressor(n_neighbors=3)\n",
    "knn_3_reg.fit(X_train,y_train)"
   ]
  },
  {
   "cell_type": "code",
   "execution_count": 10,
   "id": "71daa4ca-3aca-40ba-8277-b00af31e8b97",
   "metadata": {},
   "outputs": [],
   "source": [
    "knn_3_test_y = knn_3_reg.predict(X_test)\n",
    "knn_3_train_y = knn_3_reg.predict(X_train)"
   ]
  },
  {
   "cell_type": "code",
   "execution_count": 11,
   "id": "b97406e5-4552-4904-8b75-4abdba4c4db1",
   "metadata": {},
   "outputs": [
    {
     "data": {
      "text/plain": [
       "[<matplotlib.lines.Line2D at 0x2404a1d32b0>]"
      ]
     },
     "execution_count": 11,
     "metadata": {},
     "output_type": "execute_result"
    },
    {
     "data": {
      "image/png": "[encoded data removed]",
      "text/plain": [
       "<Figure size 432x288 with 1 Axes>"
      ]
     },
     "metadata": {
      "needs_background": "light"
     },
     "output_type": "display_data"
    }
   ],
   "source": [
    "# clear plot if any occurs\n",
    "plt.clf()\n",
    "# plot initial points\n",
    "plt.plot(X_test, y_test,'.')\n",
    "# plot KNN result\n",
    "plt.plot(X_test, knn_3_test_y, 'r.')"
   ]
  },
  {
   "cell_type": "code",
   "execution_count": 12,
   "id": "4dd310c2-5258-4f06-918d-358706ea663a",
   "metadata": {},
   "outputs": [
    {
     "data": {
      "text/plain": [
       "KNeighborsRegressor()"
      ]
     },
     "execution_count": 12,
     "metadata": {},
     "output_type": "execute_result"
    }
   ],
   "source": [
    "# k = 5 \n",
    "knn_5_reg = KNeighborsRegressor(n_neighbors=5)\n",
    "knn_5_reg.fit(X_train,y_train)"
   ]
  },
  {
   "cell_type": "code",
   "execution_count": 13,
   "id": "7b3291d9-bbe1-4ae6-a1ef-02de500434ef",
   "metadata": {},
   "outputs": [],
   "source": [
    "knn_5_test_y = knn_5_reg.predict(X_test)"
   ]
  },
  {
   "cell_type": "code",
   "execution_count": 14,
   "id": "2df37f9f-21af-41d5-8bdb-e4e0db85ae21",
   "metadata": {},
   "outputs": [
    {
     "data": {
      "text/plain": [
       "[<matplotlib.lines.Line2D at 0x2404a245910>]"
      ]
     },
     "execution_count": 14,
     "metadata": {},
     "output_type": "execute_result"
    },
    {
     "data": {
      "image/png": "[encoded data removed]",
      "text/plain": [
       "<Figure size 432x288 with 1 Axes>"
      ]
     },
     "metadata": {
      "needs_background": "light"
     },
     "output_type": "display_data"
    }
   ],
   "source": [
    "# clear plot if any occurs\n",
    "plt.clf()\n",
    "# plot initial points\n",
    "plt.plot(X_test, y_test,'.')\n",
    "# plot KNN result\n",
    "plt.plot(X_test, knn_5_test_y, 'r.')"
   ]
  },
  {
   "cell_type": "markdown",
   "id": "35747c52-449f-4cec-931a-ccc389546ce4",
   "metadata": {},
   "source": [
    "# Polynomials"
   ]
  },
  {
   "cell_type": "code",
   "execution_count": 15,
   "id": "ac54d8ff-a69f-4ea7-a192-2b2593c85f90",
   "metadata": {},
   "outputs": [],
   "source": [
    "from sklearn.preprocessing import PolynomialFeatures"
   ]
  },
  {
   "cell_type": "code",
   "execution_count": 16,
   "id": "6d57d564-8a23-42e5-bd7a-ebe99e99ae8f",
   "metadata": {},
   "outputs": [],
   "source": [
    "def plot_polynomial(X, y, predY):\n",
    "    # clear plot\n",
    "    plt.clf()\n",
    "    # plot initial points\n",
    "    plt.plot(X, y,'.')\n",
    "    # plot predictions\n",
    "    plt.plot(X, predY,'r.')"
   ]
  },
  {
   "cell_type": "markdown",
   "id": "61fd42f4-4121-4b75-9d34-88057db7a7d0",
   "metadata": {
    "tags": []
   },
   "source": [
    "### 2ND GRADE POLYNOMIAL"
   ]
  },
  {
   "cell_type": "code",
   "execution_count": 17,
   "id": "5b9d1b28-4aa2-4903-85fa-9394fd8ba318",
   "metadata": {},
   "outputs": [
    {
     "name": "stdout",
     "output_type": "stream",
     "text": [
      "Coefficients:  [3.61765237 6.42918884] \n",
      " Intercept:  -5.29455836942193 \n",
      "\n"
     ]
    }
   ],
   "source": [
    "# 2\n",
    "poly_feature_2 = PolynomialFeatures(degree=2, include_bias=False)\n",
    "X_poly2 = poly_feature_2.fit_transform(X_train)\n",
    "\n",
    "poly_2_reg = LinearRegression()\n",
    "poly_2_reg.fit(X_poly2, y_train)\n",
    "print(\"Coefficients: \", poly_2_reg.coef_, \"\\n\", \"Intercept: \", poly_2_reg.intercept_,\"\\n\")\n",
    "lin2_predY = poly_2_reg.predict(poly_feature_2.fit_transform(X_test))"
   ]
  },
  {
   "cell_type": "code",
   "execution_count": 18,
   "id": "695ac237-69ae-4eb3-9c0d-f0237396e510",
   "metadata": {},
   "outputs": [
    {
     "name": "stdout",
     "output_type": "stream",
     "text": [
      "6.429188839896293  x**2 +  3.617652365228493  x +  -5.29455836942193\n"
     ]
    }
   ],
   "source": [
    "print(poly_2_reg.coef_[1], \" x**2 + \", poly_2_reg.coef_[0], \" x + \", poly_2_reg.intercept_)\n",
    "# print(poly_2_reg.coef_[0][1] * 2**2 + poly_2_reg.coef_[0][0] * 2 + poly_2_reg.intercept_[0])"
   ]
  },
  {
   "cell_type": "code",
   "execution_count": 19,
   "id": "a6d9dcc4-34a4-4d9a-b00f-76db4e383fe7",
   "metadata": {},
   "outputs": [
    {
     "data": {
      "image/png": "[encoded data removed]",
      "text/plain": [
       "<Figure size 432x288 with 1 Axes>"
      ]
     },
     "metadata": {
      "needs_background": "light"
     },
     "output_type": "display_data"
    }
   ],
   "source": [
    "# plot test set\n",
    "plot_polynomial(X_test, y_test, lin2_predY)"
   ]
  },
  {
   "cell_type": "code",
   "execution_count": 20,
   "id": "c6520f16-599d-4974-9acc-4db72b1b9bb1",
   "metadata": {},
   "outputs": [
    {
     "data": {
      "image/png": "[encoded data removed]",
      "text/plain": [
       "<Figure size 432x288 with 1 Axes>"
      ]
     },
     "metadata": {
      "needs_background": "light"
     },
     "output_type": "display_data"
    }
   ],
   "source": [
    "# plot all points\n",
    "plot_polynomial(X, y, poly_2_reg.predict(poly_feature_2.fit_transform(X)))"
   ]
  },
  {
   "cell_type": "markdown",
   "id": "7434207c-ab40-40bd-bebe-425ef99c6e19",
   "metadata": {
    "tags": []
   },
   "source": [
    "### 3RD GRADE POLYNOMIAL"
   ]
  },
  {
   "cell_type": "code",
   "execution_count": 21,
   "id": "0f0710d9-7768-46b1-b694-d28c19cac2ad",
   "metadata": {},
   "outputs": [
    {
     "name": "stdout",
     "output_type": "stream",
     "text": [
      "Coefficients:  [-3.68059895  6.66768178  1.89678481] \n",
      " Intercept:  -5.875692063581409 \n",
      "\n"
     ]
    }
   ],
   "source": [
    "poly_feature_3 = PolynomialFeatures(degree=3, include_bias=False)\n",
    "X_poly3 = poly_feature_3.fit_transform(X_train)\n",
    "\n",
    "poly_3_reg = LinearRegression()\n",
    "poly_3_reg.fit(X_poly3, y_train)\n",
    "print(\"Coefficients: \", poly_3_reg.coef_, \"\\n\", \"Intercept: \", poly_3_reg.intercept_,\"\\n\")\n",
    "lin3_predY = poly_3_reg.predict(poly_feature_3.fit_transform(X_test))"
   ]
  },
  {
   "cell_type": "code",
   "execution_count": 22,
   "id": "c0d28c95-d7b1-416c-a1d5-62d88a7ab98a",
   "metadata": {},
   "outputs": [
    {
     "name": "stdout",
     "output_type": "stream",
     "text": [
      "1.8967848060684105 x**3 + 6.667681775063854 x**2 + -3.6805989508472208 x +  -5.875692063581409\n"
     ]
    }
   ],
   "source": [
    "print(poly_3_reg.coef_[2], \"x**3 +\", poly_3_reg.coef_[1], \"x**2 +\", poly_3_reg.coef_[0], \"x + \", poly_3_reg.intercept_)"
   ]
  },
  {
   "cell_type": "code",
   "execution_count": 23,
   "id": "38ee626c-7b64-4a1b-9fd4-f8cfdb3b0b58",
   "metadata": {},
   "outputs": [
    {
     "data": {
      "image/png": "[encoded data removed]",
      "text/plain": [
       "<Figure size 432x288 with 1 Axes>"
      ]
     },
     "metadata": {
      "needs_background": "light"
     },
     "output_type": "display_data"
    }
   ],
   "source": [
    "# plot test set\n",
    "plot_polynomial(X_test, y_test, lin3_predY)"
   ]
  },
  {
   "cell_type": "code",
   "execution_count": 24,
   "id": "b2c26b5a-1a75-4e51-a3fe-8ee3b1e66a0f",
   "metadata": {},
   "outputs": [
    {
     "data": {
      "image/png": "[encoded data removed]",
      "text/plain": [
       "<Figure size 432x288 with 1 Axes>"
      ]
     },
     "metadata": {
      "needs_background": "light"
     },
     "output_type": "display_data"
    }
   ],
   "source": [
    "# plot all points\n",
    "plot_polynomial(X, y, poly_3_reg.predict(poly_feature_3.fit_transform(X)))"
   ]
  },
  {
   "cell_type": "markdown",
   "id": "86ae54f0-2e83-4095-8b17-fa6dc040c9c4",
   "metadata": {
    "tags": []
   },
   "source": [
    "### 4TH GRADE POLYNOMIAL"
   ]
  },
  {
   "cell_type": "code",
   "execution_count": 25,
   "id": "849b1f47-f96d-4a96-a55c-fde74164afe1",
   "metadata": {},
   "outputs": [
    {
     "name": "stdout",
     "output_type": "stream",
     "text": [
      "Coefficients:  [-3.93577488  0.31619678  1.98994732  1.18430751] \n",
      " Intercept:  -2.099672578841348 \n",
      "\n"
     ]
    }
   ],
   "source": [
    "poly_feature_4 = PolynomialFeatures(degree=4, include_bias=False)\n",
    "X_poly4 = poly_feature_4.fit_transform(X_train)\n",
    "\n",
    "poly_4_reg = LinearRegression()\n",
    "poly_4_reg.fit(X_poly4, y_train)\n",
    "print(\"Coefficients: \", poly_4_reg.coef_, \"\\n\", \"Intercept: \", poly_4_reg.intercept_,\"\\n\")\n",
    "lin4_predY = poly_4_reg.predict(poly_feature_4.fit_transform(X_test))"
   ]
  },
  {
   "cell_type": "code",
   "execution_count": 26,
   "id": "ec27ec0d-ef1c-46be-af45-77f6490ae57f",
   "metadata": {},
   "outputs": [
    {
     "name": "stdout",
     "output_type": "stream",
     "text": [
      "1.1843075081480556 x**4 + 1.989947319087095 x**3 + 0.31619678100424525 x**2 + -3.9357748826084595 x +  -2.099672578841348\n"
     ]
    }
   ],
   "source": [
    "print(poly_4_reg.coef_[3], \"x**4 +\", poly_4_reg.coef_[2], \"x**3 +\", poly_4_reg.coef_[1], \"x**2 +\", poly_4_reg.coef_[0], \"x + \", poly_4_reg.intercept_)"
   ]
  },
  {
   "cell_type": "code",
   "execution_count": 27,
   "id": "1c711d29-4aeb-4826-a2bc-5263f23437e7",
   "metadata": {},
   "outputs": [
    {
     "data": {
      "image/png": "[encoded data removed]",
      "text/plain": [
       "<Figure size 432x288 with 1 Axes>"
      ]
     },
     "metadata": {
      "needs_background": "light"
     },
     "output_type": "display_data"
    }
   ],
   "source": [
    "# plot test set\n",
    "plot_polynomial(X_test, y_test, lin4_predY)"
   ]
  },
  {
   "cell_type": "code",
   "execution_count": 28,
   "id": "3d5324ac-a6db-40b5-955c-a791cf1c8356",
   "metadata": {},
   "outputs": [
    {
     "data": {
      "image/png": "[encoded data removed]",
      "text/plain": [
       "<Figure size 432x288 with 1 Axes>"
      ]
     },
     "metadata": {
      "needs_background": "light"
     },
     "output_type": "display_data"
    }
   ],
   "source": [
    "# plot all points\n",
    "plot_polynomial(X, y, poly_4_reg.predict(poly_feature_4.fit_transform(X)))"
   ]
  },
  {
   "cell_type": "markdown",
   "id": "60dc4e7a-e9d3-41d5-bcdb-ff03e7e1dc7d",
   "metadata": {
    "tags": []
   },
   "source": [
    "### 5TH GRADE POLYNOMIAL"
   ]
  },
  {
   "cell_type": "code",
   "execution_count": 29,
   "id": "afa85a81-69be-486a-b1f8-0a8ce91503b9",
   "metadata": {},
   "outputs": [
    {
     "name": "stdout",
     "output_type": "stream",
     "text": [
      "Coefficients:  [-3.77401561  0.30131699  1.87004917  1.18708936  0.01717761] \n",
      " Intercept:  -2.08656749871294 \n",
      "\n"
     ]
    }
   ],
   "source": [
    "poly_feature_5 = PolynomialFeatures(degree=5, include_bias=False)\n",
    "X_poly5 = poly_feature_5.fit_transform(X_train)\n",
    "\n",
    "poly_5_reg = LinearRegression()\n",
    "poly_5_reg.fit(X_poly5, y_train)\n",
    "print(\"Coefficients: \", poly_5_reg.coef_, \"\\n\", \"Intercept: \", poly_5_reg.intercept_,\"\\n\")\n",
    "lin5_predY = poly_5_reg.predict(poly_feature_5.fit_transform(X_test))"
   ]
  },
  {
   "cell_type": "code",
   "execution_count": 30,
   "id": "ca734fae-6257-459f-8e3c-df0f13549707",
   "metadata": {},
   "outputs": [
    {
     "name": "stdout",
     "output_type": "stream",
     "text": [
      "0.017177614419345972 x**5 + 1.1870893599126209 x**4 + 1.870049168467681 x**3 + 0.30131699333670314 x**2 + -3.77401560981854 x +  -2.08656749871294\n"
     ]
    }
   ],
   "source": [
    "print(poly_5_reg.coef_[4], \"x**5 +\", poly_5_reg.coef_[3], \"x**4 +\", poly_5_reg.coef_[2], \"x**3 +\", poly_5_reg.coef_[1], \"x**2 +\", poly_5_reg.coef_[0], \"x + \", poly_5_reg.intercept_)"
   ]
  },
  {
   "cell_type": "code",
   "execution_count": 31,
   "id": "310bd7c2-e2c4-4a43-ad22-ea18b40f5cb2",
   "metadata": {},
   "outputs": [
    {
     "data": {
      "image/png": "[encoded data removed]",
      "text/plain": [
       "<Figure size 432x288 with 1 Axes>"
      ]
     },
     "metadata": {
      "needs_background": "light"
     },
     "output_type": "display_data"
    }
   ],
   "source": [
    "# plot test set\n",
    "plot_polynomial(X_test, y_test, lin5_predY)"
   ]
  },
  {
   "cell_type": "code",
   "execution_count": 32,
   "id": "ce5a6a7a-5aa0-400b-99a5-90200423399f",
   "metadata": {},
   "outputs": [
    {
     "data": {
      "image/png": "[encoded data removed]",
      "text/plain": [
       "<Figure size 432x288 with 1 Axes>"
      ]
     },
     "metadata": {
      "needs_background": "light"
     },
     "output_type": "display_data"
    }
   ],
   "source": [
    "# plot all points\n",
    "plot_polynomial(X, y, poly_5_reg.predict(poly_feature_5.fit_transform(X)))"
   ]
  },
  {
   "cell_type": "markdown",
   "id": "83ca1623-46ec-448f-906b-68d12fb78d64",
   "metadata": {},
   "source": [
    "# Mean Squared Error (MSE)"
   ]
  },
  {
   "cell_type": "code",
   "execution_count": 33,
   "id": "b4ed2e72-d2c1-405a-a357-e18c74945e00",
   "metadata": {},
   "outputs": [],
   "source": [
    "from sklearn.metrics import mean_squared_error"
   ]
  },
  {
   "cell_type": "markdown",
   "id": "1f8c1868-8c72-4ae2-b79c-a04c9de8c35d",
   "metadata": {},
   "source": [
    "### lin_reg MSE"
   ]
  },
  {
   "cell_type": "code",
   "execution_count": 34,
   "id": "ffa05e6f-16b5-4024-85b9-a21390585b04",
   "metadata": {},
   "outputs": [
    {
     "name": "stdout",
     "output_type": "stream",
     "text": [
      "lin_test_mse:  219.47838931188318\n",
      "lin_train_mse:  242.34054882516992\n"
     ]
    }
   ],
   "source": [
    "# lin_reg MSE\n",
    "lin_reg_pred_test = lin_reg.predict(X_test)\n",
    "lin_reg_pred_train = lin_reg.predict(X_train)\n",
    "lin_test_mse = mean_squared_error(y_test, lin_reg_pred_test)\n",
    "lin_train_mse = mean_squared_error(y_train, lin_reg_pred_train)\n",
    "print(\"lin_test_mse: \", lin_test_mse)\n",
    "print(\"lin_train_mse: \", lin_train_mse)"
   ]
  },
  {
   "cell_type": "markdown",
   "id": "5b97be61-a8fd-4f99-b0a3-073d015836af",
   "metadata": {},
   "source": [
    "### KNN_reg MSE"
   ]
  },
  {
   "cell_type": "code",
   "execution_count": 35,
   "id": "1d49475b-80b3-48c2-8fc7-f9eadc258dfc",
   "metadata": {},
   "outputs": [
    {
     "name": "stdout",
     "output_type": "stream",
     "text": [
      "knn_3_test_mse:  48.55974765733795\n",
      "knn_3_train_mse:  38.90107120192459\n"
     ]
    }
   ],
   "source": [
    "knn_3_reg_pred_test = knn_3_reg.predict(X_test)\n",
    "knn_3_reg_pred_train = knn_3_reg.predict(X_train)\n",
    "knn_3_test_mse = mean_squared_error(y_test, knn_3_reg_pred_test)\n",
    "knn_3_train_mse = mean_squared_error(y_train, knn_3_reg_pred_train)\n",
    "print(\"knn_3_test_mse: \", knn_3_test_mse)\n",
    "print(\"knn_3_train_mse: \", knn_3_train_mse)"
   ]
  },
  {
   "cell_type": "code",
   "execution_count": 36,
   "id": "d2bee453-c0ca-4040-b0fb-e452922bd195",
   "metadata": {},
   "outputs": [
    {
     "name": "stdout",
     "output_type": "stream",
     "text": [
      "knn_5_test_mse:  50.24383743403386\n",
      "knn_5_train_mse:  46.106491794808825\n"
     ]
    }
   ],
   "source": [
    "knn_5_reg_pred_test = knn_5_reg.predict(X_test)\n",
    "knn_5_reg_pred_train = knn_5_reg.predict(X_train)\n",
    "knn_5_test_mse = mean_squared_error(y_test, knn_5_reg_pred_test)\n",
    "knn_5_train_mse = mean_squared_error(y_train, knn_5_reg_pred_train)\n",
    "print(\"knn_5_test_mse: \", knn_5_test_mse)\n",
    "print(\"knn_5_train_mse: \", knn_5_train_mse)"
   ]
  },
  {
   "cell_type": "markdown",
   "id": "69c10f93-6504-4d79-8fe3-a2d0e26dd174",
   "metadata": {},
   "source": [
    "### Polynomial MSE"
   ]
  },
  {
   "cell_type": "code",
   "execution_count": 37,
   "id": "9cde9c6c-66c3-42bf-bb2b-808554f802f8",
   "metadata": {},
   "outputs": [
    {
     "name": "stdout",
     "output_type": "stream",
     "text": [
      "poly_2_test_mse:  77.03599715872355\n",
      "poly_2_train_mse:  90.58437417848124\n"
     ]
    }
   ],
   "source": [
    "poly_2_reg_pred_test = poly_2_reg.predict(poly_feature_2.fit_transform(X_test))\n",
    "poly_2_reg_pred_train = poly_2_reg.predict(poly_feature_2.fit_transform(X_train))\n",
    "poly_2_test_mse = mean_squared_error(y_test, poly_2_reg_pred_test)\n",
    "poly_2_train_mse = mean_squared_error(y_train, poly_2_reg_pred_train)\n",
    "print(\"poly_2_test_mse: \", poly_2_test_mse)\n",
    "print(\"poly_2_train_mse: \", poly_2_train_mse)"
   ]
  },
  {
   "cell_type": "code",
   "execution_count": 38,
   "id": "dba41dc6-529c-48c2-b69e-665b90c8f248",
   "metadata": {},
   "outputs": [
    {
     "name": "stdout",
     "output_type": "stream",
     "text": [
      "poly_3_test_mse:  46.97837804196756\n",
      "poly_3_train_mse:  70.64640383996608\n"
     ]
    }
   ],
   "source": [
    "poly_3_reg_pred_test = poly_3_reg.predict(poly_feature_3.fit_transform(X_test))\n",
    "poly_3_reg_pred_train = poly_3_reg.predict(poly_feature_3.fit_transform(X_train))\n",
    "poly_3_test_mse = mean_squared_error(y_test, poly_3_reg_pred_test)\n",
    "poly_3_train_mse = mean_squared_error(y_train, poly_3_reg_pred_train)\n",
    "print(\"poly_3_test_mse: \", poly_3_test_mse)\n",
    "print(\"poly_3_train_mse: \", poly_3_train_mse)"
   ]
  },
  {
   "cell_type": "code",
   "execution_count": 39,
   "id": "b1242183-a596-47ea-98a0-aafdbf32a7a4",
   "metadata": {},
   "outputs": [
    {
     "name": "stdout",
     "output_type": "stream",
     "text": [
      "poly_4_test_mse:  38.932580227234745\n",
      "poly_4_train_mse:  58.02798256792957\n"
     ]
    }
   ],
   "source": [
    "poly_4_reg_pred_test = poly_4_reg.predict(poly_feature_4.fit_transform(X_test))\n",
    "poly_4_reg_pred_train = poly_4_reg.predict(poly_feature_4.fit_transform(X_train))\n",
    "poly_4_test_mse = mean_squared_error(y_test, poly_4_reg_pred_test)\n",
    "poly_4_train_mse = mean_squared_error(y_train, poly_4_reg_pred_train)\n",
    "print(\"poly_4_test_mse: \", poly_4_test_mse)\n",
    "print(\"poly_4_train_mse: \", poly_4_train_mse)"
   ]
  },
  {
   "cell_type": "code",
   "execution_count": 40,
   "id": "a8c1e1ed-5647-4258-9eb2-6f6ff8153b8c",
   "metadata": {},
   "outputs": [
    {
     "name": "stdout",
     "output_type": "stream",
     "text": [
      "poly_5_test_mse:  39.03481336258604\n",
      "poly_5_train_mse:  58.02378001008437\n"
     ]
    }
   ],
   "source": [
    "poly_5_reg_pred_test = poly_5_reg.predict(poly_feature_5.fit_transform(X_test))\n",
    "poly_5_reg_pred_train = poly_5_reg.predict(poly_feature_5.fit_transform(X_train))\n",
    "poly_5_test_mse = mean_squared_error(y_test, poly_5_reg_pred_test)\n",
    "poly_5_train_mse = mean_squared_error(y_train, poly_5_reg_pred_train)\n",
    "print(\"poly_5_test_mse: \", poly_5_test_mse)\n",
    "print(\"poly_5_train_mse: \", poly_5_train_mse)"
   ]
  },
  {
   "cell_type": "markdown",
   "id": "413dcc17-b997-4d21-8f28-f5d35ad77c3d",
   "metadata": {},
   "source": [
    "## MSE DataFrame "
   ]
  },
  {
   "cell_type": "code",
   "execution_count": 41,
   "id": "48b2aabe-fa97-4ac9-a1da-e9ce5dafb8c2",
   "metadata": {},
   "outputs": [
    {
     "data": {
      "text/html": [
       "<div>\n",
       "<style scoped>\n",
       "    .dataframe tbody tr th:only-of-type {\n",
       "        vertical-align: middle;\n",
       "    }\n",
       "\n",
       "    .dataframe tbody tr th {\n",
       "        vertical-align: top;\n",
       "    }\n",
       "\n",
       "    .dataframe thead th {\n",
       "        text-align: right;\n",
       "    }\n",
       "</style>\n",
       "<table border=\"1\" class=\"dataframe\">\n",
       "  <thead>\n",
       "    <tr style=\"text-align: right;\">\n",
       "      <th></th>\n",
       "      <th>train_mse</th>\n",
       "      <th>test_mse</th>\n",
       "    </tr>\n",
       "    <tr>\n",
       "      <th>regressors</th>\n",
       "      <th></th>\n",
       "      <th></th>\n",
       "    </tr>\n",
       "  </thead>\n",
       "  <tbody>\n",
       "    <tr>\n",
       "      <th>lin_reg</th>\n",
       "      <td>242.340549</td>\n",
       "      <td>219.478389</td>\n",
       "    </tr>\n",
       "    <tr>\n",
       "      <th>knn_3_reg</th>\n",
       "      <td>38.901071</td>\n",
       "      <td>48.559748</td>\n",
       "    </tr>\n",
       "    <tr>\n",
       "      <th>knn_5_reg</th>\n",
       "      <td>46.106492</td>\n",
       "      <td>50.243837</td>\n",
       "    </tr>\n",
       "    <tr>\n",
       "      <th>poly_2_reg</th>\n",
       "      <td>90.584374</td>\n",
       "      <td>77.035997</td>\n",
       "    </tr>\n",
       "    <tr>\n",
       "      <th>poly_3_reg</th>\n",
       "      <td>70.646404</td>\n",
       "      <td>46.978378</td>\n",
       "    </tr>\n",
       "    <tr>\n",
       "      <th>poly_4_reg</th>\n",
       "      <td>58.027983</td>\n",
       "      <td>38.932580</td>\n",
       "    </tr>\n",
       "    <tr>\n",
       "      <th>poly_5_reg</th>\n",
       "      <td>58.023780</td>\n",
       "      <td>39.034813</td>\n",
       "    </tr>\n",
       "  </tbody>\n",
       "</table>\n",
       "</div>"
      ],
      "text/plain": [
       "             train_mse    test_mse\n",
       "regressors                        \n",
       "lin_reg     242.340549  219.478389\n",
       "knn_3_reg    38.901071   48.559748\n",
       "knn_5_reg    46.106492   50.243837\n",
       "poly_2_reg   90.584374   77.035997\n",
       "poly_3_reg   70.646404   46.978378\n",
       "poly_4_reg   58.027983   38.932580\n",
       "poly_5_reg   58.023780   39.034813"
      ]
     },
     "execution_count": 41,
     "metadata": {},
     "output_type": "execute_result"
    }
   ],
   "source": [
    "mse_df = pd.DataFrame({\n",
    "        \"regressors\": ['lin_reg', 'knn_3_reg', 'knn_5_reg', 'poly_2_reg', 'poly_3_reg', 'poly_4_reg', 'poly_5_reg'],\n",
    "        \"train_mse\": [lin_train_mse, knn_3_train_mse, knn_5_train_mse, poly_2_train_mse, poly_3_train_mse, poly_4_train_mse, poly_5_train_mse],\n",
    "        \"test_mse\": [lin_test_mse, knn_3_test_mse, knn_5_test_mse, poly_2_test_mse, poly_3_test_mse, poly_4_test_mse, poly_5_test_mse]\n",
    "    }).set_index(\"regressors\")\n",
    "\n",
    "mse_df"
   ]
  },
  {
   "cell_type": "code",
   "execution_count": 42,
   "id": "d40f629e-23f1-4af0-8489-e20b1cb7f468",
   "metadata": {},
   "outputs": [
    {
     "name": "stdout",
     "output_type": "stream",
     "text": [
      "Columns: Index(['train_mse', 'test_mse'], dtype='object')\n",
      "Index:  Index(['lin_reg', 'knn_3_reg', 'knn_5_reg', 'poly_2_reg', 'poly_3_reg',\n",
      "       'poly_4_reg', 'poly_5_reg'],\n",
      "      dtype='object', name='regressors')\n"
     ]
    }
   ],
   "source": [
    "print(\"Columns:\", mse_df.columns)\n",
    "print(\"Index: \", mse_df.index)"
   ]
  },
  {
   "cell_type": "code",
   "execution_count": 43,
   "id": "c5ef5868-86b2-45ca-8874-e5313d196f6b",
   "metadata": {},
   "outputs": [],
   "source": [
    "# save mse_df as pickle\n",
    "mse_df.to_pickle('mse.pkl')"
   ]
  },
  {
   "cell_type": "markdown",
   "id": "2b2e43c4-bb90-4eb8-864c-1714d6cc0ecd",
   "metadata": {},
   "source": [
    "## Regression objects"
   ]
  },
  {
   "cell_type": "code",
   "execution_count": 44,
   "id": "cea2285b-3b1d-43f8-802d-6a15e93bfc62",
   "metadata": {},
   "outputs": [
    {
     "name": "stdout",
     "output_type": "stream",
     "text": [
      "[(LinearRegression(), None), (KNeighborsRegressor(n_neighbors=3), None), (KNeighborsRegressor(), None), (LinearRegression(), PolynomialFeatures(include_bias=False)), (LinearRegression(), PolynomialFeatures(degree=3, include_bias=False)), (LinearRegression(), PolynomialFeatures(degree=4, include_bias=False)), (LinearRegression(), PolynomialFeatures(degree=5, include_bias=False))]\n"
     ]
    }
   ],
   "source": [
    "reg_objects = [(lin_reg, None), (knn_3_reg, None), (knn_5_reg, None), (poly_2_reg, poly_feature_2), \n",
    "                 (poly_3_reg, poly_feature_3), (poly_4_reg, poly_feature_4), (poly_5_reg, poly_feature_5)]\n",
    "print(reg_objects)\n",
    "\n",
    "# save reg_objects as pickle\n",
    "filename = \"reg.pkl\"\n",
    "with open(filename, 'wb') as file:\n",
    "        pickle.dump(reg_objects, file, pickle.HIGHEST_PROTOCOL)"
   ]
  },
  {
   "cell_type": "markdown",
   "id": "45413dd4-8ed4-4a1f-80d3-b3280310625c",
   "metadata": {},
   "source": [
    "# Check saved Pickles contents"
   ]
  },
  {
   "cell_type": "code",
   "execution_count": 45,
   "id": "b23674a0-6207-4cbd-a9f3-302e17d31076",
   "metadata": {},
   "outputs": [
    {
     "name": "stdout",
     "output_type": "stream",
     "text": [
      "acc_list\n",
      "              train_mse    test_mse\n",
      "regressors                        \n",
      "lin_reg     242.340549  219.478389\n",
      "knn_3_reg    38.901071   48.559748\n",
      "knn_5_reg    46.106492   50.243837\n",
      "poly_2_reg   90.584374   77.035997\n",
      "poly_3_reg   70.646404   46.978378\n",
      "poly_4_reg   58.027983   38.932580\n",
      "poly_5_reg   58.023780   39.034813 \n",
      "\n",
      "reg_objects\n",
      " [(LinearRegression(), None), (KNeighborsRegressor(n_neighbors=3), None), (KNeighborsRegressor(), None), (LinearRegression(), PolynomialFeatures(include_bias=False)), (LinearRegression(), PolynomialFeatures(degree=3, include_bias=False)), (LinearRegression(), PolynomialFeatures(degree=4, include_bias=False)), (LinearRegression(), PolynomialFeatures(degree=5, include_bias=False))]\n"
     ]
    }
   ],
   "source": [
    "# check if pickles' contents are saved correctly\n",
    "print(\"acc_list\\n\", pd.read_pickle(\"mse.pkl\"), \"\\n\")\n",
    "print(\"reg_objects\\n\", pd.read_pickle(\"reg.pkl\"))"
   ]
  }
 ],
 "metadata": {
  "kernelspec": {
   "display_name": "Python 3 (ipykernel)",
   "language": "python",
   "name": "python3"
  },
  "language_info": {
   "codemirror_mode": {
    "name": "ipython",
    "version": 3
   },
   "file_extension": ".py",
   "mimetype": "text/x-python",
   "name": "python",
   "nbconvert_exporter": "python",
   "pygments_lexer": "ipython3",
   "version": "3.9.7"
  }
 },
 "nbformat": 4,
 "nbformat_minor": 5
}
