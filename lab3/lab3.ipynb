{
 "cells": [
  {
   "cell_type": "code",
   "execution_count": 11,
   "id": "24462d05-6ade-4bec-a782-eb435bf6b4f0",
   "metadata": {},
   "outputs": [],
   "source": [
    "import numpy as np\n",
    "import pandas as pd"
   ]
  },
  {
   "cell_type": "code",
   "execution_count": 50,
   "id": "a78211dc-d350-4c96-9ba9-ff482c85fa7c",
   "metadata": {},
   "outputs": [
    {
     "data": {
      "image/png": "[encoded data removed]",
      "text/plain": [
       "<Figure size 432x288 with 1 Axes>"
      ]
     },
     "metadata": {
      "needs_background": "light"
     },
     "output_type": "display_data"
    }
   ],
   "source": [
    "size = 300\n",
    "X = np.random.rand(size)*5-2.5\n",
    "w4, w3, w2, w1, w0 = 1, 2, 1, -4, 2\n",
    "y = w4*(X**4) + w3*(X**3) + w2*(X**2) + w1*X + w0 + np.random.randn(size)*8-4 \n",
    "df = pd.DataFrame({'x': X, 'y': y}) \n",
    "df.to_csv('dane_do_regresji.csv',index=None)\n",
    "df.plot.scatter(x='x',y='y')\n",
    "\n",
    "# reshape in order to get it accepted by the models\n",
    "X = X.reshape(-1, 1)"
   ]
  },
  {
   "cell_type": "code",
   "execution_count": 63,
   "id": "48e6522e-0810-43b1-bc95-98d9ae674834",
   "metadata": {},
   "outputs": [],
   "source": [
    "from sklearn.model_selection import train_test_split\n",
    "X_train, X_test, y_train, y_test= train_test_split(X, y, test_size=0.2, random_state=42)\n",
    "X_train = X_train.reshape(-1,1)\n",
    "X_test = X_test.reshape(-1,1)"
   ]
  },
  {
   "cell_type": "code",
   "execution_count": 14,
   "id": "cb21d98c-fc0f-4ba3-a3df-07641238ef14",
   "metadata": {},
   "outputs": [
    {
     "data": {
      "text/html": [
       "<div>\n",
       "<style scoped>\n",
       "    .dataframe tbody tr th:only-of-type {\n",
       "        vertical-align: middle;\n",
       "    }\n",
       "\n",
       "    .dataframe tbody tr th {\n",
       "        vertical-align: top;\n",
       "    }\n",
       "\n",
       "    .dataframe thead th {\n",
       "        text-align: right;\n",
       "    }\n",
       "</style>\n",
       "<table border=\"1\" class=\"dataframe\">\n",
       "  <thead>\n",
       "    <tr style=\"text-align: right;\">\n",
       "      <th></th>\n",
       "      <th>x</th>\n",
       "      <th>y</th>\n",
       "    </tr>\n",
       "  </thead>\n",
       "  <tbody>\n",
       "    <tr>\n",
       "      <th>0</th>\n",
       "      <td>0.086941</td>\n",
       "      <td>-1.478040</td>\n",
       "    </tr>\n",
       "    <tr>\n",
       "      <th>1</th>\n",
       "      <td>-2.020964</td>\n",
       "      <td>17.049470</td>\n",
       "    </tr>\n",
       "    <tr>\n",
       "      <th>2</th>\n",
       "      <td>-2.371565</td>\n",
       "      <td>25.680623</td>\n",
       "    </tr>\n",
       "    <tr>\n",
       "      <th>3</th>\n",
       "      <td>-0.796697</td>\n",
       "      <td>5.129169</td>\n",
       "    </tr>\n",
       "    <tr>\n",
       "      <th>4</th>\n",
       "      <td>1.666981</td>\n",
       "      <td>4.692803</td>\n",
       "    </tr>\n",
       "  </tbody>\n",
       "</table>\n",
       "</div>"
      ],
      "text/plain": [
       "          x          y\n",
       "0  0.086941  -1.478040\n",
       "1 -2.020964  17.049470\n",
       "2 -2.371565  25.680623\n",
       "3 -0.796697   5.129169\n",
       "4  1.666981   4.692803"
      ]
     },
     "execution_count": 14,
     "metadata": {},
     "output_type": "execute_result"
    }
   ],
   "source": [
    "df.head()"
   ]
  },
  {
   "cell_type": "markdown",
   "id": "b1c42b2c-eb2a-4fbe-8839-66ed5ea803d4",
   "metadata": {},
   "source": [
    "# LinearRegression"
   ]
  },
  {
   "cell_type": "code",
   "execution_count": 69,
   "id": "e9931974-1fd4-4901-9608-c20c018fbd7d",
   "metadata": {},
   "outputs": [
    {
     "name": "stdout",
     "output_type": "stream",
     "text": [
      "8.162178580898956 [2.34920482] \n",
      "\n"
     ]
    }
   ],
   "source": [
    "from sklearn.linear_model import LinearRegression\n",
    "\n",
    "lin_reg = LinearRegression()\n",
    "lin_reg.fit(X_train,y_train)\n",
    "print(lin_reg.intercept_, lin_reg.coef_, \"\\n\")"
   ]
  },
  {
   "cell_type": "code",
   "execution_count": 70,
   "id": "817e98e8-3709-4c66-b723-4824ff0922f9",
   "metadata": {},
   "outputs": [],
   "source": [
    "lin_y = lin_reg.predict(X_test)"
   ]
  },
  {
   "cell_type": "code",
   "execution_count": 71,
   "id": "5939bd46-9454-41ce-90a7-197d613fbaf1",
   "metadata": {},
   "outputs": [
    {
     "data": {
      "text/plain": [
       "[<matplotlib.lines.Line2D at 0x17b6b65e0>]"
      ]
     },
     "execution_count": 71,
     "metadata": {},
     "output_type": "execute_result"
    },
    {
     "data": {
      "image/png": "[encoded data removed]",
      "text/plain": [
       "<Figure size 432x288 with 1 Axes>"
      ]
     },
     "metadata": {
      "needs_background": "light"
     },
     "output_type": "display_data"
    }
   ],
   "source": [
    "# clear plot if any occurs\n",
    "plt.clf()\n",
    "# plot initial points\n",
    "plt.plot(X_test, y_test,'.')\n",
    "# plot linear regression result\n",
    "plt.plot(X_test,lin_y)"
   ]
  },
  {
   "cell_type": "markdown",
   "id": "0eeaeed1-15e8-475e-98e2-aa35fb1f43ce",
   "metadata": {},
   "source": [
    "# KNN"
   ]
  },
  {
   "cell_type": "code",
   "execution_count": 85,
   "id": "8955fe4c-a09e-4153-8777-55650e278b32",
   "metadata": {},
   "outputs": [
    {
     "data": {
      "text/plain": [
       "KNeighborsRegressor(n_neighbors=3)"
      ]
     },
     "execution_count": 85,
     "metadata": {},
     "output_type": "execute_result"
    }
   ],
   "source": [
    "from sklearn.neighbors import KNeighborsRegressor\n",
    "\n",
    "# k = 3 \n",
    "knn3_reg = KNeighborsRegressor(n_neighbors=3)\n",
    "knn3_reg.fit(X_train,y_train)"
   ]
  },
  {
   "cell_type": "code",
   "execution_count": 86,
   "id": "71daa4ca-3aca-40ba-8277-b00af31e8b97",
   "metadata": {},
   "outputs": [],
   "source": [
    "knn3_regY = knn3_reg.predict(X_test)"
   ]
  },
  {
   "cell_type": "code",
   "execution_count": 87,
   "id": "b97406e5-4552-4904-8b75-4abdba4c4db1",
   "metadata": {},
   "outputs": [
    {
     "data": {
      "text/plain": [
       "[<matplotlib.lines.Line2D at 0x17b82ab50>]"
      ]
     },
     "execution_count": 87,
     "metadata": {},
     "output_type": "execute_result"
    },
    {
     "data": {
      "image/png": "[encoded data removed]",
      "text/plain": [
       "<Figure size 432x288 with 1 Axes>"
      ]
     },
     "metadata": {
      "needs_background": "light"
     },
     "output_type": "display_data"
    }
   ],
   "source": [
    "# clear plot if any occurs\n",
    "plt.clf()\n",
    "# plot initial points\n",
    "plt.plot(X_test, y_test,'.')\n",
    "# plot KNN result\n",
    "plt.plot(X_test,knn3_regY, 'r.')"
   ]
  },
  {
   "cell_type": "code",
   "execution_count": 106,
   "id": "4dd310c2-5258-4f06-918d-358706ea663a",
   "metadata": {},
   "outputs": [
    {
     "data": {
      "text/plain": [
       "KNeighborsRegressor()"
      ]
     },
     "execution_count": 132,
     "metadata": {},
     "output_type": "execute_result"
    }
   ],
   "source": [
    "# k = 5 \n",
    "knn5_reg = KNeighborsRegressor(n_neighbors=)\n",
    "knn5_reg.fit(X_train,y_train)"
   ]
  },
  {
   "cell_type": "code",
   "execution_count": 107,
   "id": "7b3291d9-bbe1-4ae6-a1ef-02de500434ef",
   "metadata": {},
   "outputs": [],
   "source": [
    "knn5_regY = knn5_reg.predict(X_test)"
   ]
  },
  {
   "cell_type": "code",
   "execution_count": 108,
   "id": "2df37f9f-21af-41d5-8bdb-e4e0db85ae21",
   "metadata": {},
   "outputs": [
    {
     "data": {
      "text/plain": [
       "[<matplotlib.lines.Line2D at 0x17bced8b0>]"
      ]
     },
     "execution_count": 134,
     "metadata": {},
     "output_type": "execute_result"
    },
    {
     "data": {
      "image/png": "[encoded data removed]",
      "text/plain": [
       "<Figure size 432x288 with 1 Axes>"
      ]
     },
     "metadata": {
      "needs_background": "light"
     },
     "output_type": "display_data"
    }
   ],
   "source": [
    "# clear plot if any occurs\n",
    "plt.clf()\n",
    "# plot initial points\n",
    "plt.plot(X_test, y_test,'.')\n",
    "# plot KNN result\n",
    "plt.plot(X_test,knn5_regY, 'r.')"
   ]
  },
  {
   "cell_type": "markdown",
   "id": "35747c52-449f-4cec-931a-ccc389546ce4",
   "metadata": {},
   "source": [
    "# Polynomial"
   ]
  },
  {
   "cell_type": "code",
   "execution_count": 116,
   "id": "ac54d8ff-a69f-4ea7-a192-2b2593c85f90",
   "metadata": {},
   "outputs": [],
   "source": [
    "from sklearn.preprocessing import PolynomialFeatures"
   ]
  },
  {
   "cell_type": "code",
   "execution_count": 141,
   "id": "5b9d1b28-4aa2-4903-85fa-9394fd8ba318",
   "metadata": {},
   "outputs": [
    {
     "name": "stdout",
     "output_type": "stream",
     "text": [
      "-2.9291892084175615 \n",
      " [3.13224394 5.80113216] \n",
      "\n",
      "[20.74257937 -1.66222668  0.03570684 -1.77723956  4.68534674]\n"
     ]
    }
   ],
   "source": [
    "# 2\n",
    "poly2_features = PolynomialFeatures(degree=2, include_bias=False)\n",
    "X_poly2 = poly2_features.fit_transform(X_train)\n",
    "\n",
    "lin2_reg = LinearRegression()\n",
    "lin2_reg.fit(X_poly2, y_train)\n",
    "print(lin2_reg.intercept_,\"\\n\", lin2_reg.coef_, \"\\n\")\n",
    "lin2_predY = lin2_reg.predict(poly2_features.fit_transform(X_test))\n",
    "print(lin2_predY[0:5])"
   ]
  },
  {
   "cell_type": "code",
   "execution_count": 142,
   "id": "695ac237-69ae-4eb3-9c0d-f0237396e510",
   "metadata": {},
   "outputs": [
    {
     "ename": "IndexError",
     "evalue": "invalid index to scalar variable.",
     "output_type": "error",
     "traceback": [
      "\u001b[0;31m---------------------------------------------------------------------------\u001b[0m",
      "\u001b[0;31mIndexError\u001b[0m                                Traceback (most recent call last)",
      "Input \u001b[0;32mIn [142]\u001b[0m, in \u001b[0;36m<module>\u001b[0;34m\u001b[0m\n\u001b[0;32m----> 1\u001b[0m \u001b[38;5;28mprint\u001b[39m(\u001b[43mlin2_reg\u001b[49m\u001b[38;5;241;43m.\u001b[39;49m\u001b[43mcoef_\u001b[49m\u001b[43m[\u001b[49m\u001b[38;5;241;43m0\u001b[39;49m\u001b[43m]\u001b[49m\u001b[43m[\u001b[49m\u001b[38;5;241;43m1\u001b[39;49m\u001b[43m]\u001b[49m \u001b[38;5;241m*\u001b[39m \u001b[38;5;241m2\u001b[39m\u001b[38;5;241m*\u001b[39m\u001b[38;5;241m*\u001b[39m\u001b[38;5;241m2\u001b[39m \u001b[38;5;241m+\u001b[39m lin2_reg\u001b[38;5;241m.\u001b[39mcoef_[\u001b[38;5;241m0\u001b[39m][\u001b[38;5;241m0\u001b[39m] \u001b[38;5;241m*\u001b[39m \u001b[38;5;241m2\u001b[39m \u001b[38;5;241m+\u001b[39m lin2_reg\u001b[38;5;241m.\u001b[39mintercept_[\u001b[38;5;241m0\u001b[39m])\n",
      "\u001b[0;31mIndexError\u001b[0m: invalid index to scalar variable."
     ]
    }
   ],
   "source": [
    "print(lin2_reg.coef_[0][1] * 2**2 + lin2_reg.coef_[0][0] * 2 + lin2_reg.intercept_[0])"
   ]
  },
  {
   "cell_type": "code",
   "execution_count": 123,
   "id": "3af605e0-5c5c-4560-b45c-941bbb718d18",
   "metadata": {},
   "outputs": [],
   "source": [
    "# plot 2 polynomial"
   ]
  },
  {
   "cell_type": "code",
   "execution_count": 124,
   "id": "a6d9dcc4-34a4-4d9a-b00f-76db4e383fe7",
   "metadata": {},
   "outputs": [
    {
     "data": {
      "text/plain": [
       "[<matplotlib.lines.Line2D at 0x17bb5e130>]"
      ]
     },
     "execution_count": 124,
     "metadata": {},
     "output_type": "execute_result"
    },
    {
     "data": {
      "image/png": "[encoded data removed]",
      "text/plain": [
       "<Figure size 432x288 with 1 Axes>"
      ]
     },
     "metadata": {
      "needs_background": "light"
     },
     "output_type": "display_data"
    }
   ],
   "source": [
    "# clear plot if any occurs\n",
    "plt.clf()\n",
    "# plot initial points\n",
    "plt.plot(X_test, y_test,'.')\n",
    "# plot KNN result\n",
    "plt.plot(X_test,lin2_predY, 'r.')"
   ]
  }
 ],
 "metadata": {
  "kernelspec": {
   "display_name": "Python 3 (ipykernel)",
   "language": "python",
   "name": "python3"
  },
  "language_info": {
   "codemirror_mode": {
    "name": "ipython",
    "version": 3
   },
   "file_extension": ".py",
   "mimetype": "text/x-python",
   "name": "python",
   "nbconvert_exporter": "python",
   "pygments_lexer": "ipython3",
   "version": "3.9.10"
  }
 },
 "nbformat": 4,
 "nbformat_minor": 5
}
