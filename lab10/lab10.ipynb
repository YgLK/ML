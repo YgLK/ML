{
 "cells": [
  {
   "cell_type": "code",
   "execution_count": 1,
   "id": "27c4b05c-9994-47cb-b4ea-a9182865b6f0",
   "metadata": {},
   "outputs": [
    {
     "name": "stderr",
     "output_type": "stream",
     "text": [
      "E:\\Anaconda3\\envs\\ML_new\\lib\\site-packages\\numpy\\_distributor_init.py:30: UserWarning: loaded more than 1 DLL from .libs:\n",
      "E:\\Anaconda3\\envs\\ML_new\\lib\\site-packages\\numpy\\.libs\\libopenblas.EL2C6PLE4ZYW3ECEVIV3OXXGRN2NRFM2.gfortran-win_amd64.dll\n",
      "E:\\Anaconda3\\envs\\ML_new\\lib\\site-packages\\numpy\\.libs\\libopenblas.WCDJNK7YVMPZQ2ME2ZZHJJRJ3JIKNDB7.gfortran-win_amd64.dll\n",
      "  warnings.warn(\"loaded more than 1 DLL from .libs:\"\n"
     ]
    }
   ],
   "source": [
    "import tensorflow as tf\n",
    "import numpy as np\n",
    "import matplotlib.pyplot as plt"
   ]
  },
  {
   "cell_type": "markdown",
   "id": "f968ad4b-5a99-4fbd-a2da-5ac46dc6228b",
   "metadata": {},
   "source": [
    "### Load the data"
   ]
  },
  {
   "cell_type": "code",
   "execution_count": 2,
   "id": "5a57ede4-eda9-42f5-b970-9655575b3577",
   "metadata": {},
   "outputs": [],
   "source": [
    "fashion_mnist = tf.keras.datasets.fashion_mnist\n",
    "(X_train, y_train), (X_test, y_test) = fashion_mnist.load_data() \n",
    "assert X_train.shape == (60000, 28, 28)\n",
    "assert X_test.shape == (10000, 28, 28)\n",
    "assert y_train.shape == (60000,)\n",
    "assert y_test.shape == (10000,)"
   ]
  },
  {
   "cell_type": "markdown",
   "id": "c82e492a-aced-4e25-ae2f-e87392cce28e",
   "metadata": {},
   "source": [
    "### Scale the data"
   ]
  },
  {
   "cell_type": "code",
   "execution_count": 3,
   "id": "d63754b6-9a4b-4767-ad43-2699559ebede",
   "metadata": {},
   "outputs": [],
   "source": [
    "X_train = X_train / 255.0 \n",
    "X_test = X_test / 255.0 \n",
    "y_train = y_train \n",
    "y_test = y_test"
   ]
  },
  {
   "cell_type": "markdown",
   "id": "092d98f4-cd56-4219-a71c-1b27e9eb3f87",
   "metadata": {},
   "source": [
    "### Show sample image"
   ]
  },
  {
   "cell_type": "code",
   "execution_count": 4,
   "id": "3f4bd98b-8295-4f31-b013-94074734c86a",
   "metadata": {},
   "outputs": [],
   "source": [
    "# plt.imshow(X_train[142], cmap=\"binary\") \n",
    "# plt.axis('off')\n",
    "# plt.show()"
   ]
  },
  {
   "cell_type": "markdown",
   "id": "357637b1-d090-470a-859a-461e5187317e",
   "metadata": {},
   "source": [
    "### Declare class names "
   ]
  },
  {
   "cell_type": "code",
   "execution_count": 5,
   "id": "a1ed4bb3-ab36-4918-a3ea-171908fea553",
   "metadata": {},
   "outputs": [
    {
     "data": {
      "text/plain": [
       "'but'"
      ]
     },
     "execution_count": 5,
     "metadata": {},
     "output_type": "execute_result"
    }
   ],
   "source": [
    "class_names = [\"koszulka\", \"spodnie\", \"pulower\", \"sukienka\", \"kurtka\",\n",
    "               \"sandał\", \"koszula\", \"but\", \"torba\", \"kozak\"]\n",
    "class_names[int(y_train[142])]"
   ]
  },
  {
   "cell_type": "markdown",
   "id": "76b2d6a6-e4e3-419a-96a0-4b70d82c8c76",
   "metadata": {},
   "source": [
    "### Create Sequential model with dense layers"
   ]
  },
  {
   "cell_type": "code",
   "execution_count": 6,
   "id": "605f796f-048f-4287-973e-9a1b6544dace",
   "metadata": {},
   "outputs": [],
   "source": [
    "model = tf.keras.Sequential(\n",
    "    layers = [\n",
    "        tf.keras.layers.Flatten(input_shape=(28,28)),\n",
    "        tf.keras.layers.Dense(300, activation='relu'),\n",
    "        tf.keras.layers.Dense(100, activation='relu'),\n",
    "        tf.keras.layers.Dense(10, activation='softmax'),\n",
    "    ]\n",
    ")"
   ]
  },
  {
   "cell_type": "code",
   "execution_count": 7,
   "id": "ca15c426-a5d2-4ad7-b031-960bb71fb675",
   "metadata": {},
   "outputs": [
    {
     "name": "stdout",
     "output_type": "stream",
     "text": [
      "Model: \"sequential\"\n",
      "_________________________________________________________________\n",
      " Layer (type)                Output Shape              Param #   \n",
      "=================================================================\n",
      " flatten (Flatten)           (None, 784)               0         \n",
      "                                                                 \n",
      " dense (Dense)               (None, 300)               235500    \n",
      "                                                                 \n",
      " dense_1 (Dense)             (None, 100)               30100     \n",
      "                                                                 \n",
      " dense_2 (Dense)             (None, 10)                1010      \n",
      "                                                                 \n",
      "=================================================================\n",
      "Total params: 266,610\n",
      "Trainable params: 266,610\n",
      "Non-trainable params: 0\n",
      "_________________________________________________________________\n"
     ]
    }
   ],
   "source": [
    "model.summary()"
   ]
  },
  {
   "cell_type": "code",
   "execution_count": 8,
   "id": "c1079fb3-fb9a-4e4f-a6ae-0720532a91c0",
   "metadata": {},
   "outputs": [
    {
     "data": {
      "image/png": "[encoded data removed]",
      "text/plain": [
       "<IPython.core.display.Image object>"
      ]
     },
     "execution_count": 8,
     "metadata": {},
     "output_type": "execute_result"
    }
   ],
   "source": [
    "tf.keras.utils.plot_model(model, \"fashion_mnist.png\", show_shapes=True)"
   ]
  },
  {
   "cell_type": "markdown",
   "id": "4af4f428-2f76-4ccf-9532-71aed8f645e7",
   "metadata": {},
   "source": [
    "### Model compilation"
   ]
  },
  {
   "cell_type": "code",
   "execution_count": 9,
   "id": "703a4839-1691-4f35-906f-f2af3b9db9f1",
   "metadata": {},
   "outputs": [],
   "source": [
    "model.compile(\n",
    "    optimizer='sgd', \n",
    "    loss=tf.keras.losses.SparseCategoricalCrossentropy(),\n",
    "    metrics='accuracy'\n",
    ")"
   ]
  },
  {
   "cell_type": "markdown",
   "id": "c6788151-0adc-4636-bedf-31437f366fc4",
   "metadata": {},
   "source": [
    "### Tensorboard callback"
   ]
  },
  {
   "cell_type": "code",
   "execution_count": 10,
   "id": "5b31902f-89e0-4dff-ba0d-749b2b190f0f",
   "metadata": {},
   "outputs": [],
   "source": [
    "import os\n",
    "root_logdir = os.path.join(os.curdir, \"image_logs\")\n",
    "\n",
    "def get_run_logdir(): \n",
    "    import time\n",
    "    run_id = time.strftime(\"run_%Y_%m_%d-%H_%M_%S\") \n",
    "    return os.path.join(root_logdir, run_id)\n",
    "\n",
    "run_logdir = get_run_logdir()\n",
    "tensorboard_cb = tf.keras.callbacks.TensorBoard(run_logdir)"
   ]
  },
  {
   "cell_type": "markdown",
   "id": "cd195706-2e46-4a2f-a1bd-f388d766a587",
   "metadata": {},
   "source": [
    "### Train the neural network"
   ]
  },
  {
   "cell_type": "code",
   "execution_count": 11,
   "id": "581c49c2-330d-4dbb-9437-d68f51027092",
   "metadata": {},
   "outputs": [
    {
     "name": "stdout",
     "output_type": "stream",
     "text": [
      "Epoch 1/20\n",
      "1688/1688 [==============================] - 3s 2ms/step - loss: 0.7395 - accuracy: 0.7518 - val_loss: 0.5542 - val_accuracy: 0.8073\n",
      "Epoch 2/20\n",
      "1688/1688 [==============================] - 3s 2ms/step - loss: 0.4948 - accuracy: 0.8278 - val_loss: 0.4491 - val_accuracy: 0.8423\n",
      "Epoch 3/20\n",
      "1688/1688 [==============================] - 3s 2ms/step - loss: 0.4479 - accuracy: 0.8450 - val_loss: 0.4277 - val_accuracy: 0.8522\n",
      "Epoch 4/20\n",
      "1688/1688 [==============================] - 3s 2ms/step - loss: 0.4200 - accuracy: 0.8531 - val_loss: 0.4246 - val_accuracy: 0.8450\n",
      "Epoch 5/20\n",
      "1688/1688 [==============================] - 3s 2ms/step - loss: 0.3983 - accuracy: 0.8608 - val_loss: 0.3993 - val_accuracy: 0.8597\n",
      "Epoch 6/20\n",
      "1688/1688 [==============================] - 3s 2ms/step - loss: 0.3814 - accuracy: 0.8669 - val_loss: 0.3871 - val_accuracy: 0.8600\n",
      "Epoch 7/20\n",
      "1688/1688 [==============================] - 3s 2ms/step - loss: 0.3677 - accuracy: 0.8697 - val_loss: 0.3812 - val_accuracy: 0.8605\n",
      "Epoch 8/20\n",
      "1688/1688 [==============================] - 3s 2ms/step - loss: 0.3556 - accuracy: 0.8732 - val_loss: 0.3653 - val_accuracy: 0.8657\n",
      "Epoch 9/20\n",
      "1688/1688 [==============================] - 3s 2ms/step - loss: 0.3451 - accuracy: 0.8769 - val_loss: 0.3698 - val_accuracy: 0.8720\n",
      "Epoch 10/20\n",
      "1688/1688 [==============================] - 3s 2ms/step - loss: 0.3348 - accuracy: 0.8800 - val_loss: 0.3623 - val_accuracy: 0.8728\n",
      "Epoch 11/20\n",
      "1688/1688 [==============================] - 3s 2ms/step - loss: 0.3259 - accuracy: 0.8850 - val_loss: 0.3651 - val_accuracy: 0.8707\n",
      "Epoch 12/20\n",
      "1688/1688 [==============================] - 3s 2ms/step - loss: 0.3179 - accuracy: 0.8861 - val_loss: 0.3784 - val_accuracy: 0.8640\n",
      "Epoch 13/20\n",
      "1688/1688 [==============================] - 3s 2ms/step - loss: 0.3111 - accuracy: 0.8875 - val_loss: 0.3470 - val_accuracy: 0.8768\n",
      "Epoch 14/20\n",
      "1688/1688 [==============================] - 3s 2ms/step - loss: 0.3038 - accuracy: 0.8900 - val_loss: 0.3431 - val_accuracy: 0.8748\n",
      "Epoch 15/20\n",
      "1688/1688 [==============================] - 3s 2ms/step - loss: 0.2979 - accuracy: 0.8930 - val_loss: 0.3340 - val_accuracy: 0.8790\n",
      "Epoch 16/20\n",
      "1688/1688 [==============================] - 3s 2ms/step - loss: 0.2918 - accuracy: 0.8943 - val_loss: 0.3305 - val_accuracy: 0.8768\n",
      "Epoch 17/20\n",
      "1688/1688 [==============================] - 3s 2ms/step - loss: 0.2856 - accuracy: 0.8974 - val_loss: 0.3264 - val_accuracy: 0.8815\n",
      "Epoch 18/20\n",
      "1688/1688 [==============================] - 3s 2ms/step - loss: 0.2797 - accuracy: 0.8991 - val_loss: 0.3447 - val_accuracy: 0.8730\n",
      "Epoch 19/20\n",
      "1688/1688 [==============================] - 3s 2ms/step - loss: 0.2739 - accuracy: 0.9021 - val_loss: 0.3356 - val_accuracy: 0.8807\n",
      "Epoch 20/20\n",
      "1688/1688 [==============================] - 3s 2ms/step - loss: 0.2684 - accuracy: 0.9053 - val_loss: 0.3336 - val_accuracy: 0.8760\n"
     ]
    },
    {
     "data": {
      "text/plain": [
       "<keras.callbacks.History at 0x2b82841fb20>"
      ]
     },
     "execution_count": 11,
     "metadata": {},
     "output_type": "execute_result"
    }
   ],
   "source": [
    "model.fit(\n",
    "    X_train,\n",
    "    y_train,\n",
    "    epochs=20,\n",
    "    verbose=1,\n",
    "    validation_split=0.1,\n",
    "    callbacks=[tensorboard_cb]\n",
    ")"
   ]
  },
  {
   "cell_type": "markdown",
   "id": "bf3211ce-0ef6-4145-b268-8200c2bc5bb9",
   "metadata": {},
   "source": [
    "### Check the results arbitrary"
   ]
  },
  {
   "cell_type": "code",
   "execution_count": 12,
   "id": "5446852d-6937-4fbc-a0b0-36ee27b4f927",
   "metadata": {},
   "outputs": [
    {
     "name": "stdout",
     "output_type": "stream",
     "text": [
      "1/1 [==============================] - 0s 65ms/step\n",
      "Prediction: kozak\n",
      "Confidence: 0.43820864\n",
      "Truth: sandał\n"
     ]
    }
   ],
   "source": [
    "image_index = np.random.randint(len(X_test))\n",
    "image = np.array([X_test[image_index]])\n",
    "confidences = model.predict(image)\n",
    "confidence = np.max(confidences[0])\n",
    "prediction = np.argmax(confidences[0])\n",
    "print(\"Prediction:\", class_names[prediction])\n",
    "print(\"Confidence:\", confidence)\n",
    "print(\"Truth:\", class_names[y_test[image_index]])\n",
    "# plt.imshow(image[0], cmap=\"binary\")\n",
    "# plt.axis('off')\n",
    "# plt.show()"
   ]
  },
  {
   "cell_type": "markdown",
   "id": "2e9e96d5-820e-4a2e-bf41-6f65f2379061",
   "metadata": {},
   "source": [
    "### Open the tensorboard"
   ]
  },
  {
   "cell_type": "code",
   "execution_count": 13,
   "id": "95c172cc-e34e-4eaf-84f3-0983eb2fc59f",
   "metadata": {},
   "outputs": [],
   "source": [
    "# %load_ext tensorboard\n",
    "# %tensorboard --logdir ./housing_logs --host localhost --port 8088"
   ]
  },
  {
   "cell_type": "markdown",
   "id": "4c02d428-4e0a-46d7-a066-920c3fcef392",
   "metadata": {},
   "source": [
    "### Save the model"
   ]
  },
  {
   "cell_type": "code",
   "execution_count": 14,
   "id": "d2f177e1-ee09-4d78-bd8f-065ca5a2dad0",
   "metadata": {},
   "outputs": [],
   "source": [
    "model.save('fashion_clf.h5')"
   ]
  },
  {
   "cell_type": "markdown",
   "id": "9864e994-3354-416d-ba2c-e755546cddcd",
   "metadata": {},
   "source": [
    "## Regression"
   ]
  },
  {
   "cell_type": "code",
   "execution_count": 15,
   "id": "ba0803e4-7936-46cd-9c11-42a5762d8a91",
   "metadata": {},
   "outputs": [],
   "source": [
    "from sklearn.datasets import fetch_california_housing\n",
    "from sklearn.model_selection import train_test_split\n",
    "from sklearn.preprocessing import StandardScaler"
   ]
  },
  {
   "cell_type": "code",
   "execution_count": 16,
   "id": "60cccf84-def1-4995-9ca7-5571002859d3",
   "metadata": {},
   "outputs": [],
   "source": [
    "# Tensorboard\n",
    "\n",
    "root_logdir = os.path.join(os.curdir, \"housing_logs\")\n",
    "\n",
    "run_logdir = get_run_logdir()\n",
    "tensorboard_cb = tf.keras.callbacks.TensorBoard(run_logdir)"
   ]
  },
  {
   "cell_type": "code",
   "execution_count": 17,
   "id": "dccf8a08-104c-4eba-a335-87b08fa4c53a",
   "metadata": {},
   "outputs": [],
   "source": [
    "housing = fetch_california_housing()"
   ]
  },
  {
   "cell_type": "markdown",
   "id": "6c251db9-3c65-4b37-983e-958cf29321e8",
   "metadata": {},
   "source": [
    "### Prepare the data "
   ]
  },
  {
   "cell_type": "code",
   "execution_count": 18,
   "id": "4dfa818e-7113-4bdb-b504-d3ba13d9b28d",
   "metadata": {},
   "outputs": [],
   "source": [
    "X_train_full, X_test, y_train_full, y_test = train_test_split(housing.data, housing.target, random_state=42)\n",
    "X_train, X_valid, y_train, y_valid = train_test_split(X_train_full, y_train_full, random_state=42)"
   ]
  },
  {
   "cell_type": "code",
   "execution_count": 19,
   "id": "8b0718c7-e0b6-4e8f-8088-f95e9a115da9",
   "metadata": {},
   "outputs": [],
   "source": [
    "scaler = StandardScaler()\n",
    "X_train = scaler.fit_transform(X_train)\n",
    "X_valid = scaler.transform(X_valid)\n",
    "X_test = scaler.transform(X_test)"
   ]
  },
  {
   "cell_type": "markdown",
   "id": "42bda1e1-eb05-41ee-bd4d-773ce7083212",
   "metadata": {},
   "source": [
    "### Create the model"
   ]
  },
  {
   "cell_type": "code",
   "execution_count": 20,
   "id": "911b0c12-9a53-4433-968b-0fc382f8f7e9",
   "metadata": {},
   "outputs": [],
   "source": [
    "reg_model = tf.keras.Sequential(\n",
    "    layers = [\n",
    "        tf.keras.layers.Dense(\n",
    "            30, \n",
    "            activation=\"relu\", \n",
    "              input_shape=X_train.shape[1:]),\n",
    "        tf.keras.layers.Dense(1)\n",
    "    ]\n",
    ")"
   ]
  },
  {
   "cell_type": "code",
   "execution_count": 21,
   "id": "ac2e05c8-7208-4b6d-b969-59b385ed8395",
   "metadata": {},
   "outputs": [],
   "source": [
    "reg_model.compile(\n",
    "    optimizer='sgd', \n",
    "    loss=tf.keras.losses.MeanSquaredError(),\n",
    ")"
   ]
  },
  {
   "cell_type": "code",
   "execution_count": 22,
   "id": "b0bbe949-c1af-4683-b812-8529bc9567d3",
   "metadata": {},
   "outputs": [],
   "source": [
    "es = tf.keras.callbacks.EarlyStopping(patience=5, min_delta=0.01, verbose=1)"
   ]
  },
  {
   "cell_type": "markdown",
   "id": "064be295-b9d3-4f9e-bcdb-b9a2a7ddc6f9",
   "metadata": {},
   "source": [
    "### Prepare logs catch"
   ]
  },
  {
   "cell_type": "code",
   "execution_count": 23,
   "id": "1199bdde-cbd5-4dea-9384-ef2ca22cef73",
   "metadata": {},
   "outputs": [],
   "source": [
    "root_logdir = os.path.join(os.curdir, \"housing_logs\")\n",
    "\n",
    "run_logdir = get_run_logdir()\n",
    "tensorboard_cb = tf.keras.callbacks.TensorBoard(run_logdir)"
   ]
  },
  {
   "cell_type": "markdown",
   "id": "523e5349-8633-4f4f-b73a-08adc1424363",
   "metadata": {},
   "source": [
    "### Fit the model"
   ]
  },
  {
   "cell_type": "code",
   "execution_count": 24,
   "id": "1aa5a856-328e-484b-bbd9-fe1f4b111a58",
   "metadata": {},
   "outputs": [
    {
     "name": "stdout",
     "output_type": "stream",
     "text": [
      "Epoch 1/30\n",
      "363/363 [==============================] - 1s 1ms/step - loss: 0.8513 - val_loss: 5.1808\n",
      "Epoch 2/30\n",
      "363/363 [==============================] - 0s 1ms/step - loss: 0.4973 - val_loss: 0.4053\n",
      "Epoch 3/30\n",
      "363/363 [==============================] - 0s 1ms/step - loss: 0.4191 - val_loss: 0.3789\n",
      "Epoch 4/30\n",
      "363/363 [==============================] - 1s 1ms/step - loss: 0.4051 - val_loss: 0.3692\n",
      "Epoch 5/30\n",
      "363/363 [==============================] - 0s 1ms/step - loss: 0.3924 - val_loss: 0.3709\n",
      "Epoch 6/30\n",
      "363/363 [==============================] - 0s 1ms/step - loss: 0.3881 - val_loss: 0.3731\n",
      "Epoch 7/30\n",
      "363/363 [==============================] - 0s 1ms/step - loss: 0.3829 - val_loss: 0.3762\n",
      "Epoch 8/30\n",
      "363/363 [==============================] - 0s 1ms/step - loss: 0.3784 - val_loss: 0.3760\n",
      "Epoch 8: early stopping\n"
     ]
    },
    {
     "data": {
      "text/plain": [
       "<keras.callbacks.History at 0x2b82aa87e20>"
      ]
     },
     "execution_count": 24,
     "metadata": {},
     "output_type": "execute_result"
    }
   ],
   "source": [
    "reg_model.fit(\n",
    "    X_train,\n",
    "    y_train,\n",
    "    epochs=30,\n",
    "    verbose=1,\n",
    "    validation_data=(X_valid, y_valid),\n",
    "    callbacks=[es, tensorboard_cb]\n",
    ")"
   ]
  },
  {
   "cell_type": "code",
   "execution_count": 25,
   "id": "9f44af98-2f23-4e52-a409-64ab4978cae0",
   "metadata": {},
   "outputs": [],
   "source": [
    "# %load_ext tensorboard\n",
    "# %tensorboard --logdir ./housing_logs --port=6006"
   ]
  },
  {
   "cell_type": "markdown",
   "id": "709cb522-12ca-431a-8553-b56452941652",
   "metadata": {},
   "source": [
    "### Save the model"
   ]
  },
  {
   "cell_type": "code",
   "execution_count": 26,
   "id": "2c8d65f0-a6eb-4707-ae8a-ebecc8a1ddd6",
   "metadata": {},
   "outputs": [],
   "source": [
    "reg_model.save(\"reg_housing_1.h5\")"
   ]
  },
  {
   "cell_type": "markdown",
   "id": "b19d1c78-92fa-4615-ae4b-8f9dc3846453",
   "metadata": {
    "tags": []
   },
   "source": [
    "# Model 2 - Regression"
   ]
  },
  {
   "cell_type": "markdown",
   "id": "e3e0a055-d8cf-4019-9635-65098294f0c3",
   "metadata": {},
   "source": [
    "### Create and train the model"
   ]
  },
  {
   "cell_type": "code",
   "execution_count": 27,
   "id": "1220a6d3-780b-439b-8c40-e601857afced",
   "metadata": {},
   "outputs": [],
   "source": [
    "reg_model2 = tf.keras.Sequential(\n",
    "    layers = [\n",
    "        tf.keras.layers.Dense(\n",
    "            30, \n",
    "            activation=\"relu\", \n",
    "              input_shape=X_train.shape[1:]),\n",
    "        tf.keras.layers.Dense(\n",
    "            2, \n",
    "            activation=\"softmax\", \n",
    "              input_shape=X_train.shape[1:]),\n",
    "        tf.keras.layers.Dense(\n",
    "            6, \n",
    "            activation=\"relu\", \n",
    "              input_shape=X_train.shape[1:]),\n",
    "        tf.keras.layers.Dense(1)\n",
    "    ]\n",
    ")"
   ]
  },
  {
   "cell_type": "code",
   "execution_count": 28,
   "id": "4f83fbad-71fb-49da-a296-acd74f5a91f7",
   "metadata": {},
   "outputs": [],
   "source": [
    "reg_model2.compile(\n",
    "    optimizer='sgd', \n",
    "    loss=tf.keras.losses.MeanSquaredError(),\n",
    ")"
   ]
  },
  {
   "cell_type": "code",
   "execution_count": 29,
   "id": "bb7de74b-ebf9-476d-a101-ed9b5dac49e4",
   "metadata": {},
   "outputs": [],
   "source": [
    "es = tf.keras.callbacks.EarlyStopping(patience=5, min_delta=0.01, verbose=1)"
   ]
  },
  {
   "cell_type": "markdown",
   "id": "f2344d24-3667-478e-b61c-c6f4790816e9",
   "metadata": {},
   "source": [
    "### Prepare logs catch"
   ]
  },
  {
   "cell_type": "code",
   "execution_count": 30,
   "id": "67b493bc-7058-49ab-b562-e8ebab769435",
   "metadata": {},
   "outputs": [],
   "source": [
    "root_logdir = os.path.join(os.curdir, \"housing_logs\")\n",
    "\n",
    "run_logdir = get_run_logdir()\n",
    "tensorboard_cb = tf.keras.callbacks.TensorBoard(run_logdir)"
   ]
  },
  {
   "cell_type": "code",
   "execution_count": 31,
   "id": "a53a8957-156b-4c56-b672-bd0445ce2658",
   "metadata": {},
   "outputs": [
    {
     "name": "stdout",
     "output_type": "stream",
     "text": [
      "Epoch 1/30\n",
      "363/363 [==============================] - 1s 2ms/step - loss: 1.0508 - val_loss: 0.5182\n",
      "Epoch 2/30\n",
      "363/363 [==============================] - 0s 1ms/step - loss: 0.4770 - val_loss: 0.4100\n",
      "Epoch 3/30\n",
      "363/363 [==============================] - 0s 1ms/step - loss: 0.4182 - val_loss: 0.3791\n",
      "Epoch 4/30\n",
      "363/363 [==============================] - 0s 1ms/step - loss: 0.3942 - val_loss: 0.3682\n",
      "Epoch 5/30\n",
      "363/363 [==============================] - 0s 1ms/step - loss: 0.3940 - val_loss: 0.3670\n",
      "Epoch 6/30\n",
      "363/363 [==============================] - 0s 1ms/step - loss: 0.3772 - val_loss: 0.3479\n",
      "Epoch 7/30\n",
      "363/363 [==============================] - 0s 1ms/step - loss: 0.3665 - val_loss: 0.3461\n",
      "Epoch 8/30\n",
      "363/363 [==============================] - 0s 1ms/step - loss: 0.3685 - val_loss: 0.3535\n",
      "Epoch 9/30\n",
      "363/363 [==============================] - 0s 1ms/step - loss: 0.3592 - val_loss: 0.3384\n",
      "Epoch 10/30\n",
      "363/363 [==============================] - 0s 1ms/step - loss: 0.3559 - val_loss: 0.3352\n",
      "Epoch 11/30\n",
      "363/363 [==============================] - 0s 1ms/step - loss: 0.3541 - val_loss: 0.3301\n",
      "Epoch 12/30\n",
      "363/363 [==============================] - 1s 1ms/step - loss: 0.3459 - val_loss: 0.3380\n",
      "Epoch 13/30\n",
      "363/363 [==============================] - 0s 1ms/step - loss: 0.3541 - val_loss: 0.3363\n",
      "Epoch 14/30\n",
      "363/363 [==============================] - 0s 1ms/step - loss: 0.3410 - val_loss: 0.3358\n",
      "Epoch 15/30\n",
      "363/363 [==============================] - 0s 1ms/step - loss: 0.3388 - val_loss: 0.3298\n",
      "Epoch 15: early stopping\n"
     ]
    },
    {
     "data": {
      "text/plain": [
       "<keras.callbacks.History at 0x2b82ad5db80>"
      ]
     },
     "execution_count": 31,
     "metadata": {},
     "output_type": "execute_result"
    }
   ],
   "source": [
    "reg_model2.fit(\n",
    "    X_train,\n",
    "    y_train,\n",
    "    epochs=30,\n",
    "    verbose=1,\n",
    "    validation_data=(X_valid, y_valid),\n",
    "    callbacks=[es, tensorboard_cb]\n",
    ")"
   ]
  },
  {
   "cell_type": "markdown",
   "id": "8c2f8f32-1af9-45e6-9eff-0b39c771e6b3",
   "metadata": {},
   "source": [
    "### Save the model"
   ]
  },
  {
   "cell_type": "code",
   "execution_count": 32,
   "id": "b9ea370b-550f-426e-9569-ea9ae9d3cf7f",
   "metadata": {},
   "outputs": [],
   "source": [
    "reg_model2.save(\"reg_housing_2.h5\")"
   ]
  },
  {
   "cell_type": "markdown",
   "id": "101c4863-ecc4-405a-82cf-da9bf3fcc20b",
   "metadata": {
    "tags": []
   },
   "source": [
    "# Model 3 - Regression"
   ]
  },
  {
   "cell_type": "markdown",
   "id": "6d932dbd-5e20-4aa8-85c9-8b4ba101d7a0",
   "metadata": {},
   "source": [
    "### Create and train the model"
   ]
  },
  {
   "cell_type": "code",
   "execution_count": 33,
   "id": "dc868a5b-cb55-4dce-8c76-4bf226b86fb0",
   "metadata": {},
   "outputs": [],
   "source": [
    "reg_model3 = tf.keras.Sequential(\n",
    "    layers = [\n",
    "        tf.keras.layers.Dense(\n",
    "            60, \n",
    "            activation=\"relu\", \n",
    "              input_shape=X_train.shape[1:]),\n",
    "        tf.keras.layers.Dense(\n",
    "            30, \n",
    "            activation=\"relu\", \n",
    "              input_shape=X_train.shape[1:]),\n",
    "        tf.keras.layers.Dense(\n",
    "            10, \n",
    "            activation=\"softmax\", \n",
    "              input_shape=X_train.shape[1:]),\n",
    "        tf.keras.layers.Dense(1)\n",
    "    ]\n",
    ")"
   ]
  },
  {
   "cell_type": "code",
   "execution_count": 34,
   "id": "1ee5ddb5-8c32-4599-aff1-7ab7fdba78ae",
   "metadata": {},
   "outputs": [],
   "source": [
    "reg_model3.compile(\n",
    "    optimizer='sgd', \n",
    "    loss=tf.keras.losses.MeanSquaredError(),\n",
    ")"
   ]
  },
  {
   "cell_type": "code",
   "execution_count": 35,
   "id": "8409ea62-5913-4837-bf4b-b9c290854f04",
   "metadata": {},
   "outputs": [],
   "source": [
    "es = tf.keras.callbacks.EarlyStopping(patience=5, min_delta=0.001, verbose=1)"
   ]
  },
  {
   "cell_type": "markdown",
   "id": "52e1ce18-0582-4767-bbe8-913b8d1892a9",
   "metadata": {},
   "source": [
    "### Prepare logs catch"
   ]
  },
  {
   "cell_type": "code",
   "execution_count": 36,
   "id": "5661fb5d-568f-4c0e-8a18-95cab07f907c",
   "metadata": {},
   "outputs": [],
   "source": [
    "root_logdir = os.path.join(os.curdir, \"housing_logs\")\n",
    "\n",
    "run_logdir = get_run_logdir()\n",
    "tensorboard_cb = tf.keras.callbacks.TensorBoard(run_logdir)"
   ]
  },
  {
   "cell_type": "code",
   "execution_count": 37,
   "id": "80ef3059-b4d9-4037-a930-9aacd7400d18",
   "metadata": {},
   "outputs": [
    {
     "name": "stdout",
     "output_type": "stream",
     "text": [
      "Epoch 1/30\n",
      "363/363 [==============================] - 1s 2ms/step - loss: 1.3387 - val_loss: 0.8070\n",
      "Epoch 2/30\n",
      "363/363 [==============================] - 0s 1ms/step - loss: 0.7062 - val_loss: 0.5999\n",
      "Epoch 3/30\n",
      "363/363 [==============================] - 0s 1ms/step - loss: 0.5532 - val_loss: 0.4768\n",
      "Epoch 4/30\n",
      "363/363 [==============================] - 0s 1ms/step - loss: 0.4588 - val_loss: 0.4131\n",
      "Epoch 5/30\n",
      "363/363 [==============================] - 0s 1ms/step - loss: 0.4169 - val_loss: 0.3850\n",
      "Epoch 6/30\n",
      "363/363 [==============================] - 0s 1ms/step - loss: 0.3945 - val_loss: 0.3725\n",
      "Epoch 7/30\n",
      "363/363 [==============================] - 0s 1ms/step - loss: 0.3779 - val_loss: 0.3579\n",
      "Epoch 8/30\n",
      "363/363 [==============================] - 0s 1ms/step - loss: 0.3718 - val_loss: 0.3640\n",
      "Epoch 9/30\n",
      "363/363 [==============================] - 1s 1ms/step - loss: 0.3671 - val_loss: 0.3447\n",
      "Epoch 10/30\n",
      "363/363 [==============================] - 1s 2ms/step - loss: 0.3583 - val_loss: 0.3403\n",
      "Epoch 11/30\n",
      "363/363 [==============================] - 1s 2ms/step - loss: 0.3521 - val_loss: 0.3407\n",
      "Epoch 12/30\n",
      "363/363 [==============================] - 1s 2ms/step - loss: 0.3460 - val_loss: 0.3326\n",
      "Epoch 13/30\n",
      "363/363 [==============================] - 0s 1ms/step - loss: 0.3411 - val_loss: 0.3280\n",
      "Epoch 14/30\n",
      "363/363 [==============================] - 1s 1ms/step - loss: 0.3476 - val_loss: 0.3215\n",
      "Epoch 15/30\n",
      "363/363 [==============================] - 1s 2ms/step - loss: 0.3346 - val_loss: 0.3198\n",
      "Epoch 16/30\n",
      "363/363 [==============================] - 1s 1ms/step - loss: 0.3299 - val_loss: 0.3215\n",
      "Epoch 17/30\n",
      "363/363 [==============================] - 0s 1ms/step - loss: 0.3267 - val_loss: 0.3278\n",
      "Epoch 18/30\n",
      "363/363 [==============================] - 1s 1ms/step - loss: 0.3256 - val_loss: 0.3086\n",
      "Epoch 19/30\n",
      "363/363 [==============================] - 1s 2ms/step - loss: 0.3188 - val_loss: 0.3085\n",
      "Epoch 20/30\n",
      "363/363 [==============================] - 1s 1ms/step - loss: 0.3187 - val_loss: 0.3106\n",
      "Epoch 21/30\n",
      "363/363 [==============================] - 1s 1ms/step - loss: 0.3130 - val_loss: 0.3051\n",
      "Epoch 22/30\n",
      "363/363 [==============================] - 1s 2ms/step - loss: 0.3132 - val_loss: 0.3027\n",
      "Epoch 23/30\n",
      "363/363 [==============================] - 1s 2ms/step - loss: 0.3089 - val_loss: 0.2996\n",
      "Epoch 24/30\n",
      "363/363 [==============================] - 0s 1ms/step - loss: 0.3094 - val_loss: 0.3176\n",
      "Epoch 25/30\n",
      "363/363 [==============================] - 1s 1ms/step - loss: 0.3073 - val_loss: 0.3101\n",
      "Epoch 26/30\n",
      "363/363 [==============================] - 0s 1ms/step - loss: 0.3054 - val_loss: 0.2962\n",
      "Epoch 27/30\n",
      "363/363 [==============================] - 0s 1ms/step - loss: 0.3023 - val_loss: 0.2933\n",
      "Epoch 28/30\n",
      "363/363 [==============================] - 1s 2ms/step - loss: 0.3063 - val_loss: 0.3017\n",
      "Epoch 29/30\n",
      "363/363 [==============================] - 1s 2ms/step - loss: 0.3024 - val_loss: 0.2925\n",
      "Epoch 30/30\n",
      "363/363 [==============================] - 0s 1ms/step - loss: 0.3000 - val_loss: 0.2883\n"
     ]
    },
    {
     "data": {
      "text/plain": [
       "<keras.callbacks.History at 0x2b82be29040>"
      ]
     },
     "execution_count": 37,
     "metadata": {},
     "output_type": "execute_result"
    }
   ],
   "source": [
    "reg_model3.fit(\n",
    "    X_train,\n",
    "    y_train,\n",
    "    epochs=30,\n",
    "    verbose=1,\n",
    "    validation_data=(X_valid, y_valid),\n",
    "    callbacks=[es, tensorboard_cb]\n",
    ")"
   ]
  },
  {
   "cell_type": "markdown",
   "id": "541258e7-347e-42af-b910-d2b9f5e800d7",
   "metadata": {},
   "source": [
    "### Save the model"
   ]
  },
  {
   "cell_type": "code",
   "execution_count": 38,
   "id": "058f9184-a20a-4dd0-aed3-d287f50f8f7e",
   "metadata": {},
   "outputs": [],
   "source": [
    "reg_model3.save(\"reg_housing_3.h5\")"
   ]
  },
  {
   "cell_type": "markdown",
   "id": "42f03a01-bfc6-416e-b9e8-a4a1c1cdf1b3",
   "metadata": {},
   "source": [
    "# Tensorboard"
   ]
  },
  {
   "cell_type": "code",
   "execution_count": 39,
   "id": "b5ccf0cb-7e59-4437-9609-acf0a01c273e",
   "metadata": {},
   "outputs": [],
   "source": [
    "# %load_ext tensorboard\n",
    "# %tensorboard --logdir ./housing_logs"
   ]
  }
 ],
 "metadata": {
  "kernelspec": {
   "display_name": "Python 3",
   "language": "python",
   "name": "python3"
  },
  "language_info": {
   "codemirror_mode": {
    "name": "ipython",
    "version": 3
   },
   "file_extension": ".py",
   "mimetype": "text/x-python",
   "name": "python",
   "nbconvert_exporter": "python",
   "pygments_lexer": "ipython3",
   "version": "3.8.8"
  }
 },
 "nbformat": 4,
 "nbformat_minor": 5
}
