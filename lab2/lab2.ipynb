{
 "cells": [
  {
   "cell_type": "code",
   "execution_count": 55,
   "id": "23deae53-098e-4e5f-a228-07914d7297d1",
   "metadata": {},
   "outputs": [],
   "source": [
    "from sklearn.datasets import fetch_openml\n",
    "import numpy as np\n",
    "import pandas as pd\n",
    "from sklearn.model_selection import train_test_split, cross_val_score\n",
    "from sklearn.linear_model import SGDClassifier\n",
    "from sklearn.metrics import confusion_matrix"
   ]
  },
  {
   "cell_type": "code",
   "execution_count": null,
   "id": "865e7fae-0501-410d-8249-4329636e6c7f",
   "metadata": {},
   "outputs": [],
   "source": [
    "mnist = fetch_openml('mnist_784', version=1)"
   ]
  },
  {
   "cell_type": "code",
   "execution_count": null,
   "id": "7b415056-dc40-4a79-bf2b-24f3953ccd4a",
   "metadata": {},
   "outputs": [],
   "source": [
    "# X czyli feautures - piksele\n",
    "# y czyli labele - jaka cyfra powinna byc\n",
    "\n",
    "# 4. przetestowac na danych na ktorych byl model uczony\n",
    "#     - || - na danych testowych\n",
    "#     dwa wyniki dac do listy\n",
    "    \n",
    "#     cross_val_score zwraca nd array\n",
    "    \n",
    "# 5. "
   ]
  },
  {
   "cell_type": "code",
   "execution_count": 5,
   "id": "0347efc3-ecaa-43e3-8c00-f47d236ff4ac",
   "metadata": {},
   "outputs": [
    {
     "name": "stdout",
     "output_type": "stream",
     "text": [
      "[[0 0 0 0 0 0 0 0 0 0 0 0 0 0 0 0 0 0 0 0 0 0 0 0 0 0 0 0]\n",
      " [0 0 0 0 0 0 0 0 0 0 0 0 0 0 0 0 0 0 0 0 0 0 0 0 0 0 0 0]\n",
      " [0 0 0 0 0 0 0 0 0 0 0 0 0 0 0 0 0 0 0 0 0 0 0 0 0 0 0 0]\n",
      " [0 0 0 0 0 0 0 0 0 0 0 0 0 0 0 0 0 0 0 0 0 0 0 0 0 0 0 0]\n",
      " [0 0 0 0 0 0 0 0 0 0 0 0 0 0 0 0 0 0 0 0 0 0 0 0 0 0 0 0]\n",
      " [0 0 0 0 0 0 0 0 0 0 0 0 0 0 0 0 0 0 0 0 0 0 0 0 0 0 0 0]\n",
      " [0 0 0 0 0 0 0 0 0 0 0 0 0 0 0 0 0 0 0 0 0 0 0 0 0 0 0 0]\n",
      " [0 0 0 0 0 0 0 0 0 0 0 0 0 1 1 1 1 1 1 0 0 0 0 0 0 0 0 0]\n",
      " [0 0 0 0 0 0 0 0 0 0 0 1 1 1 1 1 1 1 1 0 0 0 0 0 0 0 0 0]\n",
      " [0 0 0 0 0 0 0 0 0 1 1 1 1 1 1 1 1 1 0 0 0 0 0 0 0 0 0 0]\n",
      " [0 0 0 0 0 0 0 1 1 1 1 1 1 1 0 1 1 1 0 0 0 0 0 0 0 0 0 0]\n",
      " [0 0 0 0 0 0 0 1 1 1 1 1 0 0 0 1 1 1 0 0 0 0 0 0 0 0 0 0]\n",
      " [0 0 0 0 0 0 0 0 0 0 0 0 0 0 0 1 1 1 0 0 0 0 0 0 0 0 0 0]\n",
      " [0 0 0 0 0 0 0 0 0 0 0 0 0 0 0 1 1 1 0 0 0 0 0 0 0 0 0 0]\n",
      " [0 0 0 0 0 0 0 0 0 0 0 0 0 0 0 1 1 1 0 0 0 0 0 0 0 0 0 0]\n",
      " [0 0 0 0 0 0 0 0 0 0 0 0 0 0 1 1 1 0 0 0 0 0 0 0 0 0 0 0]\n",
      " [0 0 0 0 0 0 0 0 0 0 0 0 0 0 1 1 1 0 0 0 0 0 0 0 0 0 0 0]\n",
      " [0 0 0 0 0 0 0 0 0 0 0 0 0 0 1 1 1 0 0 0 0 0 0 0 0 0 0 0]\n",
      " [0 0 0 0 0 0 0 0 0 0 0 0 0 0 1 1 0 0 0 0 0 0 0 0 0 0 0 0]\n",
      " [0 0 0 0 0 0 0 0 0 0 0 0 0 0 1 1 0 0 0 0 0 0 0 0 0 0 0 0]\n",
      " [0 0 0 0 0 0 0 0 0 0 0 0 0 1 1 1 0 0 0 0 0 0 0 0 0 0 0 0]\n",
      " [0 0 0 0 0 0 0 0 0 0 0 0 0 1 1 1 0 0 0 0 0 0 0 0 0 0 0 0]\n",
      " [0 0 0 0 0 0 0 0 0 0 0 0 0 1 1 1 0 0 0 0 0 0 0 0 0 0 0 0]\n",
      " [0 0 0 0 0 0 0 0 0 0 0 0 0 1 1 1 0 0 0 0 0 0 0 0 0 0 0 0]\n",
      " [0 0 0 0 0 0 0 0 0 0 0 0 0 1 1 0 0 0 0 0 0 0 0 0 0 0 0 0]\n",
      " [0 0 0 0 0 0 0 0 0 0 0 0 1 1 1 0 0 0 0 0 0 0 0 0 0 0 0 0]\n",
      " [0 0 0 0 0 0 0 0 0 0 0 0 1 1 1 0 0 0 0 0 0 0 0 0 0 0 0 0]\n",
      " [0 0 0 0 0 0 0 0 0 0 0 0 0 0 0 0 0 0 0 0 0 0 0 0 0 0 0 0]]\n"
     ]
    }
   ],
   "source": [
    "print((np.array(mnist.data.loc[42]).reshape(28, 28) > 0).astype(int))"
   ]
  },
  {
   "cell_type": "code",
   "execution_count": 8,
   "id": "71dd1da9-897c-4b9c-8ed2-58f58a5b5f2d",
   "metadata": {},
   "outputs": [
    {
     "data": {
      "text/plain": [
       "sklearn.utils.Bunch"
      ]
     },
     "execution_count": 8,
     "metadata": {},
     "output_type": "execute_result"
    }
   ],
   "source": [
    "type(mnist)"
   ]
  },
  {
   "cell_type": "code",
   "execution_count": 13,
   "id": "702e61f5-11cb-4b79-9b4f-1dba64add79d",
   "metadata": {},
   "outputs": [],
   "source": [
    "X, y = mnist[\"data\"], mnist[\"target\"].astype(np.uint8)"
   ]
  },
  {
   "cell_type": "code",
   "execution_count": 16,
   "id": "45953e79-1413-4790-8236-d64559884172",
   "metadata": {},
   "outputs": [],
   "source": [
    "y = y.sort_values()"
   ]
  },
  {
   "cell_type": "code",
   "execution_count": 17,
   "id": "cbee752c-2c11-4b25-8024-9e8c4d3655a1",
   "metadata": {},
   "outputs": [
    {
     "data": {
      "text/plain": [
       "Int64Index([34999, 56424, 56419, 16705, 56415, 56404, 56397, 56389, 56388,\n",
       "            56429,\n",
       "            ...\n",
       "            13698, 33531, 13695, 13692, 58898, 13687, 42651, 58914, 13678,\n",
       "            58529],\n",
       "           dtype='int64', length=70000)"
      ]
     },
     "execution_count": 17,
     "metadata": {},
     "output_type": "execute_result"
    }
   ],
   "source": [
    "y.index"
   ]
  },
  {
   "cell_type": "code",
   "execution_count": 18,
   "id": "3de0da71-5844-45e6-aa55-f21a34ab30c4",
   "metadata": {},
   "outputs": [
    {
     "name": "stdout",
     "output_type": "stream",
     "text": [
      "34999    0\n",
      "56424    0\n",
      "56419    0\n",
      "16705    0\n",
      "56415    0\n",
      "        ..\n",
      "13687    9\n",
      "42651    9\n",
      "58914    9\n",
      "13678    9\n",
      "58529    9\n",
      "Name: class, Length: 70000, dtype: uint8\n"
     ]
    }
   ],
   "source": [
    "print(y)"
   ]
  },
  {
   "cell_type": "code",
   "execution_count": 19,
   "id": "3981673c-ca07-4a6b-be4d-970358497831",
   "metadata": {},
   "outputs": [],
   "source": [
    "X = X.reindex(y)"
   ]
  },
  {
   "cell_type": "code",
   "execution_count": 24,
   "id": "a048516a-ebe8-4406-b749-c1ce410c2fbf",
   "metadata": {},
   "outputs": [
    {
     "name": "stdout",
     "output_type": "stream",
     "text": [
      "       pixel1  pixel2  pixel3  pixel4  pixel5  pixel6  pixel7  pixel8  pixel9  \\\n",
      "class                                                                           \n",
      "0         0.0     0.0     0.0     0.0     0.0     0.0     0.0     0.0     0.0   \n",
      "0         0.0     0.0     0.0     0.0     0.0     0.0     0.0     0.0     0.0   \n",
      "0         0.0     0.0     0.0     0.0     0.0     0.0     0.0     0.0     0.0   \n",
      "0         0.0     0.0     0.0     0.0     0.0     0.0     0.0     0.0     0.0   \n",
      "0         0.0     0.0     0.0     0.0     0.0     0.0     0.0     0.0     0.0   \n",
      "...       ...     ...     ...     ...     ...     ...     ...     ...     ...   \n",
      "9         0.0     0.0     0.0     0.0     0.0     0.0     0.0     0.0     0.0   \n",
      "9         0.0     0.0     0.0     0.0     0.0     0.0     0.0     0.0     0.0   \n",
      "9         0.0     0.0     0.0     0.0     0.0     0.0     0.0     0.0     0.0   \n",
      "9         0.0     0.0     0.0     0.0     0.0     0.0     0.0     0.0     0.0   \n",
      "9         0.0     0.0     0.0     0.0     0.0     0.0     0.0     0.0     0.0   \n",
      "\n",
      "       pixel10  ...  pixel775  pixel776  pixel777  pixel778  pixel779  \\\n",
      "class           ...                                                     \n",
      "0          0.0  ...       0.0       0.0       0.0       0.0       0.0   \n",
      "0          0.0  ...       0.0       0.0       0.0       0.0       0.0   \n",
      "0          0.0  ...       0.0       0.0       0.0       0.0       0.0   \n",
      "0          0.0  ...       0.0       0.0       0.0       0.0       0.0   \n",
      "0          0.0  ...       0.0       0.0       0.0       0.0       0.0   \n",
      "...        ...  ...       ...       ...       ...       ...       ...   \n",
      "9          0.0  ...       0.0       0.0       0.0       0.0       0.0   \n",
      "9          0.0  ...       0.0       0.0       0.0       0.0       0.0   \n",
      "9          0.0  ...       0.0       0.0       0.0       0.0       0.0   \n",
      "9          0.0  ...       0.0       0.0       0.0       0.0       0.0   \n",
      "9          0.0  ...       0.0       0.0       0.0       0.0       0.0   \n",
      "\n",
      "       pixel780  pixel781  pixel782  pixel783  pixel784  \n",
      "class                                                    \n",
      "0           0.0       0.0       0.0       0.0       0.0  \n",
      "0           0.0       0.0       0.0       0.0       0.0  \n",
      "0           0.0       0.0       0.0       0.0       0.0  \n",
      "0           0.0       0.0       0.0       0.0       0.0  \n",
      "0           0.0       0.0       0.0       0.0       0.0  \n",
      "...         ...       ...       ...       ...       ...  \n",
      "9           0.0       0.0       0.0       0.0       0.0  \n",
      "9           0.0       0.0       0.0       0.0       0.0  \n",
      "9           0.0       0.0       0.0       0.0       0.0  \n",
      "9           0.0       0.0       0.0       0.0       0.0  \n",
      "9           0.0       0.0       0.0       0.0       0.0  \n",
      "\n",
      "[70000 rows x 784 columns]\n"
     ]
    }
   ],
   "source": [
    "print(X)"
   ]
  },
  {
   "cell_type": "code",
   "execution_count": 26,
   "id": "6f9d69a0-7168-4b00-9189-95c1b5717ff1",
   "metadata": {},
   "outputs": [
    {
     "name": "stdout",
     "output_type": "stream",
     "text": [
      "(56000, 784) (56000,)\n",
      "(14000, 784) (14000,)\n"
     ]
    }
   ],
   "source": [
    " X_train, X_test = X[:56000], X[56000:]\n",
    "y_train, y_test = y[:56000], y[56000:]\n",
    "print(X_train.shape, y_train.shape)\n",
    "print(X_test.shape, y_test.shape)"
   ]
  },
  {
   "cell_type": "code",
   "execution_count": 28,
   "id": "4d705703-bc7e-4e3c-b05b-106bfced7408",
   "metadata": {},
   "outputs": [
    {
     "data": {
      "text/plain": [
       "array([0, 1, 2, 3, 4, 5, 6, 7], dtype=uint8)"
      ]
     },
     "execution_count": 28,
     "metadata": {},
     "output_type": "execute_result"
    }
   ],
   "source": [
    "np.unique(y_train)"
   ]
  },
  {
   "cell_type": "code",
   "execution_count": 29,
   "id": "fd8e47b5-5af2-467a-8b9b-c585c3782b7c",
   "metadata": {},
   "outputs": [
    {
     "data": {
      "text/plain": [
       "array([7, 8, 9], dtype=uint8)"
      ]
     },
     "execution_count": 29,
     "metadata": {},
     "output_type": "execute_result"
    }
   ],
   "source": [
    "np.unique(y_test)"
   ]
  },
  {
   "cell_type": "code",
   "execution_count": 32,
   "id": "7e16308f-d8be-4dd1-a48a-caeddc637022",
   "metadata": {},
   "outputs": [],
   "source": [
    "X_train, X_test, y_train, y_test = train_test_split(X, y, test_size=0.2)"
   ]
  },
  {
   "cell_type": "code",
   "execution_count": 34,
   "id": "5765e260-403d-43e7-b551-5b98eafa0093",
   "metadata": {},
   "outputs": [
    {
     "name": "stdout",
     "output_type": "stream",
     "text": [
      "y_train:  [0 1 2 3 4 5 6 7 8 9]\n"
     ]
    }
   ],
   "source": [
    "print(\"y_train: \", np.unique(y_train))"
   ]
  },
  {
   "cell_type": "code",
   "execution_count": 35,
   "id": "5eb29006-d6ee-429e-bb2f-e51bae0c720f",
   "metadata": {},
   "outputs": [
    {
     "name": "stdout",
     "output_type": "stream",
     "text": [
      "y_test:  [0 1 2 3 4 5 6 7 8 9]\n"
     ]
    }
   ],
   "source": [
    "print(\"y_test: \", np.unique(y_test))"
   ]
  },
  {
   "cell_type": "code",
   "execution_count": 39,
   "id": "67d54751-3ab0-45b3-ae7c-9e75fa1723a7",
   "metadata": {},
   "outputs": [],
   "source": [
    "sgd_clf = SGDClassifier()\n",
    "\n",
    "y_train_0 = (y_train == 0)\n",
    "y_test_0 = (y_test == 0)"
   ]
  },
  {
   "cell_type": "code",
   "execution_count": 40,
   "id": "640bfd1b-7d15-4a56-91dd-a59f07d3ebcb",
   "metadata": {},
   "outputs": [
    {
     "data": {
      "text/plain": [
       "array([False,  True])"
      ]
     },
     "execution_count": 40,
     "metadata": {},
     "output_type": "execute_result"
    }
   ],
   "source": [
    "np.unique(y_train_0)"
   ]
  },
  {
   "cell_type": "code",
   "execution_count": 43,
   "id": "e7150038-4c40-4537-a81c-cdc0acb7e14e",
   "metadata": {},
   "outputs": [
    {
     "data": {
      "text/plain": [
       "SGDClassifier(random_state=42)"
      ]
     },
     "execution_count": 43,
     "metadata": {},
     "output_type": "execute_result"
    }
   ],
   "source": [
    "sgd_clf.fit(X_train, y_train_0)"
   ]
  },
  {
   "cell_type": "code",
   "execution_count": 53,
   "id": "df416428-93f0-4c4d-97fe-a6abc7d3061d",
   "metadata": {},
   "outputs": [
    {
     "name": "stdout",
     "output_type": "stream",
     "text": [
      "train_acc 0.9924821428571429\n",
      "test_acc 0.991\n",
      "[0.9924821428571429, 0.991]\n"
     ]
    }
   ],
   "source": [
    "train_acc = sgd_clf.score(X_train, y_train_0)\n",
    "test_acc = sgd_clf.score(X_test, y_test_0)\n",
    "\n",
    "print(\"train_acc\", train_acc)\n",
    "print(\"test_acc\", test_acc)\n",
    "acc_list = list([train_acc, test_acc])\n",
    "print(acc_list)\n",
    "\n",
    "# acc_list zapisac jako pickle"
   ]
  },
  {
   "cell_type": "code",
   "execution_count": 54,
   "id": "61adb964-8974-4929-af92-65ace2265fae",
   "metadata": {},
   "outputs": [],
   "source": [
    "y_pred = sgd_clf.predict(X_test)\n",
    "\n",
    "cv_score = cross_val_score(sgd_clf, X_train, y_train_0, cv=3, scoring=\"accuracy\")\n",
    "# cs_score zapisac jako pickle"
   ]
  },
  {
   "cell_type": "code",
   "execution_count": 56,
   "id": "a501fe08-7f15-4a98-b531-fae80d3d105c",
   "metadata": {},
   "outputs": [
    {
     "name": "stdout",
     "output_type": "stream",
     "text": [
      "[[1368    0    8    4    2    7    7    1    7    3]\n",
      " [   1 1508   13    1    3    7    1    4   28    1]\n",
      " [  17    7 1213   40   19    4   35   15   61    5]\n",
      " [   8    6   40 1284    8   24    1    7   46   14]\n",
      " [   0    4   13    6 1202    0   15    3   11   43]\n",
      " [  37    5    3   84   39  871   53    3  115   19]\n",
      " [  13    2   17    0   12   11 1302    0    6    0]\n",
      " [   7   11   30   19   23    3    1 1249    7  103]\n",
      " [  14   30   22   35   22   18   19    7 1210   29]\n",
      " [   2    6   16   35   80    6    1   35   12 1231]]\n"
     ]
    }
   ],
   "source": [
    "sgd_clf.fit(X_train, y_train)\n",
    "y_pred = sgd_clf.predict(X_test)\n",
    "\n",
    "conf_mat = confusion_matrix(y_test, y_pred)\n",
    "print(conf_mat)\n",
    "\n",
    "# conf_mat jako pickle"
   ]
  }
 ],
 "metadata": {
  "kernelspec": {
   "display_name": "Python 3 (ipykernel)",
   "language": "python",
   "name": "python3"
  },
  "language_info": {
   "codemirror_mode": {
    "name": "ipython",
    "version": 3
   },
   "file_extension": ".py",
   "mimetype": "text/x-python",
   "name": "python",
   "nbconvert_exporter": "python",
   "pygments_lexer": "ipython3",
   "version": "3.9.10"
  }
 },
 "nbformat": 4,
 "nbformat_minor": 5
}
