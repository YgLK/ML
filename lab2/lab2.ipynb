{
 "cells": [
  {
   "cell_type": "code",
   "execution_count": 1,
   "id": "23deae53-098e-4e5f-a228-07914d7297d1",
   "metadata": {},
   "outputs": [],
   "source": [
    "from sklearn.datasets import fetch_openml\n",
    "import numpy as np\n",
    "import pandas as pd\n",
    "from sklearn.model_selection import train_test_split, cross_val_score\n",
    "from sklearn.linear_model import SGDClassifier\n",
    "from sklearn.metrics import confusion_matrix\n",
    "\n",
    "import pickle"
   ]
  },
  {
   "cell_type": "code",
   "execution_count": 2,
   "id": "30fb69e4-4839-4a12-91db-db0a9c5b3529",
   "metadata": {},
   "outputs": [],
   "source": [
    "# method used for saving object as pickle\n",
    "def save_object_as_pickle(obj, filename):\n",
    "    with open(filename, 'wb') as file:\n",
    "        pickle.dump(obj, file, pickle.HIGHEST_PROTOCOL)"
   ]
  },
  {
   "cell_type": "code",
   "execution_count": 3,
   "id": "865e7fae-0501-410d-8249-4329636e6c7f",
   "metadata": {},
   "outputs": [],
   "source": [
    "mnist = fetch_openml('mnist_784', version=1)"
   ]
  },
  {
   "cell_type": "code",
   "execution_count": 4,
   "id": "0347efc3-ecaa-43e3-8c00-f47d236ff4ac",
   "metadata": {},
   "outputs": [
    {
     "name": "stdout",
     "output_type": "stream",
     "text": [
      "[[0 0 0 0 0 0 0 0 0 0 0 0 0 0 0 0 0 0 0 0 0 0 0 0 0 0 0 0]\n",
      " [0 0 0 0 0 0 0 0 0 0 0 0 0 0 0 0 0 0 0 0 0 0 0 0 0 0 0 0]\n",
      " [0 0 0 0 0 0 0 0 0 0 0 0 0 0 0 0 0 0 0 0 0 0 0 0 0 0 0 0]\n",
      " [0 0 0 0 0 0 0 0 0 0 0 0 0 0 0 0 0 0 0 0 0 0 0 0 0 0 0 0]\n",
      " [0 0 0 0 0 0 0 0 0 0 0 0 0 0 0 0 0 0 0 0 0 0 0 0 0 0 0 0]\n",
      " [0 0 0 0 0 0 0 0 0 0 0 0 0 0 0 0 0 0 0 0 0 0 0 0 0 0 0 0]\n",
      " [0 0 0 0 0 0 0 0 0 0 0 0 0 0 0 0 0 0 0 0 0 0 0 0 0 0 0 0]\n",
      " [0 0 0 0 0 0 0 0 0 0 0 0 0 1 1 1 1 1 1 0 0 0 0 0 0 0 0 0]\n",
      " [0 0 0 0 0 0 0 0 0 0 0 1 1 1 1 1 1 1 1 0 0 0 0 0 0 0 0 0]\n",
      " [0 0 0 0 0 0 0 0 0 1 1 1 1 1 1 1 1 1 0 0 0 0 0 0 0 0 0 0]\n",
      " [0 0 0 0 0 0 0 1 1 1 1 1 1 1 0 1 1 1 0 0 0 0 0 0 0 0 0 0]\n",
      " [0 0 0 0 0 0 0 1 1 1 1 1 0 0 0 1 1 1 0 0 0 0 0 0 0 0 0 0]\n",
      " [0 0 0 0 0 0 0 0 0 0 0 0 0 0 0 1 1 1 0 0 0 0 0 0 0 0 0 0]\n",
      " [0 0 0 0 0 0 0 0 0 0 0 0 0 0 0 1 1 1 0 0 0 0 0 0 0 0 0 0]\n",
      " [0 0 0 0 0 0 0 0 0 0 0 0 0 0 0 1 1 1 0 0 0 0 0 0 0 0 0 0]\n",
      " [0 0 0 0 0 0 0 0 0 0 0 0 0 0 1 1 1 0 0 0 0 0 0 0 0 0 0 0]\n",
      " [0 0 0 0 0 0 0 0 0 0 0 0 0 0 1 1 1 0 0 0 0 0 0 0 0 0 0 0]\n",
      " [0 0 0 0 0 0 0 0 0 0 0 0 0 0 1 1 1 0 0 0 0 0 0 0 0 0 0 0]\n",
      " [0 0 0 0 0 0 0 0 0 0 0 0 0 0 1 1 0 0 0 0 0 0 0 0 0 0 0 0]\n",
      " [0 0 0 0 0 0 0 0 0 0 0 0 0 0 1 1 0 0 0 0 0 0 0 0 0 0 0 0]\n",
      " [0 0 0 0 0 0 0 0 0 0 0 0 0 1 1 1 0 0 0 0 0 0 0 0 0 0 0 0]\n",
      " [0 0 0 0 0 0 0 0 0 0 0 0 0 1 1 1 0 0 0 0 0 0 0 0 0 0 0 0]\n",
      " [0 0 0 0 0 0 0 0 0 0 0 0 0 1 1 1 0 0 0 0 0 0 0 0 0 0 0 0]\n",
      " [0 0 0 0 0 0 0 0 0 0 0 0 0 1 1 1 0 0 0 0 0 0 0 0 0 0 0 0]\n",
      " [0 0 0 0 0 0 0 0 0 0 0 0 0 1 1 0 0 0 0 0 0 0 0 0 0 0 0 0]\n",
      " [0 0 0 0 0 0 0 0 0 0 0 0 1 1 1 0 0 0 0 0 0 0 0 0 0 0 0 0]\n",
      " [0 0 0 0 0 0 0 0 0 0 0 0 1 1 1 0 0 0 0 0 0 0 0 0 0 0 0 0]\n",
      " [0 0 0 0 0 0 0 0 0 0 0 0 0 0 0 0 0 0 0 0 0 0 0 0 0 0 0 0]]\n"
     ]
    }
   ],
   "source": [
    "print((np.array(mnist.data.loc[42]).reshape(28, 28) > 0).astype(int))"
   ]
  },
  {
   "cell_type": "code",
   "execution_count": 5,
   "id": "71dd1da9-897c-4b9c-8ed2-58f58a5b5f2d",
   "metadata": {},
   "outputs": [
    {
     "name": "stdout",
     "output_type": "stream",
     "text": [
      "<class 'sklearn.utils.Bunch'>\n"
     ]
    }
   ],
   "source": [
    "print(type(mnist))"
   ]
  },
  {
   "cell_type": "code",
   "execution_count": 6,
   "id": "702e61f5-11cb-4b79-9b4f-1dba64add79d",
   "metadata": {},
   "outputs": [],
   "source": [
    "X, y = mnist[\"data\"], mnist[\"target\"].astype(np.uint8)"
   ]
  },
  {
   "cell_type": "code",
   "execution_count": 7,
   "id": "cfe5156d-f407-487d-9c83-cd727661b32c",
   "metadata": {},
   "outputs": [
    {
     "name": "stdout",
     "output_type": "stream",
     "text": [
      "<class 'pandas.core.frame.DataFrame'>\n",
      "RangeIndex: 70000 entries, 0 to 69999\n",
      "Columns: 784 entries, pixel1 to pixel784\n",
      "dtypes: float64(784)\n",
      "memory usage: 418.7 MB\n",
      "None\n"
     ]
    }
   ],
   "source": [
    "print(X.info())"
   ]
  },
  {
   "cell_type": "code",
   "execution_count": 8,
   "id": "6b544fdb-81ad-4079-9b24-b2a42722f81d",
   "metadata": {},
   "outputs": [
    {
     "name": "stdout",
     "output_type": "stream",
     "text": [
      "count    70000.000000\n",
      "mean         4.452429\n",
      "std          2.890195\n",
      "min          0.000000\n",
      "25%          2.000000\n",
      "50%          4.000000\n",
      "75%          7.000000\n",
      "max          9.000000\n",
      "Name: class, dtype: float64\n"
     ]
    }
   ],
   "source": [
    "print(y.describe())"
   ]
  },
  {
   "cell_type": "code",
   "execution_count": 9,
   "id": "45953e79-1413-4790-8236-d64559884172",
   "metadata": {},
   "outputs": [],
   "source": [
    "y_sorted = y.sort_values()"
   ]
  },
  {
   "cell_type": "code",
   "execution_count": 10,
   "id": "cbee752c-2c11-4b25-8024-9e8c4d3655a1",
   "metadata": {},
   "outputs": [
    {
     "name": "stdout",
     "output_type": "stream",
     "text": [
      "Int64Index([34999, 56424, 56419, 16705, 56415, 56404, 56397, 56389, 56388,\n",
      "            56429,\n",
      "            ...\n",
      "            13698, 33531, 13695, 13692, 58898, 13687, 42651, 58914, 13678,\n",
      "            58529],\n",
      "           dtype='int64', length=70000)\n"
     ]
    }
   ],
   "source": [
    "print(y_sorted.index)"
   ]
  },
  {
   "cell_type": "code",
   "execution_count": 11,
   "id": "3de0da71-5844-45e6-aa55-f21a34ab30c4",
   "metadata": {},
   "outputs": [
    {
     "name": "stdout",
     "output_type": "stream",
     "text": [
      "34999    0\n",
      "56424    0\n",
      "56419    0\n",
      "16705    0\n",
      "56415    0\n",
      "        ..\n",
      "13687    9\n",
      "42651    9\n",
      "58914    9\n",
      "13678    9\n",
      "58529    9\n",
      "Name: class, Length: 70000, dtype: uint8\n"
     ]
    }
   ],
   "source": [
    "print(y_sorted)"
   ]
  },
  {
   "cell_type": "code",
   "execution_count": 12,
   "id": "3981673c-ca07-4a6b-be4d-970358497831",
   "metadata": {},
   "outputs": [],
   "source": [
    "X_sorted = X.reindex(y)"
   ]
  },
  {
   "cell_type": "code",
   "execution_count": 13,
   "id": "a048516a-ebe8-4406-b749-c1ce410c2fbf",
   "metadata": {},
   "outputs": [
    {
     "name": "stdout",
     "output_type": "stream",
     "text": [
      "       pixel1  pixel2  pixel3  pixel4  pixel5  pixel6  pixel7  pixel8  pixel9  \\\n",
      "class                                                                           \n",
      "5         0.0     0.0     0.0     0.0     0.0     0.0     0.0     0.0     0.0   \n",
      "0         0.0     0.0     0.0     0.0     0.0     0.0     0.0     0.0     0.0   \n",
      "4         0.0     0.0     0.0     0.0     0.0     0.0     0.0     0.0     0.0   \n",
      "1         0.0     0.0     0.0     0.0     0.0     0.0     0.0     0.0     0.0   \n",
      "9         0.0     0.0     0.0     0.0     0.0     0.0     0.0     0.0     0.0   \n",
      "...       ...     ...     ...     ...     ...     ...     ...     ...     ...   \n",
      "2         0.0     0.0     0.0     0.0     0.0     0.0     0.0     0.0     0.0   \n",
      "3         0.0     0.0     0.0     0.0     0.0     0.0     0.0     0.0     0.0   \n",
      "4         0.0     0.0     0.0     0.0     0.0     0.0     0.0     0.0     0.0   \n",
      "5         0.0     0.0     0.0     0.0     0.0     0.0     0.0     0.0     0.0   \n",
      "6         0.0     0.0     0.0     0.0     0.0     0.0     0.0     0.0     0.0   \n",
      "\n",
      "       pixel10  ...  pixel775  pixel776  pixel777  pixel778  pixel779  \\\n",
      "class           ...                                                     \n",
      "5          0.0  ...       0.0       0.0       0.0       0.0       0.0   \n",
      "0          0.0  ...       0.0       0.0       0.0       0.0       0.0   \n",
      "4          0.0  ...       0.0       0.0       0.0       0.0       0.0   \n",
      "1          0.0  ...       0.0       0.0       0.0       0.0       0.0   \n",
      "9          0.0  ...       0.0       0.0       0.0       0.0       0.0   \n",
      "...        ...  ...       ...       ...       ...       ...       ...   \n",
      "2          0.0  ...       0.0       0.0       0.0       0.0       0.0   \n",
      "3          0.0  ...       0.0       0.0       0.0       0.0       0.0   \n",
      "4          0.0  ...       0.0       0.0       0.0       0.0       0.0   \n",
      "5          0.0  ...       0.0       0.0       0.0       0.0       0.0   \n",
      "6          0.0  ...       0.0       0.0       0.0       0.0       0.0   \n",
      "\n",
      "       pixel780  pixel781  pixel782  pixel783  pixel784  \n",
      "class                                                    \n",
      "5           0.0       0.0       0.0       0.0       0.0  \n",
      "0           0.0       0.0       0.0       0.0       0.0  \n",
      "4           0.0       0.0       0.0       0.0       0.0  \n",
      "1           0.0       0.0       0.0       0.0       0.0  \n",
      "9           0.0       0.0       0.0       0.0       0.0  \n",
      "...         ...       ...       ...       ...       ...  \n",
      "2           0.0       0.0       0.0       0.0       0.0  \n",
      "3           0.0       0.0       0.0       0.0       0.0  \n",
      "4           0.0       0.0       0.0       0.0       0.0  \n",
      "5           0.0       0.0       0.0       0.0       0.0  \n",
      "6           0.0       0.0       0.0       0.0       0.0  \n",
      "\n",
      "[70000 rows x 784 columns]\n"
     ]
    }
   ],
   "source": [
    "print(X_sorted)"
   ]
  },
  {
   "cell_type": "code",
   "execution_count": 14,
   "id": "6f9d69a0-7168-4b00-9189-95c1b5717ff1",
   "metadata": {},
   "outputs": [
    {
     "name": "stdout",
     "output_type": "stream",
     "text": [
      "(56000, 784) (56000,)\n",
      "(14000, 784) (14000,)\n"
     ]
    }
   ],
   "source": [
    "X_train, X_test = X_sorted[:56000], X_sorted[56000:]\n",
    "y_train, y_test = y_sorted[:56000], y_sorted[56000:]\n",
    "\n",
    "print(X_train.shape, y_train.shape)\n",
    "print(X_test.shape, y_test.shape)"
   ]
  },
  {
   "cell_type": "code",
   "execution_count": 15,
   "id": "4d705703-bc7e-4e3c-b05b-106bfced7408",
   "metadata": {},
   "outputs": [
    {
     "name": "stdout",
     "output_type": "stream",
     "text": [
      "y_train: [0 1 2 3 4 5 6 7]\n",
      "y_test: [7 8 9]\n"
     ]
    }
   ],
   "source": [
    "print(\"y_train:\", np.unique(y_train))\n",
    "print(\"y_test:\", np.unique(y_test))"
   ]
  },
  {
   "cell_type": "code",
   "execution_count": 16,
   "id": "7e16308f-d8be-4dd1-a48a-caeddc637022",
   "metadata": {},
   "outputs": [],
   "source": [
    "X_train, X_test, y_train, y_test = train_test_split(X, y, test_size=0.2)"
   ]
  },
  {
   "cell_type": "code",
   "execution_count": 17,
   "id": "5765e260-403d-43e7-b551-5b98eafa0093",
   "metadata": {},
   "outputs": [
    {
     "name": "stdout",
     "output_type": "stream",
     "text": [
      "y_train:  [0 1 2 3 4 5 6 7 8 9]\n",
      "y_test:  [0 1 2 3 4 5 6 7 8 9]\n"
     ]
    }
   ],
   "source": [
    "print(\"y_train: \", np.unique(y_train))\n",
    "print(\"y_test: \", np.unique(y_test))"
   ]
  },
  {
   "cell_type": "code",
   "execution_count": 18,
   "id": "67d54751-3ab0-45b3-ae7c-9e75fa1723a7",
   "metadata": {},
   "outputs": [],
   "source": [
    "sgd_clf1 = SGDClassifier()\n",
    "sgd_clf2 = SGDClassifier()\n",
    "\n",
    "y_train_0 = (y_train == 0)\n",
    "y_test_0 = (y_test == 0)"
   ]
  },
  {
   "cell_type": "code",
   "execution_count": 19,
   "id": "640bfd1b-7d15-4a56-91dd-a59f07d3ebcb",
   "metadata": {},
   "outputs": [
    {
     "name": "stdout",
     "output_type": "stream",
     "text": [
      "[False  True]\n"
     ]
    }
   ],
   "source": [
    "print(np.unique(y_train_0))"
   ]
  },
  {
   "cell_type": "code",
   "execution_count": 20,
   "id": "e7150038-4c40-4537-a81c-cdc0acb7e14e",
   "metadata": {},
   "outputs": [
    {
     "data": {
      "text/plain": [
       "SGDClassifier()"
      ]
     },
     "execution_count": 20,
     "metadata": {},
     "output_type": "execute_result"
    }
   ],
   "source": [
    "sgd_clf1.fit(X_train, y_train_0)"
   ]
  },
  {
   "cell_type": "code",
   "execution_count": 21,
   "id": "df416428-93f0-4c4d-97fe-a6abc7d3061d",
   "metadata": {},
   "outputs": [
    {
     "name": "stdout",
     "output_type": "stream",
     "text": [
      "train_acc 0.9918392857142857\n",
      "test_acc 0.9916428571428572\n",
      "[0.9918392857142857, 0.9916428571428572]\n"
     ]
    }
   ],
   "source": [
    "train_acc = sgd_clf1.score(X_train, y_train_0)\n",
    "test_acc = sgd_clf1.score(X_test, y_test_0)\n",
    "\n",
    "print(\"train_acc\", train_acc)\n",
    "print(\"test_acc\", test_acc)\n",
    "acc_list = list([train_acc, test_acc])\n",
    "print(acc_list)\n",
    "\n",
    "# save acc_list as pickle\n",
    "save_object_as_pickle(acc_list, \"sgd_acc.pkl\")"
   ]
  },
  {
   "cell_type": "code",
   "execution_count": 22,
   "id": "61adb964-8974-4929-af92-65ace2265fae",
   "metadata": {},
   "outputs": [
    {
     "name": "stdout",
     "output_type": "stream",
     "text": [
      "[0.98537526 0.98516098 0.98778528]\n"
     ]
    }
   ],
   "source": [
    "y_pred = sgd_clf1.predict(X_test)\n",
    "\n",
    "cv_score = cross_val_score(sgd_clf1, X_train, y_train_0, cv=3, scoring=\"accuracy\", n_jobs=-1)\n",
    "print(cv_score)\n",
    "\n",
    "# save cv_score as pickle\n",
    "save_object_as_pickle(cv_score, \"sgd_cva.pkl\")"
   ]
  },
  {
   "cell_type": "code",
   "execution_count": 23,
   "id": "a501fe08-7f15-4a98-b531-fae80d3d105c",
   "metadata": {},
   "outputs": [
    {
     "name": "stdout",
     "output_type": "stream",
     "text": [
      "[[1350    0    4    3    4    2   10    1    4    2]\n",
      " [   0 1480    6   18    0    5    7    5   14    2]\n",
      " [  16   18 1127   35   21    4   61   50   56    1]\n",
      " [   9    5   41 1281    3   32    7   41   15   18]\n",
      " [   1    5    3    3 1212   10   23   82    4   25]\n",
      " [  22    4    6   65   22  997   73   24   25    6]\n",
      " [   4    3    2    0   10   13 1345    5    3    1]\n",
      " [   2    5    6    4    6    3    1 1409    1    9]\n",
      " [   9   20    6   83   27  151   31  111  905   47]\n",
      " [   6    3    3   14   45   29    0  554    6  748]]\n"
     ]
    }
   ],
   "source": [
    "sgd_clf2.fit(X_train, y_train)\n",
    "y_pred = sgd_clf2.predict(X_test)\n",
    "\n",
    "conf_mat = confusion_matrix(y_test, y_pred)\n",
    "print(conf_mat)\n",
    "\n",
    "# save conf_mat as pickle\n",
    "save_object_as_pickle(conf_mat, \"sgd_cmx.pkl\")"
   ]
  },
  {
   "cell_type": "code",
   "execution_count": 24,
   "id": "ebc7edb3-e3fb-4248-8585-2e81484a6c57",
   "metadata": {},
   "outputs": [
    {
     "name": "stdout",
     "output_type": "stream",
     "text": [
      "acc_list [0.9918392857142857, 0.9916428571428572]\n",
      "cs_score [0.98537526 0.98516098 0.98778528]\n",
      "conf_mat\n",
      " [[1350    0    4    3    4    2   10    1    4    2]\n",
      " [   0 1480    6   18    0    5    7    5   14    2]\n",
      " [  16   18 1127   35   21    4   61   50   56    1]\n",
      " [   9    5   41 1281    3   32    7   41   15   18]\n",
      " [   1    5    3    3 1212   10   23   82    4   25]\n",
      " [  22    4    6   65   22  997   73   24   25    6]\n",
      " [   4    3    2    0   10   13 1345    5    3    1]\n",
      " [   2    5    6    4    6    3    1 1409    1    9]\n",
      " [   9   20    6   83   27  151   31  111  905   47]\n",
      " [   6    3    3   14   45   29    0  554    6  748]]\n"
     ]
    }
   ],
   "source": [
    "# check if pickles are saved correctly\n",
    "print(\"acc_list\", pd.read_pickle(\"sgd_acc.pkl\"))\n",
    "print(\"cs_score\", pd.read_pickle(\"sgd_cva.pkl\"))\n",
    "print(\"conf_mat\\n\", pd.read_pickle(\"sgd_cmx.pkl\"))"
   ]
  }
 ],
 "metadata": {
  "kernelspec": {
   "display_name": "Python 3 (ipykernel)",
   "language": "python",
   "name": "python3"
  },
  "language_info": {
   "codemirror_mode": {
    "name": "ipython",
    "version": 3
   },
   "file_extension": ".py",
   "mimetype": "text/x-python",
   "name": "python",
   "nbconvert_exporter": "python",
   "pygments_lexer": "ipython3",
   "version": "3.8.11"
  }
 },
 "nbformat": 4,
 "nbformat_minor": 5
}
