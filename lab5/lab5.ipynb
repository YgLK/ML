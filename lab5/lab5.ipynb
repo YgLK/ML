{
 "cells": [
  {
   "cell_type": "code",
   "execution_count": 1,
   "id": "972d3417-b377-43be-af50-414cefb78e82",
   "metadata": {},
   "outputs": [],
   "source": [
    "from sklearn import datasets\n",
    "from sklearn.model_selection import train_test_split\n",
    "import numpy as np\n",
    "import pandas as pd\n",
    "from sklearn.tree import DecisionTreeClassifier, DecisionTreeRegressor\n",
    "from sklearn.metrics import f1_score, mean_squared_error\n",
    "import matplotlib.pyplot as plt\n",
    "from sklearn.tree import export_graphviz\n",
    "from sklearn import tree\n",
    "from graphviz import Source\n",
    "\n",
    "import pickle\n"
   ]
  },
  {
   "cell_type": "code",
   "execution_count": 2,
   "id": "7f25d6ca-c4d1-4bf4-bb46-e04a1638ee63",
   "metadata": {},
   "outputs": [],
   "source": [
    "# method used for saving object as pickle\n",
    "def save_object_as_pickle(obj, filename):\n",
    "    with open(filename, 'wb') as file:\n",
    "        pickle.dump(obj, file, pickle.HIGHEST_PROTOCOL)"
   ]
  },
  {
   "cell_type": "markdown",
   "id": "4ae0741f-57c6-4141-a8eb-f675d32823e1",
   "metadata": {
    "tags": []
   },
   "source": [
    "## Drzewa decyzyjne"
   ]
  },
  {
   "cell_type": "markdown",
   "id": "6e8fd0be-d433-4e1a-b0ce-6d7df17dd4b9",
   "metadata": {
    "tags": []
   },
   "source": [
    "### Classification"
   ]
  },
  {
   "cell_type": "markdown",
   "id": "04d0158b-758f-4ef4-8cdd-c9a70619de50",
   "metadata": {},
   "source": [
    "#### Breast cancer"
   ]
  },
  {
   "cell_type": "code",
   "execution_count": 3,
   "id": "0cd3f7f1-fdb2-4df8-85c8-b1432bccbb1a",
   "metadata": {},
   "outputs": [
    {
     "name": "stdout",
     "output_type": "stream",
     "text": [
      ".. _breast_cancer_dataset:\n",
      "\n",
      "Breast cancer wisconsin (diagnostic) dataset\n",
      "--------------------------------------------\n",
      "\n",
      "**Data Set Characteristics:**\n",
      "\n",
      "    :Number of Instances: 569\n",
      "\n",
      "    :Number of Attributes: 30 numeric, predictive attributes and the class\n",
      "\n",
      "    :Attribute Information:\n",
      "        - radius (mean of distances from center to points on the perimeter)\n",
      "        - texture (standard deviation of gray-scale values)\n",
      "        - perimeter\n",
      "        - area\n",
      "        - smoothness (local variation in radius lengths)\n",
      "        - compactness (perimeter^2 / area - 1.0)\n",
      "        - concavity (severity of concave portions of the contour)\n",
      "        - concave points (number of concave portions of the contour)\n",
      "        - symmetry\n",
      "        - fractal dimension (\"coastline approximation\" - 1)\n",
      "\n",
      "        The mean, standard error, and \"worst\" or largest (mean of the three\n",
      "        worst/largest values) of these features were computed for each image,\n",
      "        resulting in 30 features.  For instance, field 0 is Mean Radius, field\n",
      "        10 is Radius SE, field 20 is Worst Radius.\n",
      "\n",
      "        - class:\n",
      "                - WDBC-Malignant\n",
      "                - WDBC-Benign\n",
      "\n",
      "    :Summary Statistics:\n",
      "\n",
      "    ===================================== ====== ======\n",
      "                                           Min    Max\n",
      "    ===================================== ====== ======\n",
      "    radius (mean):                        6.981  28.11\n",
      "    texture (mean):                       9.71   39.28\n",
      "    perimeter (mean):                     43.79  188.5\n",
      "    area (mean):                          143.5  2501.0\n",
      "    smoothness (mean):                    0.053  0.163\n",
      "    compactness (mean):                   0.019  0.345\n",
      "    concavity (mean):                     0.0    0.427\n",
      "    concave points (mean):                0.0    0.201\n",
      "    symmetry (mean):                      0.106  0.304\n",
      "    fractal dimension (mean):             0.05   0.097\n",
      "    radius (standard error):              0.112  2.873\n",
      "    texture (standard error):             0.36   4.885\n",
      "    perimeter (standard error):           0.757  21.98\n",
      "    area (standard error):                6.802  542.2\n",
      "    smoothness (standard error):          0.002  0.031\n",
      "    compactness (standard error):         0.002  0.135\n",
      "    concavity (standard error):           0.0    0.396\n",
      "    concave points (standard error):      0.0    0.053\n",
      "    symmetry (standard error):            0.008  0.079\n",
      "    fractal dimension (standard error):   0.001  0.03\n",
      "    radius (worst):                       7.93   36.04\n",
      "    texture (worst):                      12.02  49.54\n",
      "    perimeter (worst):                    50.41  251.2\n",
      "    area (worst):                         185.2  4254.0\n",
      "    smoothness (worst):                   0.071  0.223\n",
      "    compactness (worst):                  0.027  1.058\n",
      "    concavity (worst):                    0.0    1.252\n",
      "    concave points (worst):               0.0    0.291\n",
      "    symmetry (worst):                     0.156  0.664\n",
      "    fractal dimension (worst):            0.055  0.208\n",
      "    ===================================== ====== ======\n",
      "\n",
      "    :Missing Attribute Values: None\n",
      "\n",
      "    :Class Distribution: 212 - Malignant, 357 - Benign\n",
      "\n",
      "    :Creator:  Dr. William H. Wolberg, W. Nick Street, Olvi L. Mangasarian\n",
      "\n",
      "    :Donor: Nick Street\n",
      "\n",
      "    :Date: November, 1995\n",
      "\n",
      "This is a copy of UCI ML Breast Cancer Wisconsin (Diagnostic) datasets.\n",
      "https://goo.gl/U2Uwz2\n",
      "\n",
      "Features are computed from a digitized image of a fine needle\n",
      "aspirate (FNA) of a breast mass.  They describe\n",
      "characteristics of the cell nuclei present in the image.\n",
      "\n",
      "Separating plane described above was obtained using\n",
      "Multisurface Method-Tree (MSM-T) [K. P. Bennett, \"Decision Tree\n",
      "Construction Via Linear Programming.\" Proceedings of the 4th\n",
      "Midwest Artificial Intelligence and Cognitive Science Society,\n",
      "pp. 97-101, 1992], a classification method which uses linear\n",
      "programming to construct a decision tree.  Relevant features\n",
      "were selected using an exhaustive search in the space of 1-4\n",
      "features and 1-3 separating planes.\n",
      "\n",
      "The actual linear program used to obtain the separating plane\n",
      "in the 3-dimensional space is that described in:\n",
      "[K. P. Bennett and O. L. Mangasarian: \"Robust Linear\n",
      "Programming Discrimination of Two Linearly Inseparable Sets\",\n",
      "Optimization Methods and Software 1, 1992, 23-34].\n",
      "\n",
      "This database is also available through the UW CS ftp server:\n",
      "\n",
      "ftp ftp.cs.wisc.edu\n",
      "cd math-prog/cpo-dataset/machine-learn/WDBC/\n",
      "\n",
      ".. topic:: References\n",
      "\n",
      "   - W.N. Street, W.H. Wolberg and O.L. Mangasarian. Nuclear feature extraction \n",
      "     for breast tumor diagnosis. IS&T/SPIE 1993 International Symposium on \n",
      "     Electronic Imaging: Science and Technology, volume 1905, pages 861-870,\n",
      "     San Jose, CA, 1993.\n",
      "   - O.L. Mangasarian, W.N. Street and W.H. Wolberg. Breast cancer diagnosis and \n",
      "     prognosis via linear programming. Operations Research, 43(4), pages 570-577, \n",
      "     July-August 1995.\n",
      "   - W.H. Wolberg, W.N. Street, and O.L. Mangasarian. Machine learning techniques\n",
      "     to diagnose breast cancer from fine-needle aspirates. Cancer Letters 77 (1994) \n",
      "     163-171.\n"
     ]
    }
   ],
   "source": [
    "data_breast_cancer = datasets.load_breast_cancer(as_frame=True) \n",
    "print(data_breast_cancer['DESCR'])"
   ]
  },
  {
   "cell_type": "code",
   "execution_count": 26,
   "id": "327ef0e3-1669-4414-880f-90b29d71fba0",
   "metadata": {},
   "outputs": [],
   "source": [
    "# split the dataset\n",
    "X = data_breast_cancer['data']\n",
    "y = data_breast_cancer['frame'].target\n",
    "X_train, X_test, y_train, y_test= train_test_split(X, y, test_size=0.2, random_state=42)"
   ]
  },
  {
   "cell_type": "code",
   "execution_count": 30,
   "id": "fa577626-9b5a-4156-8daa-ebc341f456ff",
   "metadata": {},
   "outputs": [
    {
     "data": {
      "text/plain": [
       "0      0\n",
       "1      0\n",
       "2      0\n",
       "3      0\n",
       "4      0\n",
       "      ..\n",
       "564    0\n",
       "565    0\n",
       "566    0\n",
       "567    0\n",
       "568    1\n",
       "Name: target, Length: 569, dtype: int32"
      ]
     },
     "execution_count": 30,
     "metadata": {},
     "output_type": "execute_result"
    }
   ],
   "source": [
    "# X.columns\n",
    "data_breast_cancer['frame'].target"
   ]
  },
  {
   "cell_type": "code",
   "execution_count": 5,
   "id": "b908d02a-1fe2-44a7-8d10-70a7288734a8",
   "metadata": {},
   "outputs": [
    {
     "name": "stdout",
     "output_type": "stream",
     "text": [
      "DEPTH:  1\n",
      "[0.9366197183098592]\n",
      "[0.9130434782608696]\n",
      "[0.9208791208791208]\n",
      "[0.8947368421052632]\n",
      "DEPTH:  2\n",
      "[0.9366197183098592, 0.9452054794520547]\n",
      "[0.9130434782608696, 0.9452054794520549]\n",
      "[0.9208791208791208, 0.9296703296703297]\n",
      "[0.8947368421052632, 0.9298245614035088]\n",
      "DEPTH:  3\n",
      "[0.9366197183098592, 0.9452054794520547, 0.9826388888888888]\n",
      "[0.9130434782608696, 0.9452054794520549, 0.9583333333333334]\n",
      "[0.9208791208791208, 0.9296703296703297, 0.978021978021978]\n",
      "[0.8947368421052632, 0.9298245614035088, 0.9473684210526315]\n",
      "DEPTH:  4\n",
      "[0.9366197183098592, 0.9452054794520547, 0.9826388888888888, 0.9965156794425087]\n",
      "[0.9130434782608696, 0.9452054794520549, 0.9583333333333334, 0.9577464788732394]\n",
      "[0.9208791208791208, 0.9296703296703297, 0.978021978021978, 0.9956043956043956]\n",
      "[0.8947368421052632, 0.9298245614035088, 0.9473684210526315, 0.9473684210526315]\n",
      "DEPTH:  5\n",
      "[0.9366197183098592, 0.9452054794520547, 0.9826388888888888, 0.9965156794425087, 0.9965156794425087]\n",
      "[0.9130434782608696, 0.9452054794520549, 0.9583333333333334, 0.9577464788732394, 0.9577464788732394]\n",
      "[0.9208791208791208, 0.9296703296703297, 0.978021978021978, 0.9956043956043956, 0.9956043956043956]\n",
      "[0.8947368421052632, 0.9298245614035088, 0.9473684210526315, 0.9473684210526315, 0.9473684210526315]\n",
      "DEPTH:  6\n",
      "[0.9366197183098592, 0.9452054794520547, 0.9826388888888888, 0.9965156794425087, 0.9965156794425087, 0.9982547993019197]\n",
      "[0.9130434782608696, 0.9452054794520549, 0.9583333333333334, 0.9577464788732394, 0.9577464788732394, 0.951048951048951]\n",
      "[0.9208791208791208, 0.9296703296703297, 0.978021978021978, 0.9956043956043956, 0.9956043956043956, 0.9978021978021978]\n",
      "[0.8947368421052632, 0.9298245614035088, 0.9473684210526315, 0.9473684210526315, 0.9473684210526315, 0.9385964912280702]\n",
      "DEPTH:  7\n",
      "[0.9366197183098592, 0.9452054794520547, 0.9826388888888888, 0.9965156794425087, 0.9965156794425087, 0.9982547993019197, 1.0]\n",
      "[0.9130434782608696, 0.9452054794520549, 0.9583333333333334, 0.9577464788732394, 0.9577464788732394, 0.951048951048951, 0.9577464788732394]\n",
      "[0.9208791208791208, 0.9296703296703297, 0.978021978021978, 0.9956043956043956, 0.9956043956043956, 0.9978021978021978, 1.0]\n",
      "[0.8947368421052632, 0.9298245614035088, 0.9473684210526315, 0.9473684210526315, 0.9473684210526315, 0.9385964912280702, 0.9473684210526315]\n",
      "DEPTH:  8\n",
      "[0.9366197183098592, 0.9452054794520547, 0.9826388888888888, 0.9965156794425087, 0.9965156794425087, 0.9982547993019197, 1.0, 1.0]\n",
      "[0.9130434782608696, 0.9452054794520549, 0.9583333333333334, 0.9577464788732394, 0.9577464788732394, 0.951048951048951, 0.9577464788732394, 0.9577464788732394]\n",
      "[0.9208791208791208, 0.9296703296703297, 0.978021978021978, 0.9956043956043956, 0.9956043956043956, 0.9978021978021978, 1.0, 1.0]\n",
      "[0.8947368421052632, 0.9298245614035088, 0.9473684210526315, 0.9473684210526315, 0.9473684210526315, 0.9385964912280702, 0.9473684210526315, 0.9473684210526315]\n",
      "DEPTH:  9\n",
      "[0.9366197183098592, 0.9452054794520547, 0.9826388888888888, 0.9965156794425087, 0.9965156794425087, 0.9982547993019197, 1.0, 1.0, 1.0]\n",
      "[0.9130434782608696, 0.9452054794520549, 0.9583333333333334, 0.9577464788732394, 0.9577464788732394, 0.951048951048951, 0.9577464788732394, 0.9577464788732394, 0.9577464788732394]\n",
      "[0.9208791208791208, 0.9296703296703297, 0.978021978021978, 0.9956043956043956, 0.9956043956043956, 0.9978021978021978, 1.0, 1.0, 1.0]\n",
      "[0.8947368421052632, 0.9298245614035088, 0.9473684210526315, 0.9473684210526315, 0.9473684210526315, 0.9385964912280702, 0.9473684210526315, 0.9473684210526315, 0.9473684210526315]\n"
     ]
    }
   ],
   "source": [
    "f1_train = []\n",
    "f1_test = []\n",
    "acc_test = []\n",
    "acc_train = []\n",
    "depth_range = [x for x in range(1,10)]\n",
    "\n",
    "for depth in range(1, 10):\n",
    "    print(\"DEPTH: \", depth)\n",
    "    tree_clf = DecisionTreeClassifier(max_depth = depth, random_state = 42)\n",
    "    tree_clf.fit(X_train,y_train)\n",
    "    y_pred_train = tree_clf.predict(X_train)\n",
    "    y_pred_test = tree_clf.predict(X_test)\n",
    "    f1_train_val = f1_score(y_train, y_pred_train)\n",
    "    f1_test_val = f1_score(y_test, y_pred_test)\n",
    "    f1_train.append(f1_train_val)\n",
    "    f1_test.append(f1_test_val)\n",
    "    acc_test.append(tree_clf.score(X_train, y_train))\n",
    "    acc_train.append(tree_clf.score(X_test, y_test))\n",
    "    print(f1_train)\n",
    "    print(f1_test)\n",
    "    print(acc_test)\n",
    "    print(acc_train)"
   ]
  },
  {
   "cell_type": "code",
   "execution_count": 6,
   "id": "3110fe52-4ed1-4336-81a9-0a78bf8f86c3",
   "metadata": {},
   "outputs": [
    {
     "data": {
      "text/plain": [
       "[<matplotlib.lines.Line2D at 0x14ff3460340>]"
      ]
     },
     "execution_count": 6,
     "metadata": {},
     "output_type": "execute_result"
    },
    {
     "data": {
      "image/png": "[encoded data removed]",
      "text/plain": [
       "<Figure size 432x288 with 1 Axes>"
      ]
     },
     "metadata": {
      "needs_background": "light"
     },
     "output_type": "display_data"
    }
   ],
   "source": [
    "plt.plot(depth_range, f1_train, 'b')\n",
    "plt.plot(depth_range, f1_test, 'g')\n",
    "\n",
    "# depth = 3 wyglada legit"
   ]
  },
  {
   "cell_type": "markdown",
   "id": "5694cde8-3d41-48bc-9a37-958fe4f0e2bf",
   "metadata": {
    "tags": []
   },
   "source": [
    "### Decision tree - classification visualisation"
   ]
  },
  {
   "cell_type": "code",
   "execution_count": 7,
   "id": "5e426474-7624-4d35-ad3b-dbe3c677d87d",
   "metadata": {},
   "outputs": [],
   "source": [
    "# # create decision tree classifier for the most optimal depth = 3 \n",
    "# tree_clf = DecisionTreeClassifier(max_depth = 3, random_state = 42)\n",
    "# tree_clf.fit(X_train,y_train)\n",
    "# y_pred = tree_clf.predict(X)"
   ]
  },
  {
   "cell_type": "code",
   "execution_count": 8,
   "id": "30ff8880-0b05-411a-a5b6-b0ff21084e27",
   "metadata": {},
   "outputs": [],
   "source": [
    "# create decision tree classifier for the most optimal depth = 3 \n",
    "tree_clf = DecisionTreeClassifier(max_depth = 3, random_state = 42)\n",
    "tree_clf.fit(X_train,y_train)\n",
    "y_pred = tree_clf.predict(X)"
   ]
  },
  {
   "cell_type": "code",
   "execution_count": 9,
   "id": "f560212a-e816-46b0-8529-e7dbee9d0701",
   "metadata": {},
   "outputs": [],
   "source": [
    "# f = \"bc\"\n",
    "\n",
    "# graph = Source(\n",
    "#             export_graphviz(\n",
    "#                 tree_clf,\n",
    "#                 out_file=None,\n",
    "#                 rounded=True,\n",
    "#                 filled=True\n",
    "#             )\n",
    "#     )\n",
    "\n",
    "# graph.format = 'png'\n",
    "# graph.render(f,view=False)"
   ]
  },
  {
   "cell_type": "markdown",
   "id": "6da59388-4be6-47da-8230-7ed44d796b6c",
   "metadata": {
    "tags": []
   },
   "source": [
    " ### Tree picture\n",
    " To save picture of the decision tree go to the terminal and type in this command (with ease works in the WSL): <br>\n",
    " `dot -Tpng poly_tree.dot -o poly_tree.png` "
   ]
  },
  {
   "cell_type": "markdown",
   "id": "e63f4ed4-9388-4f1e-b7b5-b812db6bb57e",
   "metadata": {
    "tags": []
   },
   "source": [
    "### save data to pickle"
   ]
  },
  {
   "cell_type": "code",
   "execution_count": 10,
   "id": "516d6204-1d98-424c-b916-48417f938bc3",
   "metadata": {},
   "outputs": [],
   "source": [
    "depth = 3\n",
    "f1_train_depth = f1_train[depth-1]\n",
    "f1_test_depth = f1_test[depth-1]\n",
    "acc_test_depth = acc_test[depth-1]\n",
    "acc_train_depth = acc_train[depth-1]\n",
    "\n",
    "class_f1acc_tree = [depth, f1_train_depth, f1_test_depth, acc_test_depth, acc_train_depth] "
   ]
  },
  {
   "cell_type": "code",
   "execution_count": 11,
   "id": "65c3110a-464c-46b3-9950-b94f03191fe8",
   "metadata": {},
   "outputs": [
    {
     "data": {
      "text/plain": [
       "[3,\n",
       " 0.9826388888888888,\n",
       " 0.9583333333333334,\n",
       " 0.978021978021978,\n",
       " 0.9473684210526315]"
      ]
     },
     "execution_count": 11,
     "metadata": {},
     "output_type": "execute_result"
    }
   ],
   "source": [
    "class_f1acc_tree"
   ]
  },
  {
   "cell_type": "code",
   "execution_count": 12,
   "id": "bb384a70-ff94-4d47-b45f-9c50ace8dc27",
   "metadata": {},
   "outputs": [],
   "source": [
    "filename = \"f1acc_tree.pkl\"\n",
    "save_object_as_pickle(class_f1acc_tree, filename)"
   ]
  },
  {
   "cell_type": "markdown",
   "id": "e9167ee8-bf49-47fa-addb-b277781120f2",
   "metadata": {},
   "source": [
    "## Regression"
   ]
  },
  {
   "cell_type": "code",
   "execution_count": 13,
   "id": "fe9f50c8-96ca-4c2d-9a37-191124226e92",
   "metadata": {},
   "outputs": [
    {
     "data": {
      "text/plain": [
       "<AxesSubplot:xlabel='x', ylabel='y'>"
      ]
     },
     "execution_count": 13,
     "metadata": {},
     "output_type": "execute_result"
    },
    {
     "data": {
      "image/png": "[encoded data removed]",
      "text/plain": [
       "<Figure size 432x288 with 1 Axes>"
      ]
     },
     "metadata": {
      "needs_background": "light"
     },
     "output_type": "display_data"
    }
   ],
   "source": [
    "size = 300\n",
    "X = np.random.rand(size)*5-2.5\n",
    "w4, w3, w2, w1, w0 = 1, 2, 1, -4, 2\n",
    "y = w4*(X**4) + w3*(X**3) + w2*(X**2) + w1*X + w0 + np.random.randn(size)*8-4 \n",
    "df = pd.DataFrame({'x': X, 'y': y})\n",
    "df.plot.scatter(x='x',y='y')"
   ]
  },
  {
   "cell_type": "code",
   "execution_count": 14,
   "id": "8d6331e0-c5a1-47a4-be01-d4a42ab7c91a",
   "metadata": {},
   "outputs": [],
   "source": [
    "X = X.reshape(-1,1)\n",
    "X_train, X_test, y_train, y_test= train_test_split(X, y, test_size=0.2, random_state=42)"
   ]
  },
  {
   "cell_type": "code",
   "execution_count": 15,
   "id": "218dfedf-7a57-4e6b-a8c7-1f080898cedf",
   "metadata": {},
   "outputs": [
    {
     "name": "stdout",
     "output_type": "stream",
     "text": [
      "DEPTH:  1\n",
      "[108.63949358701014]\n",
      "[159.79367874522802]\n",
      "[0.5520678262741388]\n",
      "[0.5689090453925272]\n",
      "DEPTH:  2\n",
      "[108.63949358701014, 75.26186415144979]\n",
      "[159.79367874522802, 112.06449281452551]\n",
      "[0.5520678262741388, 0.689687338416954]\n",
      "[0.5689090453925272, 0.6976727141876456]\n",
      "DEPTH:  3\n",
      "[108.63949358701014, 75.26186415144979, 61.41857980832107]\n",
      "[159.79367874522802, 112.06449281452551, 108.96592681582393]\n",
      "[0.5520678262741388, 0.689687338416954, 0.7467646704495865]\n",
      "[0.5689090453925272, 0.6976727141876456, 0.7060320171637304]\n",
      "DEPTH:  4\n",
      "[108.63949358701014, 75.26186415144979, 61.41857980832107, 54.41065150921439]\n",
      "[159.79367874522802, 112.06449281452551, 108.96592681582393, 105.09247848484388]\n",
      "[0.5520678262741388, 0.689687338416954, 0.7467646704495865, 0.7756591033366445]\n",
      "[0.5689090453925272, 0.6976727141876456, 0.7060320171637304, 0.716481795601382]\n",
      "DEPTH:  5\n",
      "[108.63949358701014, 75.26186415144979, 61.41857980832107, 54.41065150921439, 45.55057006795426]\n",
      "[159.79367874522802, 112.06449281452551, 108.96592681582393, 105.09247848484388, 102.10255492819853]\n",
      "[0.5520678262741388, 0.689687338416954, 0.7467646704495865, 0.7756591033366445, 0.8121901603982575]\n",
      "[0.5689090453925272, 0.6976727141876456, 0.7060320171637304, 0.716481795601382, 0.7245480032909406]\n",
      "DEPTH:  6\n",
      "[108.63949358701014, 75.26186415144979, 61.41857980832107, 54.41065150921439, 45.55057006795426, 40.71927038086733]\n",
      "[159.79367874522802, 112.06449281452551, 108.96592681582393, 105.09247848484388, 102.10255492819853, 106.81183885137722]\n",
      "[0.5520678262741388, 0.689687338416954, 0.7467646704495865, 0.7756591033366445, 0.8121901603982575, 0.8321101222768048]\n",
      "[0.5689090453925272, 0.6976727141876456, 0.7060320171637304, 0.716481795601382, 0.7245480032909406, 0.7118433098518621]\n",
      "DEPTH:  7\n",
      "[108.63949358701014, 75.26186415144979, 61.41857980832107, 54.41065150921439, 45.55057006795426, 40.71927038086733, 35.68748797901265]\n",
      "[159.79367874522802, 112.06449281452551, 108.96592681582393, 105.09247848484388, 102.10255492819853, 106.81183885137722, 116.71658452832773]\n",
      "[0.5520678262741388, 0.689687338416954, 0.7467646704495865, 0.7756591033366445, 0.8121901603982575, 0.8321101222768048, 0.8528566956872666]\n",
      "[0.5689090453925272, 0.6976727141876456, 0.7060320171637304, 0.716481795601382, 0.7245480032909406, 0.7118433098518621, 0.6851223137364363]\n",
      "DEPTH:  8\n",
      "[108.63949358701014, 75.26186415144979, 61.41857980832107, 54.41065150921439, 45.55057006795426, 40.71927038086733, 35.68748797901265, 30.861789982567924]\n",
      "[159.79367874522802, 112.06449281452551, 108.96592681582393, 105.09247848484388, 102.10255492819853, 106.81183885137722, 116.71658452832773, 123.89655692090805]\n",
      "[0.5520678262741388, 0.689687338416954, 0.7467646704495865, 0.7756591033366445, 0.8121901603982575, 0.8321101222768048, 0.8528566956872666, 0.8727535612001824]\n",
      "[0.5689090453925272, 0.6976727141876456, 0.7060320171637304, 0.716481795601382, 0.7245480032909406, 0.7118433098518621, 0.6851223137364363, 0.6657522036227083]\n",
      "DEPTH:  9\n",
      "[108.63949358701014, 75.26186415144979, 61.41857980832107, 54.41065150921439, 45.55057006795426, 40.71927038086733, 35.68748797901265, 30.861789982567924, 25.475945048858254]\n",
      "[159.79367874522802, 112.06449281452551, 108.96592681582393, 105.09247848484388, 102.10255492819853, 106.81183885137722, 116.71658452832773, 123.89655692090805, 124.32388170302944]\n",
      "[0.5520678262741388, 0.689687338416954, 0.7467646704495865, 0.7756591033366445, 0.8121901603982575, 0.8321101222768048, 0.8528566956872666, 0.8727535612001824, 0.8949599720444561]\n",
      "[0.5689090453925272, 0.6976727141876456, 0.7060320171637304, 0.716481795601382, 0.7245480032909406, 0.7118433098518621, 0.6851223137364363, 0.6657522036227083, 0.6645993679805309]\n",
      "DEPTH:  10\n",
      "[108.63949358701014, 75.26186415144979, 61.41857980832107, 54.41065150921439, 45.55057006795426, 40.71927038086733, 35.68748797901265, 30.861789982567924, 25.475945048858254, 19.63295484630204]\n",
      "[159.79367874522802, 112.06449281452551, 108.96592681582393, 105.09247848484388, 102.10255492819853, 106.81183885137722, 116.71658452832773, 123.89655692090805, 124.32388170302944, 131.0395128004134]\n",
      "[0.5520678262741388, 0.689687338416954, 0.7467646704495865, 0.7756591033366445, 0.8121901603982575, 0.8321101222768048, 0.8528566956872666, 0.8727535612001824, 0.8949599720444561, 0.9190512413984847]\n",
      "[0.5689090453925272, 0.6976727141876456, 0.7060320171637304, 0.716481795601382, 0.7245480032909406, 0.7118433098518621, 0.6851223137364363, 0.6657522036227083, 0.6645993679805309, 0.6464819565579007]\n",
      "DEPTH:  11\n",
      "[108.63949358701014, 75.26186415144979, 61.41857980832107, 54.41065150921439, 45.55057006795426, 40.71927038086733, 35.68748797901265, 30.861789982567924, 25.475945048858254, 19.63295484630204, 14.997065950597143]\n",
      "[159.79367874522802, 112.06449281452551, 108.96592681582393, 105.09247848484388, 102.10255492819853, 106.81183885137722, 116.71658452832773, 123.89655692090805, 124.32388170302944, 131.0395128004134, 126.11356779263458]\n",
      "[0.5520678262741388, 0.689687338416954, 0.7467646704495865, 0.7756591033366445, 0.8121901603982575, 0.8321101222768048, 0.8528566956872666, 0.8727535612001824, 0.8949599720444561, 0.9190512413984847, 0.9381655038240688]\n",
      "[0.5689090453925272, 0.6976727141876456, 0.7060320171637304, 0.716481795601382, 0.7245480032909406, 0.7118433098518621, 0.6851223137364363, 0.6657522036227083, 0.6645993679805309, 0.6464819565579007, 0.6597711576853934]\n"
     ]
    }
   ],
   "source": [
    "MSE_train = []\n",
    "MSE_test = []\n",
    "acc_test = []\n",
    "acc_train = []\n",
    "depth_range = [x for x in range(1,12)]\n",
    "\n",
    "for depth in range(1, 12):\n",
    "    print(\"DEPTH: \", depth)\n",
    "    tree_reg = DecisionTreeRegressor(max_depth = depth, random_state = 42)\n",
    "    tree_reg.fit(X_train,y_train)\n",
    "    y_pred_train = tree_reg.predict(X_train)\n",
    "    y_test_train = tree_reg.predict(X_test)\n",
    "    MSE_train_val = mean_squared_error(y_train, y_pred_train)\n",
    "    MSE_test_val = mean_squared_error(y_test, y_test_train)\n",
    "    MSE_train.append(MSE_train_val)\n",
    "    MSE_test.append(MSE_test_val)\n",
    "    acc_test.append(tree_reg.score(X_train, y_train))\n",
    "    acc_train.append(tree_reg.score(X_test, y_test))\n",
    "    print(MSE_train)\n",
    "    print(MSE_test)\n",
    "    print(acc_test)\n",
    "    print(acc_train)"
   ]
  },
  {
   "cell_type": "code",
   "execution_count": 16,
   "id": "4871f107-961e-4aae-86d6-6a3f31666a8e",
   "metadata": {},
   "outputs": [
    {
     "data": {
      "text/plain": [
       "[<matplotlib.lines.Line2D at 0x14ff36805b0>]"
      ]
     },
     "execution_count": 16,
     "metadata": {},
     "output_type": "execute_result"
    },
    {
     "data": {
      "image/png": "[encoded data removed]",
      "text/plain": [
       "<Figure size 432x288 with 1 Axes>"
      ]
     },
     "metadata": {
      "needs_background": "light"
     },
     "output_type": "display_data"
    }
   ],
   "source": [
    "plt.plot(depth_range, MSE_train, 'b')\n",
    "plt.plot(depth_range, MSE_test, 'g')"
   ]
  },
  {
   "cell_type": "markdown",
   "id": "2bfa58f4-f85b-4ff4-9b0f-ff74bd917225",
   "metadata": {},
   "source": [
    "### Chosen depth based on the min value of test MSE "
   ]
  },
  {
   "cell_type": "code",
   "execution_count": 17,
   "id": "367c035c-51b1-4bca-9767-8f99444f32be",
   "metadata": {},
   "outputs": [
    {
     "name": "stdout",
     "output_type": "stream",
     "text": [
      "5\n"
     ]
    }
   ],
   "source": [
    "# get index of min value in MSE_test array and increment by 1 \n",
    "# to get depth starting from 1, not 0\n",
    "depth = min(range(len(MSE_test)), key=MSE_test.__getitem__) + 1\n",
    "print(depth)\n",
    "\n",
    "tree_reg = DecisionTreeRegressor(max_depth = depth, random_state = 42)\n",
    "tree_reg.fit(X_train,y_train)\n",
    "y_pred = tree_reg.predict(X)"
   ]
  },
  {
   "cell_type": "code",
   "execution_count": 18,
   "id": "ca30ad59-a556-479c-8f64-27489bd36937",
   "metadata": {},
   "outputs": [
    {
     "data": {
      "text/html": [
       "<div>\n",
       "<style scoped>\n",
       "    .dataframe tbody tr th:only-of-type {\n",
       "        vertical-align: middle;\n",
       "    }\n",
       "\n",
       "    .dataframe tbody tr th {\n",
       "        vertical-align: top;\n",
       "    }\n",
       "\n",
       "    .dataframe thead th {\n",
       "        text-align: right;\n",
       "    }\n",
       "</style>\n",
       "<table border=\"1\" class=\"dataframe\">\n",
       "  <thead>\n",
       "    <tr style=\"text-align: right;\">\n",
       "      <th></th>\n",
       "      <th>X</th>\n",
       "      <th>y_pred</th>\n",
       "    </tr>\n",
       "  </thead>\n",
       "  <tbody>\n",
       "    <tr>\n",
       "      <th>60</th>\n",
       "      <td>-2.489498</td>\n",
       "      <td>31.343560</td>\n",
       "    </tr>\n",
       "    <tr>\n",
       "      <th>89</th>\n",
       "      <td>-2.412069</td>\n",
       "      <td>31.343560</td>\n",
       "    </tr>\n",
       "    <tr>\n",
       "      <th>113</th>\n",
       "      <td>-2.410321</td>\n",
       "      <td>31.343560</td>\n",
       "    </tr>\n",
       "    <tr>\n",
       "      <th>115</th>\n",
       "      <td>-2.407167</td>\n",
       "      <td>28.663435</td>\n",
       "    </tr>\n",
       "    <tr>\n",
       "      <th>222</th>\n",
       "      <td>-2.378451</td>\n",
       "      <td>15.561116</td>\n",
       "    </tr>\n",
       "  </tbody>\n",
       "</table>\n",
       "</div>"
      ],
      "text/plain": [
       "            X     y_pred\n",
       "60  -2.489498  31.343560\n",
       "89  -2.412069  31.343560\n",
       "113 -2.410321  31.343560\n",
       "115 -2.407167  28.663435\n",
       "222 -2.378451  15.561116"
      ]
     },
     "execution_count": 18,
     "metadata": {},
     "output_type": "execute_result"
    },
    {
     "data": {
      "text/plain": [
       "<Figure size 432x288 with 0 Axes>"
      ]
     },
     "metadata": {},
     "output_type": "display_data"
    }
   ],
   "source": [
    "plt.clf()\n",
    "\n",
    "X_as_flat_list = [item for sublist in X for item in sublist]\n",
    "d = {'X': X_as_flat_list, 'y_pred': y_pred}\n",
    "\n",
    "pred_data = pd.DataFrame(data=d)\n",
    "pred_data = pred_data.sort_values(by='X')\n",
    "pred_data.head()"
   ]
  },
  {
   "cell_type": "code",
   "execution_count": 19,
   "id": "feb21646-e4c6-491c-9e90-0b46d093f36f",
   "metadata": {},
   "outputs": [
    {
     "data": {
      "text/plain": [
       "<AxesSubplot:xlabel='x', ylabel='y'>"
      ]
     },
     "execution_count": 19,
     "metadata": {},
     "output_type": "execute_result"
    },
    {
     "data": {
      "image/png": "[encoded data removed]",
      "text/plain": [
       "<Figure size 432x288 with 1 Axes>"
      ]
     },
     "metadata": {
      "needs_background": "light"
     },
     "output_type": "display_data"
    }
   ],
   "source": [
    "ax = pred_data.plot.line(x='X',y='y_pred', color ='red')\n",
    "df.plot.scatter(x='x',y='y', ax=ax)"
   ]
  },
  {
   "cell_type": "markdown",
   "id": "b21ffac4-3ffd-4bd5-a720-6cc398dde7c2",
   "metadata": {
    "tags": []
   },
   "source": [
    "### Decision tree - regression visualisation"
   ]
  },
  {
   "cell_type": "markdown",
   "id": "d5b9acee-f86f-45ea-b692-3e5351db72ea",
   "metadata": {
    "jp-MarkdownHeadingCollapsed": true,
    "tags": []
   },
   "source": [
    " ### Tree picture\n",
    " To save picture of the decision tree go to the terminal and type in this command (with ease works in the WSL): <br>\n",
    " `dot -Tpng poly_tree.dot -o poly_tree.png` "
   ]
  },
  {
   "cell_type": "code",
   "execution_count": 20,
   "id": "e1d4e04b-e8bf-4626-8858-e8a653f20d19",
   "metadata": {},
   "outputs": [],
   "source": [
    "## create png of the decision tree\n",
    "# ! dot -Tpng reg.dot -o reg.png"
   ]
  },
  {
   "cell_type": "markdown",
   "id": "c08d7161-442d-4c25-ab09-3e2d57025adb",
   "metadata": {
    "tags": []
   },
   "source": [
    "### save data to pickle"
   ]
  },
  {
   "cell_type": "code",
   "execution_count": 21,
   "id": "4af938d0-adfd-4034-aacd-18bfeb62949e",
   "metadata": {},
   "outputs": [],
   "source": [
    "MSE_train_depth = MSE_train[depth-1]\n",
    "MSE_test_depth = MSE_test[depth-1]\n",
    "\n",
    "class_f1acc_tree = [depth, MSE_train_depth, MSE_test_depth] "
   ]
  },
  {
   "cell_type": "code",
   "execution_count": 22,
   "id": "274af0cc-fa93-4b29-8c82-26c1294c7b20",
   "metadata": {},
   "outputs": [
    {
     "data": {
      "text/plain": [
       "[5, 45.55057006795426, 102.10255492819853]"
      ]
     },
     "execution_count": 22,
     "metadata": {},
     "output_type": "execute_result"
    }
   ],
   "source": [
    "class_f1acc_tree"
   ]
  },
  {
   "cell_type": "code",
   "execution_count": 23,
   "id": "cfe327b8-c35b-4bfc-aabb-f6ff046b2be9",
   "metadata": {},
   "outputs": [],
   "source": [
    "filename = \"mse_tree.pkl\"\n",
    "save_object_as_pickle(class_f1acc_tree, filename)"
   ]
  },
  {
   "cell_type": "markdown",
   "id": "d6beff66-0cb6-48c5-87d0-0177669bb106",
   "metadata": {},
   "source": [
    "### CHECK SAVED DATA"
   ]
  },
  {
   "cell_type": "code",
   "execution_count": 24,
   "id": "ada5442d-9df3-44d9-aa30-92f271df0523",
   "metadata": {},
   "outputs": [
    {
     "name": "stdout",
     "output_type": "stream",
     "text": [
      "f1acc_tree.pkl\n",
      " [3, 0.9826388888888888, 0.9583333333333334, 0.978021978021978, 0.9473684210526315]\n",
      "mse_tree.pkl\n",
      " [5, 45.55057006795426, 102.10255492819853]\n"
     ]
    }
   ],
   "source": [
    "# check if pickles are saved correctly\n",
    "print(\"f1acc_tree.pkl\\n\", pd.read_pickle(\"f1acc_tree.pkl\"))\n",
    "print(\"mse_tree.pkl\\n\", pd.read_pickle(\"mse_tree.pkl\"))"
   ]
  },
  {
   "cell_type": "markdown",
   "id": "e33b2bc8-d3d0-45ab-8487-f0fa72f5b562",
   "metadata": {},
   "source": [
    "## Save decision trees to png file"
   ]
  },
  {
   "cell_type": "markdown",
   "id": "8eb87216-0a0d-44fc-acb4-901b52b5aece",
   "metadata": {
    "tags": []
   },
   "source": [
    "### Save Decision tree to png - classification"
   ]
  },
  {
   "cell_type": "code",
   "execution_count": null,
   "id": "02f5bbdd-fb6b-446d-a435-df19785c9029",
   "metadata": {},
   "outputs": [],
   "source": [
    "from sklearn import tree\n",
    "\n",
    "f = \"reg\"\n",
    "\n",
    "graph = Source(\n",
    "            export_graphviz(\n",
    "                tree_reg,\n",
    "                out_file=None,\n",
    "                feature_names=df.columns[0],\n",
    "                class_names=df.columns[1],\n",
    "                rounded=True,\n",
    "                filled=True\n",
    "            )\n",
    "    )\n",
    "\n",
    "graph.format = 'png'\n",
    "graph.render(f,view=False)"
   ]
  },
  {
   "cell_type": "markdown",
   "id": "33b18248-8f39-4f09-8c39-40f503d44cf0",
   "metadata": {
    "tags": []
   },
   "source": [
    "### Save Decision tree to png - classification"
   ]
  },
  {
   "cell_type": "code",
   "execution_count": null,
   "id": "65b56ae9-ae6a-4eb2-b4b1-960a1663d996",
   "metadata": {},
   "outputs": [],
   "source": [
    "f = \"bc\"\n",
    "\n",
    "graph = Source(\n",
    "            export_graphviz(\n",
    "                tree_clf,\n",
    "                feature_names=data_breast_cancer['data'].columns,\n",
    "                \n",
    "                out_file=None,\n",
    "                rounded=True,\n",
    "                filled=True\n",
    "            )\n",
    "    )\n",
    "\n",
    "graph.format = 'png'\n",
    "graph.render(f,view=False)"
   ]
  },
  {
   "cell_type": "markdown",
   "id": "61d8a2ea-46cd-45b7-ae69-e0c7ad990784",
   "metadata": {
    "tags": []
   },
   "source": [
    " ### Tree picture\n",
    " To save picture of the decision tree go to the terminal and type in this command (with ease works in the WSL): <br>\n",
    " `dot -Tpng poly_tree.dot -o poly_tree.png` "
   ]
  }
 ],
 "metadata": {
  "kernelspec": {
   "display_name": "Python 3 (ipykernel)",
   "language": "python",
   "name": "python3"
  },
  "language_info": {
   "codemirror_mode": {
    "name": "ipython",
    "version": 3
   },
   "file_extension": ".py",
   "mimetype": "text/x-python",
   "name": "python",
   "nbconvert_exporter": "python",
   "pygments_lexer": "ipython3",
   "version": "3.9.7"
  }
 },
 "nbformat": 4,
 "nbformat_minor": 5
}
