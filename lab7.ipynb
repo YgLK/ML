{
 "cells": [
  {
   "cell_type": "code",
   "execution_count": 7,
   "id": "233d35fd-c321-4aed-8074-b010c90bd010",
   "metadata": {},
   "outputs": [
    {
     "name": "stderr",
     "output_type": "stream",
     "text": [
      "Fontconfig warning: ignoring UTF-8: not a valid region tag\n"
     ]
    }
   ],
   "source": [
    "from sklearn.datasets import fetch_openml\n",
    "import numpy as np\n",
    "\n",
    "from sklearn.cluster import KMeans\n",
    "from sklearn.metrics import silhouette_score\n",
    "from sklearn.metrics import confusion_matrix\n",
    "import matplotlib.pyplot as plt"
   ]
  },
  {
   "cell_type": "markdown",
   "id": "e1dd6f85-404e-4d19-a404-c6a671b49c1d",
   "metadata": {},
   "source": [
    "### Load the data"
   ]
  },
  {
   "cell_type": "code",
   "execution_count": 2,
   "id": "c4e50470-eb5f-48ff-9b05-f91a0ca18eca",
   "metadata": {},
   "outputs": [],
   "source": [
    "mnist = fetch_openml('mnist_784', version=1, as_frame=False) \n",
    "mnist.target = mnist.target.astype(np.uint8)\n",
    "X = mnist[\"data\"]\n",
    "y = mnist[\"target\"]"
   ]
  },
  {
   "cell_type": "markdown",
   "id": "a5b3998c-4b40-4704-b8ff-1fce2c551b9d",
   "metadata": {},
   "source": [
    "### Clustering"
   ]
  },
  {
   "cell_type": "code",
   "execution_count": null,
   "id": "c254867c-3d84-4013-ac39-96c0f2905028",
   "metadata": {},
   "outputs": [],
   "source": [
    "cluster_nums = [8,9,10,11,12]\n",
    "silh_scores = []\n",
    "\n",
    "for k in cluster_nums:\n",
    "    kmeans = KMeans(n_clusters=k, random_state=42)\n",
    "    y_pred = kmeans.fit_predict(X)\n",
    "    s_score = silhouette_score(X, kmeans.labels_)\n",
    "    silh_scores.append(s_score)\n",
    "    \n",
    "print(\"Silhouette score list:\", silh_scores)"
   ]
  },
  {
   "cell_type": "code",
   "execution_count": 8,
   "id": "f0da436b-cf08-485f-b887-a09b8aaab8dc",
   "metadata": {},
   "outputs": [
    {
     "data": {
      "text/plain": [
       "[<matplotlib.lines.Line2D at 0x137539c10>]"
      ]
     },
     "execution_count": 8,
     "metadata": {},
     "output_type": "execute_result"
    },
    {
     "data": {
      "image/png": "[encoded data removed]",
      "text/plain": [
       "<Figure size 432x288 with 1 Axes>"
      ]
     },
     "metadata": {
      "needs_background": "light"
     },
     "output_type": "display_data"
    }
   ],
   "source": [
    "plt.plot(cluster_nums, silh_scores)"
   ]
  },
  {
   "cell_type": "code",
   "execution_count": 9,
   "id": "b569016d-f3d3-4250-bb4c-21cb8da1e307",
   "metadata": {},
   "outputs": [],
   "source": [
    "kmeans10 = KMeans(n_clusters=10, random_state=42)\n",
    "y_pred10 = kmeans.fit_predict(X)\n",
    "\n",
    "conf_matrix10 = confusion_matrix(y, y_pred10)"
   ]
  },
  {
   "cell_type": "code",
   "execution_count": 10,
   "id": "ef047c77-c90b-4bec-88b8-a8147441594b",
   "metadata": {},
   "outputs": [
    {
     "data": {
      "text/plain": [
       "array([[  73,   24,   23, 2991, 3049,  130,   20,  347,   15,    1,   14,\n",
       "         216],\n",
       "       [   9,    6,    6,    0,    0,    5,   10,   14,    9, 4315, 3492,\n",
       "          11],\n",
       "       [ 190,  207,   72,  109,   13,   68, 4897,  212,   50,  339,  483,\n",
       "         350],\n",
       "       [1186,  111,   53,  103,   16,   17,  266,  150,  141,  370,   87,\n",
       "        4641],\n",
       "       [   5, 2585, 1815,   12,    3,  110,   18,  207, 1765,   96,  208,\n",
       "           0],\n",
       "       [1494,  280,  490,  178,   64,   43,    9,  687,  268,  127,  601,\n",
       "        2072],\n",
       "       [  11,   61,    2,   88,   59, 3172,   22, 3283,    5,   63,   80,\n",
       "          30],\n",
       "       [   8,  779, 3025,   12,   10,    3,   42,    3, 2893,  238,  277,\n",
       "           3],\n",
       "       [4047,  149,  253,   37,   40,   40,   59,   80,  161,  260,  398,\n",
       "        1301],\n",
       "       [  48, 1918, 1813,   26,   29,   12,    9,   10, 2783,  142,   76,\n",
       "          92],\n",
       "       [   0,    0,    0,    0,    0,    0,    0,    0,    0,    0,    0,\n",
       "           0],\n",
       "       [   0,    0,    0,    0,    0,    0,    0,    0,    0,    0,    0,\n",
       "           0]])"
      ]
     },
     "execution_count": 10,
     "metadata": {},
     "output_type": "execute_result"
    }
   ],
   "source": [
    "conf_matrix10"
   ]
  },
  {
   "cell_type": "markdown",
   "id": "fc11ce6f-e89a-4743-b124-d68c40f26135",
   "metadata": {},
   "source": [
    "#### 3.5 Find max value idx of each row"
   ]
  },
  {
   "cell_type": "code",
   "execution_count": 16,
   "id": "e0321325-84a8-436a-ac0c-f365e615f874",
   "metadata": {},
   "outputs": [],
   "source": [
    "max_val_idxs = []\n",
    "for row in conf_matrix10:\n",
    "    idx = np.argmax(row)\n",
    "    max_val_idxs.append(idx)\n",
    "\n",
    "# without duplicates \n",
    "no_dupl_min_vals = set(max_val_idxs)"
   ]
  },
  {
   "cell_type": "code",
   "execution_count": 17,
   "id": "db200a3a-cbe8-4734-8af4-982f91abf40b",
   "metadata": {},
   "outputs": [
    {
     "data": {
      "text/plain": [
       "{0, 1, 2, 4, 6, 7, 8, 9, 11}"
      ]
     },
     "execution_count": 17,
     "metadata": {},
     "output_type": "execute_result"
    }
   ],
   "source": [
    "no_dupl_min_vals"
   ]
  },
  {
   "cell_type": "markdown",
   "id": "aa481306-bb8a-4263-9d33-d2fdcb95cdfb",
   "metadata": {},
   "source": [
    "### DBSCAN"
   ]
  },
  {
   "cell_type": "code",
   "execution_count": 34,
   "id": "4a285fc9-46f4-480e-b5ee-be1e66975082",
   "metadata": {},
   "outputs": [],
   "source": [
    "norm_val = []\n",
    "\n",
    "for i in range(300):\n",
    "    for j in range(300):\n",
    "        if i == j:\n",
    "            continue\n",
    "        norm_val.append(np.linalg.norm(X[i] - X[j]))"
   ]
  },
  {
   "cell_type": "code",
   "execution_count": 44,
   "id": "b4886b7b-6496-4057-873d-4a778158ae08",
   "metadata": {},
   "outputs": [
    {
     "name": "stdout",
     "output_type": "stream",
     "text": [
      "[419.58312645 524.32528072 636.2460216  638.28990279 638.45203422\n",
      " 653.34753386 669.58270587 703.489872   723.56133119 739.42004301]\n"
     ]
    }
   ],
   "source": [
    "norm_val_sorted = np.unique(np.sort(norm_val))\n",
    "dist = norm_val_sorted[:10]\n",
    "print(dist)"
   ]
  },
  {
   "cell_type": "code",
   "execution_count": 49,
   "id": "b9f4a6e7-6842-4c3e-ae0c-245f5a7672ab",
   "metadata": {},
   "outputs": [
    {
     "data": {
      "text/plain": [
       "526.7181429215666"
      ]
     },
     "execution_count": 49,
     "metadata": {},
     "output_type": "execute_result"
    }
   ],
   "source": [
    "s = dist[:3].mean()\n",
    "s"
   ]
  },
  {
   "cell_type": "code",
   "execution_count": null,
   "id": "b6c6d054-0d3f-42cc-b49f-7c2d1c3fd466",
   "metadata": {},
   "outputs": [],
   "source": [
    "# krok co \n",
    "eps_list = [s for x in range()]"
   ]
  }
 ],
 "metadata": {
  "kernelspec": {
   "display_name": "Python 3 (ipykernel)",
   "language": "python",
   "name": "python3"
  },
  "language_info": {
   "codemirror_mode": {
    "name": "ipython",
    "version": 3
   },
   "file_extension": ".py",
   "mimetype": "text/x-python",
   "name": "python",
   "nbconvert_exporter": "python",
   "pygments_lexer": "ipython3",
   "version": "3.9.10"
  }
 },
 "nbformat": 4,
 "nbformat_minor": 5
}
