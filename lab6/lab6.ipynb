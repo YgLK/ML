{
 "cells": [
  {
   "cell_type": "code",
   "execution_count": 32,
   "id": "278c16be-d74b-4d90-83a8-e3c96bd9d30b",
   "metadata": {},
   "outputs": [],
   "source": [
    "from sklearn import datasets\n",
    "from sklearn.model_selection import train_test_split\n",
    "\n",
    "\n",
    "import pickle"
   ]
  },
  {
   "cell_type": "code",
   "execution_count": null,
   "id": "a390c82f-5d02-4309-b8bf-5d055fef3451",
   "metadata": {},
   "outputs": [],
   "source": [
    "# 3.5\n",
    "    # max_samples=0.5 dla 50% instancji"
   ]
  },
  {
   "cell_type": "code",
   "execution_count": 33,
   "id": "0be73389-7f60-41f7-9640-3b76c30c02b7",
   "metadata": {},
   "outputs": [],
   "source": [
    "# method used for saving object as pickle\n",
    "def save_object_as_pickle(obj, filename):\n",
    "    with open(filename, 'wb') as file:\n",
    "        pickle.dump(obj, file, pickle.HIGHEST_PROTOCOL)"
   ]
  },
  {
   "cell_type": "markdown",
   "id": "8dd348a5-fa81-492b-8c69-39eccc814c70",
   "metadata": {
    "jp-MarkdownHeadingCollapsed": true,
    "tags": []
   },
   "source": [
    "## Import the data "
   ]
  },
  {
   "cell_type": "code",
   "execution_count": 2,
   "id": "6a93f21f-2634-4e01-ab56-506bb2d518c8",
   "metadata": {},
   "outputs": [
    {
     "name": "stdout",
     "output_type": "stream",
     "text": [
      ".. _breast_cancer_dataset:\n",
      "\n",
      "Breast cancer wisconsin (diagnostic) dataset\n",
      "--------------------------------------------\n",
      "\n",
      "**Data Set Characteristics:**\n",
      "\n",
      "    :Number of Instances: 569\n",
      "\n",
      "    :Number of Attributes: 30 numeric, predictive attributes and the class\n",
      "\n",
      "    :Attribute Information:\n",
      "        - radius (mean of distances from center to points on the perimeter)\n",
      "        - texture (standard deviation of gray-scale values)\n",
      "        - perimeter\n",
      "        - area\n",
      "        - smoothness (local variation in radius lengths)\n",
      "        - compactness (perimeter^2 / area - 1.0)\n",
      "        - concavity (severity of concave portions of the contour)\n",
      "        - concave points (number of concave portions of the contour)\n",
      "        - symmetry\n",
      "        - fractal dimension (\"coastline approximation\" - 1)\n",
      "\n",
      "        The mean, standard error, and \"worst\" or largest (mean of the three\n",
      "        worst/largest values) of these features were computed for each image,\n",
      "        resulting in 30 features.  For instance, field 0 is Mean Radius, field\n",
      "        10 is Radius SE, field 20 is Worst Radius.\n",
      "\n",
      "        - class:\n",
      "                - WDBC-Malignant\n",
      "                - WDBC-Benign\n",
      "\n",
      "    :Summary Statistics:\n",
      "\n",
      "    ===================================== ====== ======\n",
      "                                           Min    Max\n",
      "    ===================================== ====== ======\n",
      "    radius (mean):                        6.981  28.11\n",
      "    texture (mean):                       9.71   39.28\n",
      "    perimeter (mean):                     43.79  188.5\n",
      "    area (mean):                          143.5  2501.0\n",
      "    smoothness (mean):                    0.053  0.163\n",
      "    compactness (mean):                   0.019  0.345\n",
      "    concavity (mean):                     0.0    0.427\n",
      "    concave points (mean):                0.0    0.201\n",
      "    symmetry (mean):                      0.106  0.304\n",
      "    fractal dimension (mean):             0.05   0.097\n",
      "    radius (standard error):              0.112  2.873\n",
      "    texture (standard error):             0.36   4.885\n",
      "    perimeter (standard error):           0.757  21.98\n",
      "    area (standard error):                6.802  542.2\n",
      "    smoothness (standard error):          0.002  0.031\n",
      "    compactness (standard error):         0.002  0.135\n",
      "    concavity (standard error):           0.0    0.396\n",
      "    concave points (standard error):      0.0    0.053\n",
      "    symmetry (standard error):            0.008  0.079\n",
      "    fractal dimension (standard error):   0.001  0.03\n",
      "    radius (worst):                       7.93   36.04\n",
      "    texture (worst):                      12.02  49.54\n",
      "    perimeter (worst):                    50.41  251.2\n",
      "    area (worst):                         185.2  4254.0\n",
      "    smoothness (worst):                   0.071  0.223\n",
      "    compactness (worst):                  0.027  1.058\n",
      "    concavity (worst):                    0.0    1.252\n",
      "    concave points (worst):               0.0    0.291\n",
      "    symmetry (worst):                     0.156  0.664\n",
      "    fractal dimension (worst):            0.055  0.208\n",
      "    ===================================== ====== ======\n",
      "\n",
      "    :Missing Attribute Values: None\n",
      "\n",
      "    :Class Distribution: 212 - Malignant, 357 - Benign\n",
      "\n",
      "    :Creator:  Dr. William H. Wolberg, W. Nick Street, Olvi L. Mangasarian\n",
      "\n",
      "    :Donor: Nick Street\n",
      "\n",
      "    :Date: November, 1995\n",
      "\n",
      "This is a copy of UCI ML Breast Cancer Wisconsin (Diagnostic) datasets.\n",
      "https://goo.gl/U2Uwz2\n",
      "\n",
      "Features are computed from a digitized image of a fine needle\n",
      "aspirate (FNA) of a breast mass.  They describe\n",
      "characteristics of the cell nuclei present in the image.\n",
      "\n",
      "Separating plane described above was obtained using\n",
      "Multisurface Method-Tree (MSM-T) [K. P. Bennett, \"Decision Tree\n",
      "Construction Via Linear Programming.\" Proceedings of the 4th\n",
      "Midwest Artificial Intelligence and Cognitive Science Society,\n",
      "pp. 97-101, 1992], a classification method which uses linear\n",
      "programming to construct a decision tree.  Relevant features\n",
      "were selected using an exhaustive search in the space of 1-4\n",
      "features and 1-3 separating planes.\n",
      "\n",
      "The actual linear program used to obtain the separating plane\n",
      "in the 3-dimensional space is that described in:\n",
      "[K. P. Bennett and O. L. Mangasarian: \"Robust Linear\n",
      "Programming Discrimination of Two Linearly Inseparable Sets\",\n",
      "Optimization Methods and Software 1, 1992, 23-34].\n",
      "\n",
      "This database is also available through the UW CS ftp server:\n",
      "\n",
      "ftp ftp.cs.wisc.edu\n",
      "cd math-prog/cpo-dataset/machine-learn/WDBC/\n",
      "\n",
      ".. topic:: References\n",
      "\n",
      "   - W.N. Street, W.H. Wolberg and O.L. Mangasarian. Nuclear feature extraction \n",
      "     for breast tumor diagnosis. IS&T/SPIE 1993 International Symposium on \n",
      "     Electronic Imaging: Science and Technology, volume 1905, pages 861-870,\n",
      "     San Jose, CA, 1993.\n",
      "   - O.L. Mangasarian, W.N. Street and W.H. Wolberg. Breast cancer diagnosis and \n",
      "     prognosis via linear programming. Operations Research, 43(4), pages 570-577, \n",
      "     July-August 1995.\n",
      "   - W.H. Wolberg, W.N. Street, and O.L. Mangasarian. Machine learning techniques\n",
      "     to diagnose breast cancer from fine-needle aspirates. Cancer Letters 77 (1994) \n",
      "     163-171.\n"
     ]
    }
   ],
   "source": [
    "data_breast_cancer = datasets.load_breast_cancer(as_frame=True) \n",
    "print(data_breast_cancer['DESCR'])"
   ]
  },
  {
   "cell_type": "code",
   "execution_count": 6,
   "id": "d6f06fa2-7751-464a-869b-fcc0e0550be9",
   "metadata": {},
   "outputs": [],
   "source": [
    "# split the dataset\n",
    "X = data_breast_cancer['data'][['mean texture', 'mean symmetry']]\n",
    "y = data_breast_cancer['frame'].target\n",
    "X_train, X_test, y_train, y_test= train_test_split(X, y, test_size=0.2, random_state=42)"
   ]
  },
  {
   "cell_type": "code",
   "execution_count": null,
   "id": "65438811-8846-4d30-a01d-ab09b6a92a13",
   "metadata": {},
   "outputs": [],
   "source": [
    "# 3 bazowe + voting hard + voting soft ---- tj. razem 5 elementow "
   ]
  },
  {
   "cell_type": "code",
   "execution_count": 8,
   "id": "072b12cb-683d-434a-8f5b-68e9073aded1",
   "metadata": {},
   "outputs": [
    {
     "data": {
      "text/html": [
       "<div>\n",
       "<style scoped>\n",
       "    .dataframe tbody tr th:only-of-type {\n",
       "        vertical-align: middle;\n",
       "    }\n",
       "\n",
       "    .dataframe tbody tr th {\n",
       "        vertical-align: top;\n",
       "    }\n",
       "\n",
       "    .dataframe thead th {\n",
       "        text-align: right;\n",
       "    }\n",
       "</style>\n",
       "<table border=\"1\" class=\"dataframe\">\n",
       "  <thead>\n",
       "    <tr style=\"text-align: right;\">\n",
       "      <th></th>\n",
       "      <th>mean texture</th>\n",
       "      <th>mean symmetry</th>\n",
       "    </tr>\n",
       "  </thead>\n",
       "  <tbody>\n",
       "    <tr>\n",
       "      <th>68</th>\n",
       "      <td>17.33</td>\n",
       "      <td>0.2111</td>\n",
       "    </tr>\n",
       "    <tr>\n",
       "      <th>181</th>\n",
       "      <td>26.57</td>\n",
       "      <td>0.2395</td>\n",
       "    </tr>\n",
       "    <tr>\n",
       "      <th>63</th>\n",
       "      <td>13.86</td>\n",
       "      <td>0.2341</td>\n",
       "    </tr>\n",
       "    <tr>\n",
       "      <th>248</th>\n",
       "      <td>25.22</td>\n",
       "      <td>0.1897</td>\n",
       "    </tr>\n",
       "    <tr>\n",
       "      <th>60</th>\n",
       "      <td>14.88</td>\n",
       "      <td>0.2743</td>\n",
       "    </tr>\n",
       "  </tbody>\n",
       "</table>\n",
       "</div>"
      ],
      "text/plain": [
       "     mean texture  mean symmetry\n",
       "68          17.33         0.2111\n",
       "181         26.57         0.2395\n",
       "63          13.86         0.2341\n",
       "248         25.22         0.1897\n",
       "60          14.88         0.2743"
      ]
     },
     "execution_count": 8,
     "metadata": {},
     "output_type": "execute_result"
    }
   ],
   "source": [
    "X_train.head()"
   ]
  },
  {
   "cell_type": "code",
   "execution_count": 9,
   "id": "cd17905b-bc3b-4dee-8f37-58f1bca91db3",
   "metadata": {},
   "outputs": [
    {
     "data": {
      "text/plain": [
       "68     1\n",
       "181    0\n",
       "63     1\n",
       "248    1\n",
       "60     1\n",
       "Name: target, dtype: int64"
      ]
     },
     "execution_count": 9,
     "metadata": {},
     "output_type": "execute_result"
    }
   ],
   "source": [
    "y_train.head()"
   ]
  },
  {
   "cell_type": "markdown",
   "id": "b9dfa317-5900-44bf-9da3-edcdea43289a",
   "metadata": {
    "tags": []
   },
   "source": [
    "# Ensemble"
   ]
  },
  {
   "cell_type": "code",
   "execution_count": 34,
   "id": "27c36e1f-2c51-4f72-aaff-3a1eceef755b",
   "metadata": {},
   "outputs": [],
   "source": [
    "from sklearn.tree import DecisionTreeClassifier\n",
    "from sklearn.neighbors import KNeighborsClassifier\n",
    "from sklearn.linear_model import LogisticRegression\n",
    "\n",
    "from sklearn.ensemble import VotingClassifier\n",
    "\n",
    "\n",
    "from sklearn.metrics import accuracy_score"
   ]
  },
  {
   "cell_type": "code",
   "execution_count": 40,
   "id": "be62f177-48ae-43a4-987c-cb52325aaa41",
   "metadata": {},
   "outputs": [],
   "source": [
    "dtr_clf = DecisionTreeClassifier(random_state=42)\n",
    "log_clf = LogisticRegression(random_state=42)\n",
    "knn_clf = KNeighborsClassifier()\n",
    "\n",
    "voting_clf_hard = VotingClassifier(\n",
    "    estimators=[('lr', log_clf),\n",
    "                ('dtr', dtr_clf),\n",
    "                ('knn', knn_clf)],\n",
    "    voting='hard')\n",
    "\n",
    "voting_clf_soft = VotingClassifier(\n",
    "    estimators=[('lr', log_clf),\n",
    "                ('dtr', dtr_clf),\n",
    "                ('knn', knn_clf)],\n",
    "    voting='soft')"
   ]
  },
  {
   "cell_type": "markdown",
   "id": "7efb898f-4ade-4c50-8166-aef06d6115ea",
   "metadata": {
    "jp-MarkdownHeadingCollapsed": true,
    "tags": []
   },
   "source": [
    "### Calculate accuracy"
   ]
  },
  {
   "cell_type": "code",
   "execution_count": 41,
   "id": "9ace7dfb-d390-4f37-83a1-57c2625d5d22",
   "metadata": {},
   "outputs": [
    {
     "name": "stdout",
     "output_type": "stream",
     "text": [
      "TRAIN DecisionTreeClassifier 1.0\n",
      "TEST DecisionTreeClassifier 0.6140350877192983\n",
      "TRAIN LogisticRegression 0.7230769230769231\n",
      "TEST LogisticRegression 0.7017543859649122\n",
      "TRAIN KNeighborsClassifier 0.7714285714285715\n",
      "TEST KNeighborsClassifier 0.6403508771929824\n",
      "TRAIN VotingClassifier 0.8351648351648352\n",
      "TEST VotingClassifier 0.6929824561403509\n",
      "TRAIN VotingClassifier 0.9648351648351648\n",
      "TEST VotingClassifier 0.6666666666666666\n"
     ]
    }
   ],
   "source": [
    "acc_list = []\n",
    "\n",
    "for clf in (dtr_clf, log_clf, knn_clf, voting_clf_hard, voting_clf_soft):\n",
    "    clf.fit(X_train, y_train)\n",
    "    y_pred_test = clf.predict(X_test)\n",
    "    y_pred_train = clf.predict(X_train)\n",
    "    train_acc = accuracy_score(y_train, y_pred_train)\n",
    "    test_acc = accuracy_score(y_test, y_pred_test)\n",
    "    print(\"TRAIN\", clf.__class__.__name__,\n",
    "      train_acc)\n",
    "    print(\"TEST\", clf.__class__.__name__,\n",
    "          test_acc)\n",
    "    acc_list.append((train_acc, test_acc))\n",
    "    \n",
    "# WARNING! First voting classifier has 'hard' type of voting\n",
    "# second voting classifier has 'soft' type of voting (it's not the same classifier!)"
   ]
  },
  {
   "cell_type": "code",
   "execution_count": 42,
   "id": "60c804c0-74cc-44c7-a47c-589c6d05b7de",
   "metadata": {},
   "outputs": [
    {
     "name": "stdout",
     "output_type": "stream",
     "text": [
      "(1.0, 0.6140350877192983)\n",
      "(0.7230769230769231, 0.7017543859649122)\n",
      "(0.7714285714285715, 0.6403508771929824)\n",
      "(0.8351648351648352, 0.6929824561403509)\n",
      "(0.9648351648351648, 0.6666666666666666)\n"
     ]
    }
   ],
   "source": [
    "# test if data is properly saved\n",
    "for tup in acc_list:\n",
    "    print(tup)"
   ]
  },
  {
   "cell_type": "markdown",
   "id": "99f02e9f-d27e-412a-84cc-755e8f71f101",
   "metadata": {
    "jp-MarkdownHeadingCollapsed": true,
    "tags": []
   },
   "source": [
    "### Save data in the pickles"
   ]
  },
  {
   "cell_type": "code",
   "execution_count": 43,
   "id": "13b0b9ce-b285-4f0d-a29d-8b248e8ba616",
   "metadata": {},
   "outputs": [],
   "source": [
    "save_object_as_pickle(acc_list, \"acc_vote.pkl\")\n",
    "\n",
    "clf_list = [dtr_clf, log_clf, knn_clf, voting_clf_hard, voting_clf_soft]\n",
    "\n",
    "save_object_as_pickle(clf_list, \"vote.pkl\")"
   ]
  },
  {
   "cell_type": "markdown",
   "id": "5a640c8c-cf26-4050-8957-652f11b48cd2",
   "metadata": {},
   "source": [
    "### Check if data saved properly"
   ]
  },
  {
   "cell_type": "code",
   "execution_count": null,
   "id": "87d28f89-4e07-4dc4-acea-cd919048e926",
   "metadata": {},
   "outputs": [],
   "source": []
  },
  {
   "cell_type": "markdown",
   "id": "dc5389b7-c841-4216-9f3f-08a1bf239e2d",
   "metadata": {
    "tags": []
   },
   "source": [
    "## 30 decision trees:\n",
    "* Bagging,\n",
    "* Bagging z wykorzystaniem 50% instancji,\n",
    "* Pasting,\n",
    "* Pasting z wykorzystaniem 50% instancji, oraz \n",
    "* Random Forest,\n",
    "* AdaBoost,\n",
    "* Gradient Boosting.\n"
   ]
  },
  {
   "cell_type": "code",
   "execution_count": 46,
   "id": "e8800267-5b61-4db9-9ad3-25cad24c809d",
   "metadata": {},
   "outputs": [],
   "source": [
    "from sklearn.ensemble import BaggingClassifier\n",
    "from sklearn.ensemble import RandomForestClassifier"
   ]
  },
  {
   "cell_type": "code",
   "execution_count": 48,
   "id": "0b12994b-672d-43d6-b239-cbd2e87fe7cb",
   "metadata": {},
   "outputs": [],
   "source": [
    "bgn_clf = BaggingClassifier(DecisionTreeClassifier(), n_estimators=30, random_state=42)\n",
    "rnf_clf = RandomForestClassifier(n_estimators=30, random_state=42)"
   ]
  },
  {
   "cell_type": "code",
   "execution_count": null,
   "id": "81564050-91b5-4acf-a2b0-c0c9d083b5f3",
   "metadata": {},
   "outputs": [],
   "source": []
  },
  {
   "cell_type": "code",
   "execution_count": 50,
   "id": "d0a9e482-ab39-4c85-9824-5597b621f428",
   "metadata": {},
   "outputs": [],
   "source": [
    "# Odnosnie zad 7: Tutaj BaggingClassifier z decision tree i max_features=2, \n",
    "# reszta ustawien domyslna trzeba uzyc"
   ]
  }
 ],
 "metadata": {
  "kernelspec": {
   "display_name": "Python 3 (ipykernel)",
   "language": "python",
   "name": "python3"
  },
  "language_info": {
   "codemirror_mode": {
    "name": "ipython",
    "version": 3
   },
   "file_extension": ".py",
   "mimetype": "text/x-python",
   "name": "python",
   "nbconvert_exporter": "python",
   "pygments_lexer": "ipython3",
   "version": "3.9.10"
  }
 },
 "nbformat": 4,
 "nbformat_minor": 5
}
