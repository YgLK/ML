{
 "cells": [
  {
   "cell_type": "code",
   "execution_count": 45,
   "id": "c6dbe155-a2ea-4d84-ad88-bd5fa37df065",
   "metadata": {},
   "outputs": [],
   "source": [
    "import tensorflow as tf\n",
    "import tensorflow.keras as keras\n",
    "import numpy as np\n",
    "import scikeras\n",
    "import os\n",
    "import pickle"
   ]
  },
  {
   "cell_type": "code",
   "execution_count": 46,
   "id": "44ec27fc-b24d-49ed-9a80-9fa2aefe6833",
   "metadata": {},
   "outputs": [],
   "source": [
    "# method used for saving object as pickle\n",
    "def save_object_as_pickle(obj, filename):\n",
    "    with open(filename, 'wb') as file:\n",
    "        pickle.dump(obj, file, pickle.HIGHEST_PROTOCOL)"
   ]
  },
  {
   "cell_type": "code",
   "execution_count": 47,
   "id": "499f9f37-7356-4fb1-9da7-1a2a8560e8a0",
   "metadata": {},
   "outputs": [],
   "source": [
    "# LOAD THE DATA \n",
    "(X_train, y_train), (X_test, y_test) = tf.keras.datasets.boston_housing.load_data()"
   ]
  },
  {
   "cell_type": "markdown",
   "id": "2c59d283-6b0b-486c-bcf2-f03075f169b1",
   "metadata": {},
   "source": [
    "### Tensorboard"
   ]
  },
  {
   "cell_type": "code",
   "execution_count": 3,
   "id": "d65d62ae-10e6-4368-b819-e96572c0e731",
   "metadata": {},
   "outputs": [],
   "source": [
    "root_logdir = os.path.join(os.curdir, \"tb_logs\")\n",
    "def get_run_logdir(parameter, value):\n",
    "    import time\n",
    "    run_id = str(int(time.time())) + \"_\" + parameter + \"_\" + str(value)\n",
    "    return os.path.join(root_logdir, run_id)"
   ]
  },
  {
   "cell_type": "markdown",
   "id": "7b24b3cd-9e67-494a-9b31-224b0fc68f21",
   "metadata": {},
   "source": [
    "#### Callbacks"
   ]
  },
  {
   "cell_type": "code",
   "execution_count": 35,
   "id": "1057df62-8fe8-4058-81d5-5ad7223d3885",
   "metadata": {},
   "outputs": [],
   "source": [
    "def get_callbacks_list(parameter, value):\n",
    "    checkpoint_cb = keras.callbacks.ModelCheckpoint(parameter + \"_\" +  str(value)  + \".h5\")\n",
    "    run_logdir = get_run_logdir(parameter, value)\n",
    "    tensorboard_cb = keras.callbacks.TensorBoard(run_logdir)\n",
    "\n",
    "    early_stopping_cb = keras.callbacks.EarlyStopping(patience=10, min_delta=1.0, monitor=\"loss\")\n",
    "\n",
    "    callbacks_list=[\n",
    "        # checkpoint_cb,\n",
    "        tensorboard_cb,\n",
    "        early_stopping_cb]\n",
    "    return callbacks_list"
   ]
  },
  {
   "cell_type": "markdown",
   "id": "82270bc2-cf51-48fd-9c93-1036c349f45f",
   "metadata": {},
   "source": [
    "### Create build_model method"
   ]
  },
  {
   "cell_type": "code",
   "execution_count": 30,
   "id": "e3aadd84-ca65-4835-ae9c-57d8d1af142c",
   "metadata": {},
   "outputs": [],
   "source": [
    "def build_model(n_hidden=1, n_neurons=25, learning_rate=10e-5, input_shape=[13], optimizer=\"sgd\", momentum=0):\n",
    "    model = keras.models.Sequential() \n",
    "    model.add(keras.layers.InputLayer(input_shape=input_shape)) \n",
    "    for layer in range(n_hidden):\n",
    "        model.add(keras.layers.Dense(n_neurons, activation=\"relu\"))\n",
    "    model.add(keras.layers.Dense(1))\n",
    "    if optimizer == \"sgd\":\n",
    "        optimizer_prep = keras.optimizers.SGD(learning_rate=learning_rate)\n",
    "    elif optimizer == \"nesterov\":\n",
    "        optimizer_prep = keras.optimizers.SGD(learning_rate=learning_rate, nesterov=True, momentum=momentum)\n",
    "    elif optimizer == \"momentum\":\n",
    "        optimizer_prep = keras.optimizers.SGD(learning_rate=learning_rate, momentum=momentum)\n",
    "    elif optimizer == \"adam\":\n",
    "        optimizer_prep = keras.optimizers.Adam(learning_rate=learning_rate)\n",
    "    model.compile(loss=['mse', 'mae'], optimizer=optimizer_prep, metrics=['mse', 'mae'])\n",
    "    return model"
   ]
  },
  {
   "cell_type": "code",
   "execution_count": 6,
   "id": "5a5b6813-8b1b-49ee-9db9-28605318edaa",
   "metadata": {},
   "outputs": [],
   "source": [
    "# model = build_model(input_shape=13)"
   ]
  },
  {
   "cell_type": "code",
   "execution_count": 7,
   "id": "0cd49923-687f-4c3d-a36f-a66507112786",
   "metadata": {},
   "outputs": [],
   "source": [
    "# model.fit(\n",
    "#     X_train,\n",
    "#     y_train,\n",
    "#     epochs=100,\n",
    "#     verbose=1,\n",
    "#     callbacks=callbacks_list\n",
    "# )"
   ]
  },
  {
   "cell_type": "markdown",
   "id": "2940e80c-9173-4570-a69d-4048af52c83e",
   "metadata": {},
   "source": [
    "### Learning rate test "
   ]
  },
  {
   "cell_type": "code",
   "execution_count": 31,
   "id": "706fde8d-41d8-4de4-bcfa-3b9e7a6aa6fc",
   "metadata": {},
   "outputs": [],
   "source": [
    "lr_test = [10**(-6),  10**(-5), 10**(-4)]\n",
    "lr_values = []\n",
    "lr_mse = []\n",
    "lr_mae = []"
   ]
  },
  {
   "cell_type": "code",
   "execution_count": 36,
   "id": "b6bb55a1-a542-4db1-aae8-baf56877bfb9",
   "metadata": {},
   "outputs": [
    {
     "name": "stdout",
     "output_type": "stream",
     "text": [
      "1e-06\n",
      "149.490888376705\n",
      "7.869622339967822\n",
      "-------------\n",
      "1e-05\n",
      "87.8173098986662\n",
      "6.113666208484505\n",
      "-------------\n",
      "0.0001\n",
      "1638718.4870922852\n",
      "47.63900451660156\n",
      "-------------\n"
     ]
    }
   ],
   "source": [
    "# clear TensorFlow session\n",
    "tf.keras.backend.clear_session()\n",
    "np.random.seed(42)\n",
    "tf.random.set_seed(42)\n",
    "\n",
    "# perform tests\n",
    "for lr_val in lr_test:\n",
    "    callbacks_list = get_callbacks_list(\"lr\", lr_val)\n",
    "    model = build_model(input_shape=13, learning_rate=lr_val)\n",
    "    history = model.fit(\n",
    "        X_train, \n",
    "        y_train, \n",
    "        epochs=100, \n",
    "        callbacks=callbacks_list,\n",
    "        verbose=False\n",
    "    )\n",
    "    lr_values.append(lr_val)\n",
    "    print(lr_val)\n",
    "    mse_val = np.mean(history.history['mse']) \n",
    "    lr_mse.append(mse_val)\n",
    "    print(mse_val)\n",
    "    mae_val = np.mean(history.history['mae']) \n",
    "    lr_mae.append(mae_val)\n",
    "    print(mae_val)\n",
    "    print(\"-------------\")\n",
    "    # y_pred = model.predict(X_test)\n",
    "    # mse_test = tf.keras.metrics.mean_squared_error(y_test, y_pred).numpy()\n",
    "    # mae_test = tf.keras.metrics.mean_absolute_error(y_test, y_pred).numpy()\n",
    "    # print(\"mse_test:\", np.mean(mse_test))\n",
    "    # print(\"mse_test:\", np.mean(mae_test))"
   ]
  },
  {
   "cell_type": "markdown",
   "id": "1443925b-ad79-406c-9337-ce0f86e4959e",
   "metadata": {},
   "source": [
    "### Tensorboard analysis"
   ]
  },
  {
   "cell_type": "code",
   "execution_count": 10,
   "id": "443f53e4-67b3-4af6-b563-c42880fae035",
   "metadata": {},
   "outputs": [],
   "source": [
    "# %load_ext tensorboard\n",
    "# %tensorboard --logdir ./my_logs --port=6006"
   ]
  },
  {
   "cell_type": "markdown",
   "id": "6c2fb850-7b67-4e9e-aca0-b5f51c0343bb",
   "metadata": {
    "tags": []
   },
   "source": [
    "### Hidden layers test "
   ]
  },
  {
   "cell_type": "code",
   "execution_count": 11,
   "id": "37b49462-d169-4284-9ba4-0576a964005b",
   "metadata": {
    "tags": []
   },
   "outputs": [],
   "source": [
    "hl_test = [0, 1, 2, 3]\n",
    "hl_values = []\n",
    "hl_mse = []\n",
    "hl_mae = []\n"
   ]
  },
  {
   "cell_type": "code",
   "execution_count": 37,
   "id": "5d011b70-f0ba-4977-845d-7b2bb6dbbb5c",
   "metadata": {},
   "outputs": [
    {
     "name": "stdout",
     "output_type": "stream",
     "text": [
      "0.0001\n",
      "nan\n",
      "nan\n",
      "-------------\n",
      "0.0001\n",
      "4279.35326751709\n",
      "21.78880132675171\n",
      "-------------\n",
      "0.0001\n",
      "857837160898519.0\n",
      "1008718.78875\n",
      "-------------\n",
      "0.0001\n",
      "nan\n",
      "nan\n",
      "-------------\n"
     ]
    }
   ],
   "source": [
    "# clear TensorFlow session\n",
    "tf.keras.backend.clear_session()\n",
    "np.random.seed(42)\n",
    "tf.random.set_seed(42)\n",
    "\n",
    "# perform tests\n",
    "for hl_val in hl_test:\n",
    "    callbacks_list = get_callbacks_list(\"hl\", hl_val)\n",
    "    model = build_model(input_shape=13, n_hidden=hl_val)\n",
    "    history = model.fit(\n",
    "        X_train, \n",
    "        y_train, \n",
    "        epochs=100, \n",
    "        callbacks=callbacks_list,\n",
    "        verbose=False\n",
    "    )\n",
    "    hl_values.append(lr_val)\n",
    "    print(lr_val)\n",
    "    mse_val = np.mean(history.history['mse']) \n",
    "    hl_mse.append(mse_val)\n",
    "    print(mse_val)\n",
    "    mae_val = np.mean(history.history['mae']) \n",
    "    hl_mae.append(mae_val)\n",
    "    print(mae_val)\n",
    "    print(\"-------------\")\n",
    "    # y_pred = model.predict(X_test)\n",
    "    # mse_test = tf.keras.metrics.mean_squared_error(y_test, y_pred).numpy()\n",
    "    # mae_test = tf.keras.metrics.mean_absolute_error(y_test, y_pred).numpy()\n",
    "    # print(\"mse_test:\", np.mean(mse_test))\n",
    "    # print(\"mse_test:\", np.mean(mae_test))"
   ]
  },
  {
   "cell_type": "markdown",
   "id": "3ff941e3-2312-4997-b1a0-0625bc392ebf",
   "metadata": {},
   "source": [
    "### Tensorboard analysis"
   ]
  },
  {
   "cell_type": "code",
   "execution_count": 13,
   "id": "41d588c5-4d80-40d6-b5a7-a02d93098f68",
   "metadata": {},
   "outputs": [],
   "source": [
    "# %load_ext tensorboard\n",
    "# %tensorboard --logdir ./my_logs --port=6006"
   ]
  },
  {
   "cell_type": "markdown",
   "id": "dd6ae845-49a7-4311-9742-eb8fd118e2f6",
   "metadata": {
    "tags": []
   },
   "source": [
    "### N_neurons test "
   ]
  },
  {
   "cell_type": "code",
   "execution_count": 38,
   "id": "03c56ef6-2728-4f73-a0c4-c915f69cc2cb",
   "metadata": {
    "tags": []
   },
   "outputs": [],
   "source": [
    "nn_test = [5, 25, 125]\n",
    "nn_values = []\n",
    "nn_mse = []\n",
    "nn_mae = []\n"
   ]
  },
  {
   "cell_type": "code",
   "execution_count": 39,
   "id": "3deed91b-78b6-49be-9a82-b96e3ec6e4f7",
   "metadata": {},
   "outputs": [
    {
     "name": "stdout",
     "output_type": "stream",
     "text": [
      "5\n",
      "7306.537048950196\n",
      "22.521386528015135\n",
      "-------------\n",
      "25\n",
      "677.59498046875\n",
      "20.260784854888914\n",
      "-------------\n",
      "125\n",
      "1718045.812805786\n",
      "65.11436664581299\n",
      "-------------\n"
     ]
    }
   ],
   "source": [
    "# clear TensorFlow session\n",
    "tf.keras.backend.clear_session()\n",
    "np.random.seed(42)\n",
    "tf.random.set_seed(42)\n",
    "\n",
    "# perform tests\n",
    "for nn_val in nn_test:\n",
    "    callbacks_list = get_callbacks_list(\"nn\", nn_val)\n",
    "    model = build_model(input_shape=13, n_neurons=nn_val)\n",
    "    history = model.fit(\n",
    "        X_train, \n",
    "        y_train, \n",
    "        epochs=100, \n",
    "        callbacks=callbacks_list,\n",
    "        verbose=False\n",
    "    )\n",
    "    nn_values.append(nn_val)\n",
    "    print(nn_val)\n",
    "    mse_val = np.mean(history.history['mse']) \n",
    "    nn_mse.append(mse_val)\n",
    "    print(mse_val)\n",
    "    mae_val = np.mean(history.history['mae']) \n",
    "    nn_mae.append(mae_val)\n",
    "    print(mae_val)\n",
    "    print(\"-------------\")\n",
    "    # y_pred = model.predict(X_test)\n",
    "    # mse_test = tf.keras.metrics.mean_squared_error(y_test, y_pred).numpy()\n",
    "    # mae_test = tf.keras.metrics.mean_absolute_error(y_test, y_pred).numpy()\n",
    "    # print(\"mse_test:\", np.mean(mse_test))\n",
    "    # print(\"mse_test:\", np.mean(mae_test))"
   ]
  },
  {
   "cell_type": "markdown",
   "id": "7182bfab-11cf-43f9-aef4-8b670071879f",
   "metadata": {
    "tags": []
   },
   "source": [
    "### Tensorboard analysis"
   ]
  },
  {
   "cell_type": "code",
   "execution_count": 16,
   "id": "0c475e3b-06f2-4408-aaf8-58bfcdc97483",
   "metadata": {},
   "outputs": [],
   "source": [
    "# %load_ext tensorboard\n",
    "# %tensorboard --logdir ./my_logs --port=6006"
   ]
  },
  {
   "cell_type": "markdown",
   "id": "8041273c-2d03-40bb-b14d-9a3d03167818",
   "metadata": {
    "tags": []
   },
   "source": [
    "### Optimization algorithm test "
   ]
  },
  {
   "cell_type": "code",
   "execution_count": 40,
   "id": "8c72500e-3c66-43df-89c3-510eeed5e0f9",
   "metadata": {
    "tags": []
   },
   "outputs": [],
   "source": [
    "opt_test = [\"sgd\", \"nesterov\", \"momentum\", \"adam\"]\n",
    "opt_values = []\n",
    "opt_mse = []\n",
    "opt_mae = []"
   ]
  },
  {
   "cell_type": "code",
   "execution_count": 41,
   "id": "a46013fa-d4f5-4e2d-80f7-5b42974075ef",
   "metadata": {},
   "outputs": [
    {
     "name": "stdout",
     "output_type": "stream",
     "text": [
      "sgd\n",
      "887376.3902449035\n",
      "40.206524477005004\n",
      "-------------\n",
      "nesterov\n",
      "677.59498046875\n",
      "20.260784854888914\n",
      "-------------\n",
      "momentum\n",
      "1638718.4870922852\n",
      "47.63900451660156\n",
      "-------------\n",
      "adam\n",
      "8497.9223828125\n",
      "63.36647847175598\n",
      "-------------\n"
     ]
    }
   ],
   "source": [
    "# clear TensorFlow session\n",
    "tf.keras.backend.clear_session()\n",
    "np.random.seed(42)\n",
    "tf.random.set_seed(42)\n",
    "\n",
    "# perform tests\n",
    "for opt_val in opt_test:\n",
    "    callbacks_list = get_callbacks_list(\"opt\", opt_val)\n",
    "    model = build_model(input_shape=13, optimizer=opt_val)\n",
    "    history = model.fit(\n",
    "        X_train, \n",
    "        y_train, \n",
    "        epochs=100, \n",
    "        callbacks=callbacks_list,\n",
    "        verbose=False\n",
    "    )\n",
    "    opt_values.append(opt_val)\n",
    "    print(opt_val)\n",
    "    mse_val = np.mean(history.history['mse']) \n",
    "    opt_mse.append(mse_val)\n",
    "    print(mse_val)\n",
    "    mae_val = np.mean(history.history['mae']) \n",
    "    opt_mae.append(mae_val)\n",
    "    print(mae_val)\n",
    "    print(\"-------------\")\n",
    "    # y_pred = model.predict(X_test)\n",
    "    # mse_test = tf.keras.metrics.mean_squared_error(y_test, y_pred).numpy()\n",
    "    # mae_test = tf.keras.metrics.mean_absolute_error(y_test, y_pred).numpy()\n",
    "    # print(\"mse_test:\", np.mean(mse_test))\n",
    "    # print(\"mse_test:\", np.mean(mae_test))"
   ]
  },
  {
   "cell_type": "markdown",
   "id": "aec4e9cb-77e6-43d9-9a48-248feb100f70",
   "metadata": {
    "tags": []
   },
   "source": [
    "### Tensorboard analysis"
   ]
  },
  {
   "cell_type": "code",
   "execution_count": 19,
   "id": "4523c620-5f1b-4acd-9935-26dc8c097788",
   "metadata": {},
   "outputs": [],
   "source": [
    "# %load_ext tensorboard\n",
    "# %tensorboard --logdir ./my_logs --port=6006"
   ]
  },
  {
   "cell_type": "markdown",
   "id": "5d649af1-76c9-4acc-862c-7236b238b997",
   "metadata": {
    "tags": []
   },
   "source": [
    "### Momentum test "
   ]
  },
  {
   "cell_type": "code",
   "execution_count": 42,
   "id": "8baed441-ca25-4170-b1b6-2dc0fd8ecd38",
   "metadata": {
    "tags": []
   },
   "outputs": [],
   "source": [
    "mom_test = [0.1, 0.5, 0.9]\n",
    "mom_values = []\n",
    "mom_mse = []\n",
    "mom_mae = []"
   ]
  },
  {
   "cell_type": "code",
   "execution_count": 43,
   "id": "ce94eae2-a195-497a-8ccd-62319b735090",
   "metadata": {},
   "outputs": [
    {
     "name": "stdout",
     "output_type": "stream",
     "text": [
      "0.1\n",
      "887354.2638946533\n",
      "39.43483898162842\n",
      "-------------\n",
      "0.5\n",
      "599.756106262207\n",
      "18.06650921821594\n",
      "-------------\n",
      "0.9\n",
      "1639428.7137620545\n",
      "60.61562658309936\n",
      "-------------\n"
     ]
    }
   ],
   "source": [
    "# clear TensorFlow session\n",
    "tf.keras.backend.clear_session()\n",
    "np.random.seed(42)\n",
    "tf.random.set_seed(42)\n",
    "\n",
    "# perform tests\n",
    "for mom_val in mom_test:\n",
    "    callbacks_list = get_callbacks_list(\"mom\", mom_val)\n",
    "    model = build_model(input_shape=13, optimizer='momentum', momentum=mom_val)\n",
    "    history = model.fit(\n",
    "        X_train, \n",
    "        y_train, \n",
    "        epochs=100, \n",
    "        callbacks=callbacks_list,\n",
    "        verbose=False\n",
    "    )\n",
    "    mom_values.append(mom_val)\n",
    "    print(mom_val)\n",
    "    mse_val = np.mean(history.history['mse']) \n",
    "    mom_mse.append(mse_val)\n",
    "    print(mse_val)\n",
    "    mae_val = np.mean(history.history['mae']) \n",
    "    mom_mae.append(mae_val)\n",
    "    print(mae_val)\n",
    "    print(\"-------------\")\n",
    "    # y_pred = model.predict(X_test)\n",
    "    # mse_test = tf.keras.metrics.mean_squared_error(y_test, y_pred).numpy()\n",
    "    # mae_test = tf.keras.metrics.mean_absolute_error(y_test, y_pred).numpy()\n",
    "    # print(\"mse_test:\", np.mean(mse_test))\n",
    "    # print(\"mse_test:\", np.mean(mae_test))"
   ]
  },
  {
   "cell_type": "markdown",
   "id": "c11aa7fb-49f5-4113-8dc0-d208ef88dd78",
   "metadata": {
    "tags": []
   },
   "source": [
    "### Tensorboard analysis"
   ]
  },
  {
   "cell_type": "code",
   "execution_count": 44,
   "id": "a3dcbd21-f425-48e1-9998-019e5ca92a37",
   "metadata": {},
   "outputs": [],
   "source": [
    "# %load_ext tensorboard\n",
    "# %tensorboard --logdir ./tb_logs --port=6006"
   ]
  },
  {
   "cell_type": "markdown",
   "id": "808cbaa7-9b21-41f9-986c-9720b441143a",
   "metadata": {},
   "source": [
    "## Save values in pickle"
   ]
  },
  {
   "cell_type": "code",
   "execution_count": 49,
   "id": "8ad3f1f2-bd58-4da1-95a4-881585be3488",
   "metadata": {},
   "outputs": [
    {
     "name": "stdout",
     "output_type": "stream",
     "text": [
      "[(1e-06, 149.490888376705, 7.869622339967822), (1e-05, 87.8173098986662, 6.113666208484505), (0.0001, 1638718.4870922852, 47.63900451660156)]\n"
     ]
    }
   ],
   "source": [
    "# learning rate\n",
    "lr_data = []\n",
    "for i in range(len(lr_test)):\n",
    "    lr_data.append((lr_values[i], lr_mse[i], lr_mae[i]))\n",
    "\n",
    "print(lr_data)\n",
    "save_object_as_pickle(lr_data, \"lr.pkl\")"
   ]
  },
  {
   "cell_type": "code",
   "execution_count": 50,
   "id": "bb2d1b4f-5bae-4e44-825b-a47392313a91",
   "metadata": {},
   "outputs": [
    {
     "name": "stdout",
     "output_type": "stream",
     "text": [
      "[(0.0001, nan, nan), (0.0001, 4279.35326751709, 21.78880132675171), (0.0001, 857837160898519.0, 1008718.78875), (0.0001, nan, nan)]\n"
     ]
    }
   ],
   "source": [
    "# hidden layers \n",
    "hl_data = []\n",
    "for i in range(len(hl_test)):\n",
    "    hl_data.append((hl_values[i], hl_mse[i], hl_mae[i]))\n",
    "\n",
    "print(hl_data)\n",
    "save_object_as_pickle(hl_data, \"hl.pkl\")"
   ]
  },
  {
   "cell_type": "code",
   "execution_count": 51,
   "id": "8f9046e3-129e-4c71-8a24-b7a1f9f610dd",
   "metadata": {},
   "outputs": [
    {
     "name": "stdout",
     "output_type": "stream",
     "text": [
      "[(5, 7306.537048950196, 22.521386528015135), (25, 677.59498046875, 20.260784854888914), (125, 1718045.812805786, 65.11436664581299)]\n"
     ]
    }
   ],
   "source": [
    "# n_neurons\n",
    "nn_data = []\n",
    "for i in range(len(nn_test)):\n",
    "    nn_data.append((nn_values[i], nn_mse[i], nn_mae[i]))\n",
    "\n",
    "print(nn_data)\n",
    "save_object_as_pickle(nn_data, \"nn.pkl\")"
   ]
  },
  {
   "cell_type": "code",
   "execution_count": 56,
   "id": "895a73dd-6c52-428b-9fc0-3bb18b047112",
   "metadata": {},
   "outputs": [
    {
     "name": "stdout",
     "output_type": "stream",
     "text": [
      "[('sgd', 887376.3902449035, 40.206524477005004), ('nesterov', 677.59498046875, 20.260784854888914), ('momentum', 1638718.4870922852, 47.63900451660156), ('adam', 8497.9223828125, 63.36647847175598)]\n"
     ]
    }
   ],
   "source": [
    "# optimization\n",
    "opt_data = []\n",
    "for i in range(len(opt_test)):\n",
    "    opt_data.append((opt_values[i], opt_mse[i], opt_mae[i]))\n",
    "\n",
    "print(opt_data)\n",
    "save_object_as_pickle(opt_data, \"nn.pkl\")"
   ]
  },
  {
   "cell_type": "code",
   "execution_count": 59,
   "id": "5226acc2-486d-4e2a-8318-b36ccd09ee2b",
   "metadata": {},
   "outputs": [
    {
     "name": "stdout",
     "output_type": "stream",
     "text": [
      "[(0.1, 887354.2638946533, 39.43483898162842), (0.5, 599.756106262207, 18.06650921821594), (0.9, 1639428.7137620545, 60.61562658309936)]\n"
     ]
    }
   ],
   "source": [
    "# momentum\n",
    "mom_data = []\n",
    "for i in range(len(mom_test)):\n",
    "    mom_data.append((mom_values[i], mom_mse[i], mom_mae[i]))\n",
    "\n",
    "print(mom_data)\n",
    "save_object_as_pickle(mom_data, \"mom.pkl\")"
   ]
  },
  {
   "cell_type": "markdown",
   "id": "222f2d32-4504-4fef-a15c-1c1a5f51b2e8",
   "metadata": {},
   "source": [
    "### TASK 2.2"
   ]
  },
  {
   "cell_type": "code",
   "execution_count": 60,
   "id": "dafedefe-e42b-4d29-860a-470cb1b81076",
   "metadata": {},
   "outputs": [],
   "source": [
    "# TODO"
   ]
  }
 ],
 "metadata": {
  "kernelspec": {
   "display_name": "Python 3 (ipykernel)",
   "language": "python",
   "name": "python3"
  },
  "language_info": {
   "codemirror_mode": {
    "name": "ipython",
    "version": 3
   },
   "file_extension": ".py",
   "mimetype": "text/x-python",
   "name": "python",
   "nbconvert_exporter": "python",
   "pygments_lexer": "ipython3",
   "version": "3.9.7"
  }
 },
 "nbformat": 4,
 "nbformat_minor": 5
}
